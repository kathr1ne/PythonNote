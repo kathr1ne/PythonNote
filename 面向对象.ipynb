{
 "cells": [
  {
   "cell_type": "markdown",
   "metadata": {},
   "source": [
    "# 面向对象\n",
    "\n",
    "一种人事世界、分析四届的方法论。将万事万物抽象为各种对象。（区别于面向过程）\n",
    "\n",
    "  - 类 calss (分类)\n",
    "    - 一类事物共同特征的集合\n",
    "    - 用计算机语言来面熟类，是**属性**和**方法**的集合\n",
    "    \n",
    "  - 对象 instance、object\n",
    "    - 对象是类的具象，是一个实体\n",
    "    \n",
    "  - 属性\n",
    "    - 对对象状态的抽象，用**数据结构**来描述(e.g: 身高(整型、浮点型) 体重...)\n",
    "  - 操作\n",
    "    - 对对象行为的抽象，用操作名和实现该操作的**方法**来描述\n",
    "  \n",
    "  - 哲学\n",
    "    - 一切皆对象\n",
    "    - 对象是数据和操作的封装\n",
    "    - 对象是独立的，但是对象之间可以相互作用\n",
    "    - 目前OOP是最接近人类认知的编程范式\n",
    "    \n",
    "## 面向对象3要素\n",
    "\n",
    "  - 封装\n",
    "    - 组装：将数据和操作组装到一起\n",
    "    - 隐藏数据：暴露想暴露的，隐藏不需要暴露的；适当隐藏数据\n",
    "  \n",
    "  - 继承\n",
    "    - 多复用，继承来的就不用自己写了\n",
    "    - 多继承少修改，OCP(Open-closed Principle)，使用继承来改变，来体现个性\n",
    " \n",
    "  - 多态\n",
    "    - 面向对象编程最灵活的地方，动态绑定\n",
    "    \n",
    "\n",
    "人类就是封装；\n",
    "人类继承自动物类，孩子继承父母特征。分为单一继承、多继承；\n",
    "多态，继承自动物类的人类、猫类的操作(方法)\"吃\"不同\n",
    "\n",
    "## 封装\n",
    "\n",
    "封装就是定义类，将属性和操作（方法）组织在类中\n",
    "\n",
    "```python\n",
    "class ClassName:\n",
    "    语句块\n",
    "```\n",
    "1. 必须使用class关键字\n",
    "2. 类名强烈建议使用**大驼峰**命名方式，即每个单词首字母大写。其本质上就是一个标识符\n",
    "3. 类定义完成后，就产生了一个**类对象**，绑定到了标识符ClassName上\n"
   ]
  },
  {
   "cell_type": "code",
   "execution_count": 7,
   "metadata": {},
   "outputs": [],
   "source": [
    "class Person:    # 类对象，作用域\n",
    "    \"\"\"Person doc\"\"\"\n",
    "    x = 100    # 类属性 标识符\n",
    "    \n",
    "    def showx(self):    # 方法 method，本质是函数(def) 标识符\n",
    "        print(__class__.__name__)\n",
    "    # showx = lambda self: pass  # js用这种比较多\n",
    "\n",
    "# 只有变量标识符，类属性也称为类变量，可以更改"
   ]
  },
  {
   "cell_type": "code",
   "execution_count": 10,
   "metadata": {},
   "outputs": [
    {
     "name": "stdout",
     "output_type": "stream",
     "text": [
      "Person <class '__main__.Person'> Person doc\n"
     ]
    }
   ],
   "source": [
    "print(Person.__name__, Person, Person.__doc__)"
   ]
  },
  {
   "cell_type": "code",
   "execution_count": 11,
   "metadata": {},
   "outputs": [
    {
     "data": {
      "text/plain": [
       "str"
      ]
     },
     "execution_count": 11,
     "metadata": {},
     "output_type": "execute_result"
    }
   ],
   "source": [
    "type(Person.__name__)"
   ]
  },
  {
   "cell_type": "code",
   "execution_count": 12,
   "metadata": {},
   "outputs": [
    {
     "data": {
      "text/plain": [
       "100"
      ]
     },
     "execution_count": 12,
     "metadata": {},
     "output_type": "execute_result"
    }
   ],
   "source": [
    "Person.x    # x使用限定名来访问，类把它限定了"
   ]
  },
  {
   "cell_type": "code",
   "execution_count": 14,
   "metadata": {},
   "outputs": [
    {
     "data": {
      "text/plain": [
       "<function __main__.Person.showx(self)>"
      ]
     },
     "execution_count": 14,
     "metadata": {},
     "output_type": "execute_result"
    }
   ],
   "source": [
    "Person.showx    \n",
    "# 本质也是个类属性\n",
    "# 方法定义在类中，本质就是类属性，也是标识符"
   ]
  },
  {
   "cell_type": "markdown",
   "metadata": {},
   "source": [
    "* 实例化"
   ]
  },
  {
   "cell_type": "code",
   "execution_count": 15,
   "metadata": {},
   "outputs": [],
   "source": [
    "# 实例化\n",
    "a = Person()    \n",
    "# 在类对象（类标识符）后面加括号 => 类的对象（类的实例）\n",
    "# 类()  => 类的实例，类的对象 object或instance\n"
   ]
  },
  {
   "cell_type": "code",
   "execution_count": 18,
   "metadata": {},
   "outputs": [
    {
     "data": {
      "text/plain": [
       "(<__main__.Person at 0x1f16b9c0988>, __main__.Person)"
      ]
     },
     "execution_count": 18,
     "metadata": {},
     "output_type": "execute_result"
    }
   ],
   "source": [
    "a, Person"
   ]
  },
  {
   "cell_type": "code",
   "execution_count": 20,
   "metadata": {},
   "outputs": [],
   "source": [
    "tom = Person()\n",
    "jerry = Person()    \n",
    "# 通常 除单例模式外，每一次实例化得到的是不同的、完全独立的实例\n",
    "# 类是模板，用模子构造不通的实例"
   ]
  },
  {
   "cell_type": "code",
   "execution_count": 22,
   "metadata": {},
   "outputs": [
    {
     "data": {
      "text/plain": [
       "(<__main__.Person at 0x1f16b9c0988>,\n",
       " <__main__.Person at 0x1f16b975a08>,\n",
       " <__main__.Person at 0x1f16b975808>)"
      ]
     },
     "execution_count": 22,
     "metadata": {},
     "output_type": "execute_result"
    }
   ],
   "source": [
    "a, tom, jerry"
   ]
  },
  {
   "cell_type": "markdown",
   "metadata": {},
   "source": [
    "# 实例化 分2个阶段\n",
    "\n",
    "## 1. 实例化\n",
    "从无到有，没有车到有一辆车，客户不能用这个车\n",
    "**产生实例**\n",
    "\n",
    "```python\n",
    "__new__ 魔术方法   # 可以不写 调父类\n",
    "\n",
    "```\n",
    "\n",
    "## 2. 初始化 \n",
    "出厂配置\n",
    "**用实例做配置**\n",
    "\n",
    "```python\n",
    "__init__ 初始化, 构造函数、构造器    # 可以不写 调父类\n",
    "```"
   ]
  },
  {
   "cell_type": "code",
   "execution_count": 23,
   "metadata": {},
   "outputs": [],
   "source": [
    "class Person:\n",
    "    def __init__(self, name):\n",
    "        print('init...')\n",
    "        self.name = name"
   ]
  },
  {
   "cell_type": "code",
   "execution_count": 25,
   "metadata": {},
   "outputs": [
    {
     "name": "stdout",
     "output_type": "stream",
     "text": [
      "<class '__main__.Person'>\n",
      "<function Person.__init__ at 0x000001F16B9C10D8>\n"
     ]
    },
    {
     "data": {
      "text/plain": [
       "(None, None)"
      ]
     },
     "execution_count": 25,
     "metadata": {},
     "output_type": "execute_result"
    }
   ],
   "source": [
    "print(Person), print(Person.__init__)"
   ]
  },
  {
   "cell_type": "code",
   "execution_count": 27,
   "metadata": {},
   "outputs": [
    {
     "name": "stdout",
     "output_type": "stream",
     "text": [
      "init...\n"
     ]
    },
    {
     "data": {
      "text/plain": [
       "<__main__.Person at 0x1f16b9cea88>"
      ]
     },
     "execution_count": 27,
     "metadata": {},
     "output_type": "execute_result"
    }
   ],
   "source": [
    "Person('tom')    \n",
    "# 构建一个真正的内存中的实例出来；把实例交给初始化函数处理"
   ]
  },
  {
   "cell_type": "code",
   "execution_count": 33,
   "metadata": {},
   "outputs": [],
   "source": [
    "class Person:\n",
    "    # 初始化方法；魔术方法(前后2条下划线)。类属性\n",
    "    # __init__方法 拿着实例做配置\n",
    "    def __init__(self, name, age=10): \n",
    "        self.name = name\n",
    "        self.age = age\n",
    "    \n",
    "    def showage(self):    # 普通方法；类属性（类变量） \n",
    "        return \"{} is {} years old\".format(self.name, self.age)"
   ]
  },
  {
   "cell_type": "code",
   "execution_count": 34,
   "metadata": {},
   "outputs": [
    {
     "name": "stdout",
     "output_type": "stream",
     "text": [
      "Tom 10\n"
     ]
    }
   ],
   "source": [
    "tom = Person('Tom') # 构造了一个实例（一个对象）\n",
    "print(tom.name, tom.age)"
   ]
  },
  {
   "cell_type": "code",
   "execution_count": 36,
   "metadata": {},
   "outputs": [
    {
     "name": "stdout",
     "output_type": "stream",
     "text": [
      "Tom is 10 years old\n"
     ]
    }
   ],
   "source": [
    "print(tom.showage())"
   ]
  },
  {
   "cell_type": "code",
   "execution_count": 38,
   "metadata": {},
   "outputs": [],
   "source": [
    "jerry = Person('Jerry', 15)    # 返回一个实例"
   ]
  },
  {
   "cell_type": "code",
   "execution_count": 40,
   "metadata": {},
   "outputs": [
    {
     "name": "stdout",
     "output_type": "stream",
     "text": [
      "<__main__.Person object at 0x000001F16B9E58C8> Jerry 15\n"
     ]
    }
   ],
   "source": [
    "print(jerry, jerry.name, jerry.age)"
   ]
  },
  {
   "cell_type": "code",
   "execution_count": 42,
   "metadata": {},
   "outputs": [
    {
     "name": "stdout",
     "output_type": "stream",
     "text": [
      "<__main__.Person object at 0x000001F16B9E1288> Tom 10\n"
     ]
    }
   ],
   "source": [
    "print(tom, tom.name, tom.age)"
   ]
  },
  {
   "cell_type": "code",
   "execution_count": 44,
   "metadata": {},
   "outputs": [
    {
     "name": "stdout",
     "output_type": "stream",
     "text": [
      "<__main__.Person object at 0x000001F16B9DD588> Jerry 15\n"
     ]
    }
   ],
   "source": [
    "jerry1 = Person('Jerry', 15)\n",
    "print(jerry1, jerry1.name, jerry1.age)"
   ]
  },
  {
   "cell_type": "markdown",
   "metadata": {},
   "source": [
    "**self 永远都指代当前实例自身。**"
   ]
  },
  {
   "cell_type": "code",
   "execution_count": 69,
   "metadata": {},
   "outputs": [
    {
     "name": "stdout",
     "output_type": "stream",
     "text": [
      "1 init... 2136404163272\n",
      "2 2136404163272\n",
      "3 showself 2136404163272\n"
     ]
    }
   ],
   "source": [
    "class Person:\n",
    "    def __init__(self):\n",
    "        print('1 init...', id(self))\n",
    "        self.color = 'red'\n",
    "        # return None    init方法不能有返回值 只能return None\n",
    "        \n",
    "    def showself(self):\n",
    "        print('3 showself', id(self))\n",
    "\n",
    "#  x = Person.__new__()    实例化\n",
    "#  x.__init__()            初始化\n",
    "#  ...\n",
    "#  return x\n",
    "\n",
    "# 右边做 实例化(产生一个实例)、初始化(__init__，趁热把当前实例传入)，\n",
    "# 初始化过程完成，返回一个实例，赋值给变量t        \n",
    "t = Person()       # id(t) == id(self)   \n",
    "print(2, id(t))\n",
    "t.showself() \n"
   ]
  },
  {
   "cell_type": "code",
   "execution_count": 51,
   "metadata": {},
   "outputs": [
    {
     "data": {
      "text/plain": [
       "<function __main__.Person.showself(self)>"
      ]
     },
     "execution_count": 51,
     "metadata": {},
     "output_type": "execute_result"
    }
   ],
   "source": [
    "Person.showself    # 没有绑定效果"
   ]
  },
  {
   "cell_type": "code",
   "execution_count": 52,
   "metadata": {},
   "outputs": [
    {
     "data": {
      "text/plain": [
       "<bound method Person.showself of <__main__.Person object at 0x000001F16B9B8088>>"
      ]
     },
     "execution_count": 52,
     "metadata": {},
     "output_type": "execute_result"
    }
   ],
   "source": [
    "t.showself    # t 调用方法，方法绑定，把t实例绑在了方法上"
   ]
  },
  {
   "cell_type": "code",
   "execution_count": 57,
   "metadata": {},
   "outputs": [
    {
     "name": "stdout",
     "output_type": "stream",
     "text": [
      "3 showself 2136404161864\n"
     ]
    }
   ],
   "source": [
    "t.showself()\n",
    "# 实例调用 类的方法时，实例有绑定，把实例自身t 作为第一参数注入"
   ]
  },
  {
   "cell_type": "code",
   "execution_count": null,
   "metadata": {},
   "outputs": [],
   "source": [
    "# 绑定 解决第一参数注入问题\n",
    "# __init__ 初始化函数不能有返回值 只能返回None"
   ]
  },
  {
   "cell_type": "code",
   "execution_count": 63,
   "metadata": {},
   "outputs": [
    {
     "name": "stdout",
     "output_type": "stream",
     "text": [
      "1 init... 2136404328712\n"
     ]
    }
   ],
   "source": [
    "t1 = Person()"
   ]
  },
  {
   "cell_type": "code",
   "execution_count": 64,
   "metadata": {},
   "outputs": [
    {
     "name": "stdout",
     "output_type": "stream",
     "text": [
      "3 showself 2136404328712\n"
     ]
    }
   ],
   "source": [
    "t1.showself()"
   ]
  },
  {
   "cell_type": "code",
   "execution_count": 70,
   "metadata": {},
   "outputs": [],
   "source": [
    "class Person:\n",
    "    age = 10\n",
    "    def __init__(self, name):\n",
    "        self.name = name    # 动态增加属性（给当前实例） 实例属性\n",
    "        \n",
    "    def showage(self):\n",
    "        print('{} is {} years old'.format(self.name, self.age))\n",
    "        "
   ]
  },
  {
   "cell_type": "code",
   "execution_count": 72,
   "metadata": {},
   "outputs": [
    {
     "name": "stdout",
     "output_type": "stream",
     "text": [
      "Tom 10\n"
     ]
    }
   ],
   "source": [
    "tom = Person('Tom')\n",
    "print(tom.name, tom.age)    # 是类的 就是大家的\n",
    "# 类属性是所有实例可以共享的属性。实例没有 就用类属性"
   ]
  },
  {
   "cell_type": "code",
   "execution_count": 74,
   "metadata": {},
   "outputs": [
    {
     "name": "stdout",
     "output_type": "stream",
     "text": [
      "Tom is 10 years old\n"
     ]
    }
   ],
   "source": [
    "tom.showage()  # 绑定"
   ]
  },
  {
   "cell_type": "code",
   "execution_count": 76,
   "metadata": {},
   "outputs": [
    {
     "ename": "AttributeError",
     "evalue": "type object 'Person' has no attribute 'name'",
     "output_type": "error",
     "traceback": [
      "\u001b[1;31m---------------------------------------------------------------------------\u001b[0m",
      "\u001b[1;31mAttributeError\u001b[0m                            Traceback (most recent call last)",
      "\u001b[1;32m<ipython-input-76-d6ea30305f24>\u001b[0m in \u001b[0;36m<module>\u001b[1;34m\u001b[0m\n\u001b[1;32m----> 1\u001b[1;33m \u001b[0mPerson\u001b[0m\u001b[1;33m.\u001b[0m\u001b[0mname\u001b[0m\u001b[1;33m\u001b[0m\u001b[1;33m\u001b[0m\u001b[0m\n\u001b[0m",
      "\u001b[1;31mAttributeError\u001b[0m: type object 'Person' has no attribute 'name'"
     ]
    }
   ],
   "source": [
    "Person.name  # 实例属性 不能通过类来访问"
   ]
  },
  {
   "cell_type": "code",
   "execution_count": 77,
   "metadata": {},
   "outputs": [],
   "source": [
    "jerry = Person('Jerry')"
   ]
  },
  {
   "cell_type": "code",
   "execution_count": 78,
   "metadata": {},
   "outputs": [
    {
     "name": "stdout",
     "output_type": "stream",
     "text": [
      "Jerry 10\n"
     ]
    }
   ],
   "source": [
    "print(jerry.name, jerry.age)"
   ]
  },
  {
   "cell_type": "code",
   "execution_count": 79,
   "metadata": {},
   "outputs": [],
   "source": [
    "Person.age = 30"
   ]
  },
  {
   "cell_type": "code",
   "execution_count": 80,
   "metadata": {},
   "outputs": [
    {
     "data": {
      "text/plain": [
       "(30, 30, 30)"
      ]
     },
     "execution_count": 80,
     "metadata": {},
     "output_type": "execute_result"
    }
   ],
   "source": [
    "Person.age, tom.age, jerry.age"
   ]
  },
  {
   "cell_type": "markdown",
   "metadata": {},
   "source": [
    "**实例变量是每一个实例自己的变量，是自己独有的**\n",
    "**类变量是类的变量，是类的所有实例共享的属性或方法**\n",
    "\n",
    "* 特殊属性\n",
    "__name__        对象名\n",
    "__class__       对象的类型\n",
    "__dict__        对象的属性的字典(类属性字典|实例属性字典)\n",
    "__qualname__    类的限定名"
   ]
  },
  {
   "cell_type": "code",
   "execution_count": 219,
   "metadata": {},
   "outputs": [],
   "source": [
    "class Person:\n",
    "    age = 10\n",
    "    def __init__(self, name):\n",
    "        self.name = name    # 动态增加属性（给当前实例） 实例属性\n",
    "        \n",
    "    def showage(self):\n",
    "        print('{} is {} years old'.format(self.name, self.age))"
   ]
  },
  {
   "cell_type": "code",
   "execution_count": 224,
   "metadata": {},
   "outputs": [
    {
     "data": {
      "text/plain": [
       "10"
      ]
     },
     "execution_count": 224,
     "metadata": {},
     "output_type": "execute_result"
    }
   ],
   "source": [
    "Person('tom').age"
   ]
  },
  {
   "cell_type": "code",
   "execution_count": 90,
   "metadata": {},
   "outputs": [
    {
     "data": {
      "text/plain": [
       "(type, True)"
      ]
     },
     "execution_count": 90,
     "metadata": {},
     "output_type": "execute_result"
    }
   ],
   "source": [
    "Person.__class__, Person.__class__ is type(Person)"
   ]
  },
  {
   "cell_type": "code",
   "execution_count": 88,
   "metadata": {},
   "outputs": [
    {
     "name": "stdout",
     "output_type": "stream",
     "text": [
      "<class '__main__.Person'> <class 'type'>\n"
     ]
    }
   ],
   "source": [
    "print(Person, type(Person))\n",
    "# 类对象是元类(构造类的类)的对象"
   ]
  },
  {
   "cell_type": "code",
   "execution_count": 87,
   "metadata": {},
   "outputs": [
    {
     "data": {
      "text/plain": [
       "(type, type, type, type)"
      ]
     },
     "execution_count": 87,
     "metadata": {},
     "output_type": "execute_result"
    }
   ],
   "source": [
    "type(int), type(str), type(list), type(type)\n",
    "# 所有class的元类 都是type，所有class都是由 type 这个元类构造出来的类对象\n",
    "# 都是元类 type 的 实例"
   ]
  },
  {
   "cell_type": "code",
   "execution_count": 93,
   "metadata": {},
   "outputs": [
    {
     "data": {
      "text/plain": [
       "('Person', None)"
      ]
     },
     "execution_count": 93,
     "metadata": {},
     "output_type": "execute_result"
    }
   ],
   "source": [
    "Person.__name__, Person.__doc__"
   ]
  },
  {
   "cell_type": "code",
   "execution_count": 94,
   "metadata": {},
   "outputs": [],
   "source": [
    "tom = Person('Tom')"
   ]
  },
  {
   "cell_type": "code",
   "execution_count": 96,
   "metadata": {},
   "outputs": [
    {
     "data": {
      "text/plain": [
       "(__main__.Person, __main__.Person, True)"
      ]
     },
     "execution_count": 96,
     "metadata": {},
     "output_type": "execute_result"
    }
   ],
   "source": [
    "type(tom), tom.__class__, type(tom) is tom.__class__"
   ]
  },
  {
   "cell_type": "code",
   "execution_count": 99,
   "metadata": {},
   "outputs": [
    {
     "data": {
      "text/plain": [
       "mappingproxy({'__module__': '__main__',\n",
       "              'age': 10,\n",
       "              '__init__': <function __main__.Person.__init__(self, name)>,\n",
       "              'showage': <function __main__.Person.showage(self)>,\n",
       "              '__dict__': <attribute '__dict__' of 'Person' objects>,\n",
       "              '__weakref__': <attribute '__weakref__' of 'Person' objects>,\n",
       "              '__doc__': None})"
      ]
     },
     "execution_count": 99,
     "metadata": {},
     "output_type": "execute_result"
    }
   ],
   "source": [
    "Person.__dict__    # 类属性字典"
   ]
  },
  {
   "cell_type": "code",
   "execution_count": 98,
   "metadata": {},
   "outputs": [],
   "source": [
    "jerry = Person('Jerry')"
   ]
  },
  {
   "cell_type": "code",
   "execution_count": 101,
   "metadata": {
    "scrolled": true
   },
   "outputs": [
    {
     "data": {
      "text/plain": [
       "({'name': 'Tom'}, {'name': 'Jerry'})"
      ]
     },
     "execution_count": 101,
     "metadata": {},
     "output_type": "execute_result"
    }
   ],
   "source": [
    "tom.__dict__, jerry.__dict__  # 实例字典"
   ]
  },
  {
   "cell_type": "code",
   "execution_count": null,
   "metadata": {},
   "outputs": [],
   "source": [
    "1. 30 18 20\n",
    "2. 170 170 170\n",
    "3. 170 170 175\n",
    "# 我实例的还是我的，我优先用我自己的；我没有 类属性有，大家共享的"
   ]
  },
  {
   "cell_type": "code",
   "execution_count": null,
   "metadata": {},
   "outputs": [],
   "source": [
    "4. 170 180 175\n",
    "5. 185 180 175\n",
    "6. 70 70 70\n",
    "7. 可以 180\n",
    "8. 报错 KeyError"
   ]
  },
  {
   "cell_type": "code",
   "execution_count": null,
   "metadata": {},
   "outputs": [],
   "source": [
    "tom.weight  属性访问方式，python会按照规则搜索，实例字典 -> 类字典"
   ]
  },
  {
   "cell_type": "code",
   "execution_count": 121,
   "metadata": {},
   "outputs": [
    {
     "ename": "AttributeError",
     "evalue": "'Person' object has no attribute 'a'",
     "output_type": "error",
     "traceback": [
      "\u001b[1;31m---------------------------------------------------------------------------\u001b[0m",
      "\u001b[1;31mAttributeError\u001b[0m                            Traceback (most recent call last)",
      "\u001b[1;32m<ipython-input-121-a9d93f0ac653>\u001b[0m in \u001b[0;36m<module>\u001b[1;34m\u001b[0m\n\u001b[1;32m----> 1\u001b[1;33m \u001b[0mtom\u001b[0m\u001b[1;33m.\u001b[0m\u001b[0ma\u001b[0m\u001b[1;33m\u001b[0m\u001b[1;33m\u001b[0m\u001b[0m\n\u001b[0m",
      "\u001b[1;31mAttributeError\u001b[0m: 'Person' object has no attribute 'a'"
     ]
    }
   ],
   "source": [
    "tom.a"
   ]
  },
  {
   "cell_type": "code",
   "execution_count": 122,
   "metadata": {
    "scrolled": true
   },
   "outputs": [
    {
     "ename": "KeyError",
     "evalue": "'weight'",
     "output_type": "error",
     "traceback": [
      "\u001b[1;31m---------------------------------------------------------------------------\u001b[0m",
      "\u001b[1;31mKeyError\u001b[0m                                  Traceback (most recent call last)",
      "\u001b[1;32m<ipython-input-122-20ff692768d5>\u001b[0m in \u001b[0;36m<module>\u001b[1;34m\u001b[0m\n\u001b[1;32m----> 1\u001b[1;33m \u001b[0mtom\u001b[0m\u001b[1;33m.\u001b[0m\u001b[0m__dict__\u001b[0m\u001b[1;33m[\u001b[0m\u001b[1;34m'weight'\u001b[0m\u001b[1;33m]\u001b[0m\u001b[1;33m\u001b[0m\u001b[1;33m\u001b[0m\u001b[0m\n\u001b[0m",
      "\u001b[1;31mKeyError\u001b[0m: 'weight'"
     ]
    }
   ],
   "source": [
    "tom.__dict__['weight']"
   ]
  },
  {
   "cell_type": "code",
   "execution_count": 145,
   "metadata": {},
   "outputs": [
    {
     "data": {
      "text/plain": [
       "80"
      ]
     },
     "execution_count": 145,
     "metadata": {},
     "output_type": "execute_result"
    }
   ],
   "source": [
    "tom.ww"
   ]
  },
  {
   "cell_type": "code",
   "execution_count": 124,
   "metadata": {},
   "outputs": [],
   "source": [
    "tom.height = 180"
   ]
  },
  {
   "cell_type": "code",
   "execution_count": 141,
   "metadata": {},
   "outputs": [],
   "source": [
    "Person.ww = 80"
   ]
  },
  {
   "cell_type": "code",
   "execution_count": 143,
   "metadata": {},
   "outputs": [
    {
     "data": {
      "text/plain": [
       "mappingproxy({'__module__': '__main__',\n",
       "              'age': 10,\n",
       "              '__init__': <function __main__.Person.__init__(self, name)>,\n",
       "              'showage': <function __main__.Person.showage(self)>,\n",
       "              '__dict__': <attribute '__dict__' of 'Person' objects>,\n",
       "              '__weakref__': <attribute '__weakref__' of 'Person' objects>,\n",
       "              '__doc__': None,\n",
       "              'weight': 80,\n",
       "              'ww': 80})"
      ]
     },
     "execution_count": 143,
     "metadata": {},
     "output_type": "execute_result"
    }
   ],
   "source": [
    "Person.__dict__"
   ]
  },
  {
   "cell_type": "code",
   "execution_count": 147,
   "metadata": {},
   "outputs": [
    {
     "name": "stdout",
     "output_type": "stream",
     "text": [
      "name\n",
      "height\n",
      "weight\n"
     ]
    }
   ],
   "source": [
    "for i in tom.__dict__:\n",
    "    print(i)"
   ]
  },
  {
   "cell_type": "code",
   "execution_count": 138,
   "metadata": {},
   "outputs": [
    {
     "data": {
      "text/plain": [
       "90"
      ]
     },
     "execution_count": 138,
     "metadata": {},
     "output_type": "execute_result"
    }
   ],
   "source": [
    "tom.weight"
   ]
  },
  {
   "cell_type": "markdown",
   "metadata": {},
   "source": [
    "对象（实例或类） 可以动态的给自己增加一个属性（赋值即重新定义）。这也是动态语言的特性\n",
    "\n",
    "类属性 如果正好是一个函数 我们称它为类的方法 可以被调用\n",
    "\n",
    "self 永远指向当前实例本身（相当于其他语言 this 指针）"
   ]
  },
  {
   "cell_type": "code",
   "execution_count": 152,
   "metadata": {},
   "outputs": [
    {
     "data": {
      "text/plain": [
       "dict_keys(['name', 'height', 'weight'])"
      ]
     },
     "execution_count": 152,
     "metadata": {},
     "output_type": "execute_result"
    }
   ],
   "source": [
    "tom.__dict__.keys()"
   ]
  },
  {
   "cell_type": "code",
   "execution_count": null,
   "metadata": {},
   "outputs": [],
   "source": [
    "* 类方法 和 静态方法"
   ]
  },
  {
   "cell_type": "code",
   "execution_count": 153,
   "metadata": {},
   "outputs": [],
   "source": [
    "class Person:\n",
    "    # 禁用，只是为了讲原理\n",
    "    def normal_function():    # 类属性类型，函数，方法（太过特殊）\n",
    "        print('普通的函数')\n",
    "        \n",
    "    def regular_method(self):    # 函数，方法\n",
    "        print('普通的方法')"
   ]
  },
  {
   "cell_type": "code",
   "execution_count": 156,
   "metadata": {},
   "outputs": [
    {
     "data": {
      "text/plain": [
       "(__main__.Person,\n",
       " <function __main__.Person.normal_function()>,\n",
       " <function __main__.Person.regular_method(self)>)"
      ]
     },
     "execution_count": 156,
     "metadata": {},
     "output_type": "execute_result"
    }
   ],
   "source": [
    "Person, Person.normal_function, Person.regular_method"
   ]
  },
  {
   "cell_type": "code",
   "execution_count": 157,
   "metadata": {},
   "outputs": [],
   "source": [
    "tom = Person()"
   ]
  },
  {
   "cell_type": "code",
   "execution_count": 161,
   "metadata": {},
   "outputs": [
    {
     "data": {
      "text/plain": [
       "(<bound method Person.normal_function of <__main__.Person object at 0x000001F16D905688>>,\n",
       " <bound method Person.regular_method of <__main__.Person object at 0x000001F16D905688>>)"
      ]
     },
     "execution_count": 161,
     "metadata": {},
     "output_type": "execute_result"
    }
   ],
   "source": [
    "tom.normal_function, tom.regular_method\n",
    "# 实例访问类属性定义的方法 -- 产生绑定"
   ]
  },
  {
   "cell_type": "code",
   "execution_count": 159,
   "metadata": {},
   "outputs": [
    {
     "name": "stdout",
     "output_type": "stream",
     "text": [
      "普通的方法\n"
     ]
    }
   ],
   "source": [
    "tom.regular_method()"
   ]
  },
  {
   "cell_type": "code",
   "execution_count": 160,
   "metadata": {},
   "outputs": [
    {
     "ename": "TypeError",
     "evalue": "normal_function() takes 0 positional arguments but 1 was given",
     "output_type": "error",
     "traceback": [
      "\u001b[1;31m---------------------------------------------------------------------------\u001b[0m",
      "\u001b[1;31mTypeError\u001b[0m                                 Traceback (most recent call last)",
      "\u001b[1;32m<ipython-input-160-1067aab7c364>\u001b[0m in \u001b[0;36m<module>\u001b[1;34m\u001b[0m\n\u001b[1;32m----> 1\u001b[1;33m \u001b[0mtom\u001b[0m\u001b[1;33m.\u001b[0m\u001b[0mnormal_function\u001b[0m\u001b[1;33m(\u001b[0m\u001b[1;33m)\u001b[0m\u001b[1;33m\u001b[0m\u001b[1;33m\u001b[0m\u001b[0m\n\u001b[0m",
      "\u001b[1;31mTypeError\u001b[0m: normal_function() takes 0 positional arguments but 1 was given"
     ]
    }
   ],
   "source": [
    "tom.normal_function()    # 绑定"
   ]
  },
  {
   "cell_type": "code",
   "execution_count": 162,
   "metadata": {},
   "outputs": [
    {
     "name": "stdout",
     "output_type": "stream",
     "text": [
      "普通的函数\n"
     ]
    }
   ],
   "source": [
    "Person.normal_function()"
   ]
  },
  {
   "cell_type": "code",
   "execution_count": 165,
   "metadata": {},
   "outputs": [
    {
     "ename": "TypeError",
     "evalue": "regular_method() missing 1 required positional argument: 'self'",
     "output_type": "error",
     "traceback": [
      "\u001b[1;31m---------------------------------------------------------------------------\u001b[0m",
      "\u001b[1;31mTypeError\u001b[0m                                 Traceback (most recent call last)",
      "\u001b[1;32m<ipython-input-165-d08274d17f60>\u001b[0m in \u001b[0;36m<module>\u001b[1;34m\u001b[0m\n\u001b[1;32m----> 1\u001b[1;33m \u001b[0mPerson\u001b[0m\u001b[1;33m.\u001b[0m\u001b[0mregular_method\u001b[0m\u001b[1;33m(\u001b[0m\u001b[1;33m)\u001b[0m\u001b[1;33m\u001b[0m\u001b[1;33m\u001b[0m\u001b[0m\n\u001b[0m",
      "\u001b[1;31mTypeError\u001b[0m: regular_method() missing 1 required positional argument: 'self'"
     ]
    }
   ],
   "source": [
    "Person.regular_method()    # 没有绑定 不会注入self"
   ]
  },
  {
   "cell_type": "code",
   "execution_count": null,
   "metadata": {},
   "outputs": [],
   "source": [
    "实例 访问类属性定义的方法 --> 产生绑定  --> 绑定：会把实例本身当作self参数注入给该方法 作为形参"
   ]
  },
  {
   "cell_type": "code",
   "execution_count": 179,
   "metadata": {},
   "outputs": [],
   "source": [
    "# 类方法\n",
    "class Person:\n",
    "    @classmethod    # 内建函数，基本用来做装饰器\n",
    "    # 装饰器内部 会获得类型，如果本身是类型访问，直接知道类型\n",
    "    # 如果实例访问，如何知道类型? type(object)\n",
    "    def clsmtd(self):    # 类属性，方法，本质函数，被@classmethod装饰过，称为类方法\n",
    "        print('类方法调用')\n",
    "        print(self)\n",
    "        print()"
   ]
  },
  {
   "cell_type": "code",
   "execution_count": 182,
   "metadata": {},
   "outputs": [
    {
     "data": {
      "text/plain": [
       "(<bound method Person.clsmtd of <class '__main__.Person'>>,\n",
       " <bound method Person.clsmtd of <class '__main__.Person'>>)"
      ]
     },
     "execution_count": 182,
     "metadata": {},
     "output_type": "execute_result"
    }
   ],
   "source": [
    "Person.clsmtd, Person().clsmtd \n",
    "# 类方法装饰器会提取类型并绑定，当调用这个绑定的方法时，会自动注入当前类"
   ]
  },
  {
   "cell_type": "code",
   "execution_count": 180,
   "metadata": {},
   "outputs": [
    {
     "name": "stdout",
     "output_type": "stream",
     "text": [
      "类方法调用\n",
      "<class '__main__.Person'>\n",
      "\n",
      "1 None\n",
      "类方法调用\n",
      "<class '__main__.Person'>\n",
      "\n",
      "2 None\n"
     ]
    }
   ],
   "source": [
    "print(1, Person.clsmtd())      # 类来调用  没有@classmethod 1.不可以\n",
    "print(2, Person().clsmtd())    # 实例调用  可以"
   ]
  },
  {
   "cell_type": "code",
   "execution_count": 185,
   "metadata": {},
   "outputs": [
    {
     "data": {
      "text/plain": [
       "(__main__.Person, __main__.Person)"
      ]
     },
     "execution_count": 185,
     "metadata": {},
     "output_type": "execute_result"
    }
   ],
   "source": [
    "type(Person()), Person"
   ]
  },
  {
   "cell_type": "markdown",
   "metadata": {},
   "source": [
    "- normal_function()        \n",
    "  - 普通的函数，禁用，没有绑定效果\n",
    "\n",
    "- regular_method(self)  类属性定义的方法，普通的方法\n",
    "  - 实例访问有实例绑定，会自动注入第一参数，习惯上使用self形参\n",
    "  - 类访问，没有绑定的，编程者该手动送第一参数\n",
    "\n",
    "- @classmethod 类方法\n",
    "  - clsmtd依然是类属性|类方法，通过类或者实例访问，都会绑定当前类，调用时会自动给注入第一参数cls\n",
    "```python\n",
    "class Person:\n",
    "    @classmethod    # 内建函数，基本用来做装饰器\n",
    "    # 装饰器内部 会获得类型，如果本身是类型访问，直接知道类型\n",
    "    # 如果实例访问，如何知道类型? type(object)\n",
    "    def clsmtd(self):    # 类属性，方法，本质函数，被@classmethod装饰过，称为类方法\n",
    "        print('类方法调用')\n",
    "        print(self)\n",
    "        print()\n",
    "```\n",
    "  \n",
    "- @staticmethid 静态方法\n",
    "  - 被staticmethod装饰过后 方法都没有绑定了，也就没有了自动注入\n",
    "  - stmtd类属性，静态方法，通过类或者实例访问，都不会绑定任何值，调用时什么都不会注入\n",
    "```python\n",
    "class Person:\n",
    "  # 装饰器，静态方法\n",
    "    @staticmethod\n",
    "    def stmtd():    # 形参？ 没有形参\n",
    "        print('static method called')\n",
    "```"
   ]
  },
  {
   "cell_type": "code",
   "execution_count": null,
   "metadata": {},
   "outputs": [],
   "source": [
    "      "
   ]
  },
  {
   "cell_type": "code",
   "execution_count": 225,
   "metadata": {},
   "outputs": [],
   "source": [
    "# 静态方法\n",
    "class Person:\n",
    "    # 装饰器，静态方法\n",
    "    @staticmethod\n",
    "    def stmtd():    # 形参？ 没有形参\n",
    "        print('static method called')"
   ]
  },
  {
   "cell_type": "code",
   "execution_count": 227,
   "metadata": {},
   "outputs": [
    {
     "name": "stdout",
     "output_type": "stream",
     "text": [
      "static method called\n"
     ]
    }
   ],
   "source": [
    "Person.stmtd()"
   ]
  },
  {
   "cell_type": "code",
   "execution_count": 228,
   "metadata": {},
   "outputs": [
    {
     "name": "stdout",
     "output_type": "stream",
     "text": [
      "static method called\n"
     ]
    }
   ],
   "source": [
    "Person().stmtd()"
   ]
  },
  {
   "cell_type": "code",
   "execution_count": 229,
   "metadata": {},
   "outputs": [
    {
     "data": {
      "text/plain": [
       "(<function __main__.Person.stmtd()>, <function __main__.Person.stmtd()>)"
      ]
     },
     "execution_count": 229,
     "metadata": {},
     "output_type": "execute_result"
    }
   ],
   "source": [
    "Person.stmtd, Person().stmtd\n",
    "# 被staticmethod装饰过后 方法都没有绑定了，也就没有了自动注入谁的效果了"
   ]
  },
  {
   "cell_type": "code",
   "execution_count": 231,
   "metadata": {},
   "outputs": [],
   "source": [
    "class Person:\n",
    "#     def normal_function():    # 普通的函数，禁用，没有绑定效果\n",
    "#         pass\n",
    "    \n",
    "    # self 提示 -> 通常使用实例调用\n",
    "    # 实例一般来说有千千万万个，不同实例应该有不同的返回类型\n",
    "    def regular_method(self, m, n):\n",
    "        print('正常定义的方法', self, m, n)    # self代表实例调用时，自动注入的实例自身\n",
    "    \n",
    "    # 该方法中 自动注入的是当前类 不能直接获得当前实例\n",
    "    # 一般不需要实例化就可以直接使用的，做工具方法时使用（偶尔使用）\n",
    "    @classmethod   # 装饰器，类方法\n",
    "    def clsmtd(cls, x, y):\n",
    "        print('class method', cls, x, y)    # 不管通过类或者实例调用该方法，都会注入当前类自身\n",
    "    \n",
    "    # 基本不用，很少使用，表示该方法从 业务上 来说归在当前类中（管理上的要求）\n",
    "    @staticmethod  # 装饰器，静态方法\n",
    "    def stmtd(a, b):   # 被staticmethod装饰过后，方法都没有绑定了，也就没有了自动注入\n",
    "        print('static method', a, b)"
   ]
  },
  {
   "cell_type": "code",
   "execution_count": 235,
   "metadata": {},
   "outputs": [
    {
     "name": "stdout",
     "output_type": "stream",
     "text": [
      "正常定义的方法 <__main__.Person object at 0x000001F16732AA48> 4 5\n"
     ]
    }
   ],
   "source": [
    "# 1. 注入实例本身\n",
    "# Person.regular_method(4, 5)\n",
    "Person().regular_method(4, 5)"
   ]
  },
  {
   "cell_type": "code",
   "execution_count": 246,
   "metadata": {},
   "outputs": [
    {
     "name": "stdout",
     "output_type": "stream",
     "text": [
      "class method <class '__main__.Person'> 1 2\n",
      "class method <class '__main__.Person'> 10 20\n",
      "class method <class '__main__.Person'> 100 <__main__.Person object at 0x000001F16E7E5308>\n",
      "class method <class '__main__.Person'> 100 <__main__.Person object at 0x000001F16E7E5888>\n"
     ]
    },
    {
     "data": {
      "text/plain": [
       "WindowsPath('C:/Users/97431')"
      ]
     },
     "execution_count": 246,
     "metadata": {},
     "output_type": "execute_result"
    }
   ],
   "source": [
    "# 2. 注入类\n",
    "Person.clsmtd(1, 2)\n",
    "Person().clsmtd(10, 20)\n",
    "\n",
    "Person().clsmtd(100, Person())  # Person() 两次不同得实例化\n",
    "\n",
    "x = Person()\n",
    "x.clsmtd(100, x)   # 这个方法 想用当前实例 需要自己注入当前实例\n",
    "\n",
    "from pathlib import Path\n",
    "# Path().home() ==> Path.home()  相当于 抽取类 再取home()\n",
    "Path().home()          # 当前实例是谁 结果home()不会改变，可以通过 路径实例访问home()，只是为了方便\n",
    "Path('/etc/sysconfig').home()\n",
    "Path.home()  # classmethod   通过类 or 实例 都可以访问 至少通过路径类才可以知道home路径是什么"
   ]
  },
  {
   "cell_type": "code",
   "execution_count": 239,
   "metadata": {},
   "outputs": [
    {
     "name": "stdout",
     "output_type": "stream",
     "text": [
      "static method 3 3\n",
      "static method 5 5\n",
      "static method <class '__main__.Person'> <__main__.Person object at 0x000001F16DA51288>\n"
     ]
    }
   ],
   "source": [
    "# 3. 没有任何注入效果\n",
    "Person.stmtd(3, 3)\n",
    "Person().stmtd(5, 5)\n",
    "Person.stmtd(Person, Person())"
   ]
  },
  {
   "cell_type": "code",
   "execution_count": null,
   "metadata": {},
   "outputs": [],
   "source": []
  },
  {
   "cell_type": "code",
   "execution_count": 258,
   "metadata": {},
   "outputs": [],
   "source": [
    "class A:\n",
    "    def __init__(self):\n",
    "        self.name = ''\n",
    "    \n",
    "    def method(self):\n",
    "        print(self, __class__, __class__.__name__, __name__)\n",
    "        print(self.__class__)\n",
    "        print(self.name)"
   ]
  },
  {
   "cell_type": "code",
   "execution_count": 259,
   "metadata": {},
   "outputs": [
    {
     "name": "stdout",
     "output_type": "stream",
     "text": [
      "<__main__.A object at 0x000001F16E033608> <class '__main__.A'> A __main__\n",
      "<class '__main__.A'>\n"
     ]
    }
   ],
   "source": [
    "t = A()\n",
    "t.method()  # 1. 可以"
   ]
  },
  {
   "cell_type": "code",
   "execution_count": 256,
   "metadata": {},
   "outputs": [
    {
     "ename": "TypeError",
     "evalue": "method() missing 1 required positional argument: 'self'",
     "output_type": "error",
     "traceback": [
      "\u001b[1;31m---------------------------------------------------------------------------\u001b[0m",
      "\u001b[1;31mTypeError\u001b[0m                                 Traceback (most recent call last)",
      "\u001b[1;32m<ipython-input-256-f490745ddad2>\u001b[0m in \u001b[0;36m<module>\u001b[1;34m\u001b[0m\n\u001b[1;32m----> 1\u001b[1;33m \u001b[0mA\u001b[0m\u001b[1;33m.\u001b[0m\u001b[0mmethod\u001b[0m\u001b[1;33m(\u001b[0m\u001b[1;33m)\u001b[0m  \u001b[1;31m# 2. 不可以\u001b[0m\u001b[1;33m\u001b[0m\u001b[1;33m\u001b[0m\u001b[0m\n\u001b[0m",
      "\u001b[1;31mTypeError\u001b[0m: method() missing 1 required positional argument: 'self'"
     ]
    }
   ],
   "source": [
    "A.method()  # 2. 不可以"
   ]
  },
  {
   "cell_type": "code",
   "execution_count": 260,
   "metadata": {},
   "outputs": [
    {
     "name": "stdout",
     "output_type": "stream",
     "text": [
      "1 <class '__main__.A'> A __main__\n",
      "<class 'int'>\n"
     ]
    }
   ],
   "source": [
    "A.method(1) # 3. 可以"
   ]
  },
  {
   "cell_type": "code",
   "execution_count": 261,
   "metadata": {},
   "outputs": [
    {
     "name": "stdout",
     "output_type": "stream",
     "text": [
      "<__main__.A object at 0x000001F16E033608> <class '__main__.A'> A __main__\n",
      "<class '__main__.A'>\n",
      "<__main__.A object at 0x000001F16E033608> <class '__main__.A'> A __main__\n",
      "<class '__main__.A'>\n",
      "<__main__.A object at 0x000001F16E033608> <class '__main__.A'> A __main__\n",
      "<class '__main__.A'>\n"
     ]
    }
   ],
   "source": [
    "A.method(t) # 4. 可以\n",
    "t.__class__.method(t)  # 5. 可以\n",
    "type(t).method(t)"
   ]
  },
  {
   "cell_type": "code",
   "execution_count": null,
   "metadata": {},
   "outputs": [],
   "source": []
  },
  {
   "cell_type": "code",
   "execution_count": 278,
   "metadata": {
    "scrolled": true
   },
   "outputs": [
    {
     "name": "stdout",
     "output_type": "stream",
     "text": [
      "['2', 'a', 'Ab', 'Abc']\n"
     ]
    }
   ],
   "source": [
    "print(sorted(['a', 'Ab', '2', 'Abc'], key=lambda x: x.lower()))"
   ]
  },
  {
   "cell_type": "code",
   "execution_count": 280,
   "metadata": {},
   "outputs": [
    {
     "name": "stdout",
     "output_type": "stream",
     "text": [
      "['2', 'a', 'Ab', 'Abc']\n"
     ]
    }
   ],
   "source": [
    "print(sorted(['a', 'Ab', '2', 'Abc'], key=str.lower))\n",
    "\n",
    "class str:\n",
    "    def lower(self):\n",
    "        pass  # 将当前实例自身self，转换成小写"
   ]
  },
  {
   "cell_type": "code",
   "execution_count": 281,
   "metadata": {},
   "outputs": [
    {
     "data": {
      "text/plain": [
       "'abc'"
      ]
     },
     "execution_count": 281,
     "metadata": {},
     "output_type": "execute_result"
    }
   ],
   "source": [
    "\"ABC\".lower()   # 绑定，\"ABC\" 是 str 类的实例  \"ABC\"自动注入给self形参接受"
   ]
  },
  {
   "cell_type": "code",
   "execution_count": 283,
   "metadata": {},
   "outputs": [
    {
     "data": {
      "text/plain": [
       "'xyz'"
      ]
     },
     "execution_count": 283,
     "metadata": {},
     "output_type": "execute_result"
    }
   ],
   "source": [
    "str.lower(\"XYZ\")  # 类调用，没有自动注入效果。1个实参 类调用可以理解为单参函数，此参数就是实例"
   ]
  },
  {
   "cell_type": "code",
   "execution_count": null,
   "metadata": {},
   "outputs": [],
   "source": [
    "def fn(x):\n",
    "    # return x.lower()   # 自动注入 实例调用lower\n",
    "    return str.lower(x)  # 没有注入效果， x实例需要手动注入"
   ]
  },
  {
   "cell_type": "code",
   "execution_count": 286,
   "metadata": {},
   "outputs": [
    {
     "data": {
      "text/plain": [
       "'xyz'"
      ]
     },
     "execution_count": 286,
     "metadata": {},
     "output_type": "execute_result"
    }
   ],
   "source": [
    "str.lower('XYZ')"
   ]
  },
  {
   "cell_type": "code",
   "execution_count": 287,
   "metadata": {},
   "outputs": [
    {
     "data": {
      "text/plain": [
       "'xyz'"
      ]
     },
     "execution_count": 287,
     "metadata": {},
     "output_type": "execute_result"
    }
   ],
   "source": [
    "'XYZ'.lower()"
   ]
  },
  {
   "cell_type": "code",
   "execution_count": 292,
   "metadata": {},
   "outputs": [
    {
     "name": "stdout",
     "output_type": "stream",
     "text": [
      "[200, 'a', 'Ab', 'Abc']\n"
     ]
    }
   ],
   "source": [
    "print(sorted(['a', 'Ab', 200, 'Abc'], key=lambda x: str.lower(x) if isinstance(x, str) else str(x).lower()))"
   ]
  },
  {
   "cell_type": "code",
   "execution_count": 293,
   "metadata": {},
   "outputs": [
    {
     "data": {
      "text/plain": [
       "<method 'lower' of 'str' objects>"
      ]
     },
     "execution_count": 293,
     "metadata": {},
     "output_type": "execute_result"
    }
   ],
   "source": [
    "str.lower"
   ]
  },
  {
   "cell_type": "code",
   "execution_count": null,
   "metadata": {},
   "outputs": [],
   "source": []
  },
  {
   "cell_type": "code",
   "execution_count": null,
   "metadata": {},
   "outputs": [],
   "source": [
    "* 访问控制"
   ]
  },
  {
   "cell_type": "code",
   "execution_count": 294,
   "metadata": {},
   "outputs": [],
   "source": [
    "class Person:\n",
    "    def __init__(self, name, age=18):\n",
    "        self.name = name\n",
    "        self.age = age"
   ]
  },
  {
   "cell_type": "code",
   "execution_count": 296,
   "metadata": {},
   "outputs": [],
   "source": [
    "tom = Person('Tom')"
   ]
  },
  {
   "cell_type": "code",
   "execution_count": 297,
   "metadata": {},
   "outputs": [
    {
     "data": {
      "text/plain": [
       "('Tom', 18)"
      ]
     },
     "execution_count": 297,
     "metadata": {},
     "output_type": "execute_result"
    }
   ],
   "source": [
    "tom.name, tom.age"
   ]
  },
  {
   "cell_type": "code",
   "execution_count": 305,
   "metadata": {},
   "outputs": [],
   "source": [
    "class Person:\n",
    "    def __init__(self, name, age=18):\n",
    "        self.__name= name\n",
    "        self.__age = age\n",
    "    \n",
    "    def showme(self):\n",
    "        print(\"{} is {} years old\".format(self.__name, self.__age))"
   ]
  },
  {
   "cell_type": "code",
   "execution_count": 306,
   "metadata": {},
   "outputs": [],
   "source": [
    "jerry = Person('Jerry', 20)"
   ]
  },
  {
   "cell_type": "code",
   "execution_count": 307,
   "metadata": {},
   "outputs": [
    {
     "ename": "AttributeError",
     "evalue": "'Person' object has no attribute '__name'",
     "output_type": "error",
     "traceback": [
      "\u001b[1;31m---------------------------------------------------------------------------\u001b[0m",
      "\u001b[1;31mAttributeError\u001b[0m                            Traceback (most recent call last)",
      "\u001b[1;32m<ipython-input-307-5d378f5a7233>\u001b[0m in \u001b[0;36m<module>\u001b[1;34m\u001b[0m\n\u001b[1;32m----> 1\u001b[1;33m \u001b[0mjerry\u001b[0m\u001b[1;33m.\u001b[0m\u001b[0m__name\u001b[0m\u001b[1;33m\u001b[0m\u001b[1;33m\u001b[0m\u001b[0m\n\u001b[0m",
      "\u001b[1;31mAttributeError\u001b[0m: 'Person' object has no attribute '__name'"
     ]
    }
   ],
   "source": [
    "jerry.__name, jerry.age   \n",
    "# 类定义的外面访问该属性，访问不到了，看不到了 jerry.__age\n",
    "# 不管实例属性 还是类属性，只要属性标识符前面使用了__，这种称为私有\n",
    "# 属性和方法 也称为 成员，私有成员\n",
    "# 私有属性、私有方法，私有实例属性、私有的类属性、私有的方法"
   ]
  },
  {
   "cell_type": "code",
   "execution_count": 310,
   "metadata": {},
   "outputs": [
    {
     "name": "stdout",
     "output_type": "stream",
     "text": [
      "Jerry is 20 years old\n"
     ]
    }
   ],
   "source": [
    "jerry.showme()    # 可以，在类的内部使用，似乎没有影响"
   ]
  },
  {
   "cell_type": "code",
   "execution_count": 311,
   "metadata": {},
   "outputs": [
    {
     "data": {
      "text/plain": [
       "{'_Person__name': 'Jerry', '_Person__age': 20}"
      ]
     },
     "execution_count": 311,
     "metadata": {},
     "output_type": "execute_result"
    }
   ],
   "source": [
    "jerry.__dict__"
   ]
  },
  {
   "cell_type": "code",
   "execution_count": null,
   "metadata": {},
   "outputs": [],
   "source": []
  },
  {
   "cell_type": "code",
   "execution_count": 322,
   "metadata": {},
   "outputs": [],
   "source": [
    "class Person:    # 体会封装\n",
    "    def __init__(self, name, age=18):\n",
    "        self.__name= name    # private 私有属性\n",
    "        self.__age = age     # 动态为实例赋值属性 \n",
    "    \n",
    "    def __showme(self):\n",
    "        # 类中，遇到私有变量 self.__name => self._Person__name 会替换，编译器帮我们做\n",
    "        print(\"{} is {} years old\".format(self.__name, self.__age))\n",
    "        \n",
    "# 私有成员定义在类中，会自动增加 _类标识符   前缀  __age -> _Person__age\n",
    "# 虽然这个秘密你知道了，但是除非你有意为之，否则不要随便在类外访问私有成员\n",
    "# 私有为了封装，你非要访问，就打破了封装 （其他语言无法突破）"
   ]
  },
  {
   "cell_type": "code",
   "execution_count": 314,
   "metadata": {},
   "outputs": [
    {
     "ename": "AttributeError",
     "evalue": "type object 'Person' has no attribute '__showme'",
     "output_type": "error",
     "traceback": [
      "\u001b[1;31m---------------------------------------------------------------------------\u001b[0m",
      "\u001b[1;31mAttributeError\u001b[0m                            Traceback (most recent call last)",
      "\u001b[1;32m<ipython-input-314-6874c6d256fb>\u001b[0m in \u001b[0;36m<module>\u001b[1;34m\u001b[0m\n\u001b[1;32m----> 1\u001b[1;33m \u001b[0mPerson\u001b[0m\u001b[1;33m.\u001b[0m\u001b[0m__showme\u001b[0m\u001b[1;33m\u001b[0m\u001b[1;33m\u001b[0m\u001b[0m\n\u001b[0m",
      "\u001b[1;31mAttributeError\u001b[0m: type object 'Person' has no attribute '__showme'"
     ]
    }
   ],
   "source": [
    "Person.__showme    # 私有类属性，在类外面 访问不到"
   ]
  },
  {
   "cell_type": "code",
   "execution_count": null,
   "metadata": {},
   "outputs": [],
   "source": [
    "封装：\n",
    "    1. 属性和操作封装在一起，形成类\n",
    "    2. 暴露该暴露的，隐藏不该暴露的\n",
    "    \n",
    "    * 保护成员(python程序员约定) 和 私有成员(强隐藏) 都是做到一种隐藏\n",
    "    * python私有成员 的本质 就是改名"
   ]
  },
  {
   "cell_type": "code",
   "execution_count": 320,
   "metadata": {},
   "outputs": [
    {
     "name": "stdout",
     "output_type": "stream",
     "text": [
      "30\n",
      "Tom is 18 years old\n"
     ]
    }
   ],
   "source": [
    "tom = Person('Tom')\n",
    "tom.__age = 30  # 赋值即定义 动态为实例增加实例属性\n",
    "print(tom.__age)\n",
    "tom.showme()"
   ]
  },
  {
   "cell_type": "code",
   "execution_count": 323,
   "metadata": {},
   "outputs": [
    {
     "data": {
      "text/plain": [
       "{'_Person__name': 'Tom', '_Person__age': 18, '__age': 30}"
      ]
     },
     "execution_count": 323,
     "metadata": {},
     "output_type": "execute_result"
    }
   ],
   "source": [
    "tom.__dict__"
   ]
  },
  {
   "cell_type": "code",
   "execution_count": 324,
   "metadata": {},
   "outputs": [
    {
     "data": {
      "text/plain": [
       "mappingproxy({'__module__': '__main__',\n",
       "              '__init__': <function __main__.Person.__init__(self, name, age=18)>,\n",
       "              '_Person__showme': <function __main__.Person.__showme(self)>,\n",
       "              '__dict__': <attribute '__dict__' of 'Person' objects>,\n",
       "              '__weakref__': <attribute '__weakref__' of 'Person' objects>,\n",
       "              '__doc__': None})"
      ]
     },
     "execution_count": 324,
     "metadata": {},
     "output_type": "execute_result"
    }
   ],
   "source": [
    "Person.__dict__"
   ]
  },
  {
   "cell_type": "code",
   "execution_count": 329,
   "metadata": {},
   "outputs": [],
   "source": [
    "class Person:\n",
    "    def __init__(self, name):  \n",
    "        self._name = name\n",
    "        \n",
    "    def _showname(self):\n",
    "        print(self._name)\n",
    "    \n",
    "# 属性标识符前面 加一个下划线的定义，称为保护成员 它没有改名，protected\n",
    "# 它不是python语法定义的，这是python程序员不成文约定\n",
    "# 用起来并没有什么限制，看起来和public（共有成员）一样\n",
    "# _标识符 只是一种提醒。保护和私有，都是一种提醒，这是类的编写者 自己内部使用\n",
    "# 一般不建议直接使用\n",
    "# public 共有的，是暴露出来的，建议使用\n",
    "\n",
    "# pycharm工具 遵守这种约定，保护的 有时不会直接提示给你"
   ]
  },
  {
   "cell_type": "code",
   "execution_count": 331,
   "metadata": {},
   "outputs": [],
   "source": [
    "tom = Person('Tom')"
   ]
  },
  {
   "cell_type": "code",
   "execution_count": 327,
   "metadata": {},
   "outputs": [
    {
     "data": {
      "text/plain": [
       "'Tom'"
      ]
     },
     "execution_count": 327,
     "metadata": {},
     "output_type": "execute_result"
    }
   ],
   "source": [
    "tom._name"
   ]
  },
  {
   "cell_type": "code",
   "execution_count": 332,
   "metadata": {},
   "outputs": [
    {
     "name": "stdout",
     "output_type": "stream",
     "text": [
      "Tom\n"
     ]
    }
   ],
   "source": [
    "tom._showname()"
   ]
  },
  {
   "cell_type": "code",
   "execution_count": 334,
   "metadata": {},
   "outputs": [
    {
     "data": {
      "text/plain": [
       "({'_name': 'Tom'},\n",
       " mappingproxy({'__module__': '__main__',\n",
       "               '__init__': <function __main__.Person.__init__(self, name)>,\n",
       "               '_showname': <function __main__.Person._showname(self)>,\n",
       "               '__dict__': <attribute '__dict__' of 'Person' objects>,\n",
       "               '__weakref__': <attribute '__weakref__' of 'Person' objects>,\n",
       "               '__doc__': None}))"
      ]
     },
     "execution_count": 334,
     "metadata": {},
     "output_type": "execute_result"
    }
   ],
   "source": [
    "tom.__dict__, Person.__dict__"
   ]
  },
  {
   "cell_type": "code",
   "execution_count": 335,
   "metadata": {},
   "outputs": [],
   "source": [
    "class Person:\n",
    "    def __init__(self, name, age, height):\n",
    "        self.name = name\n",
    "        self._age = age\n",
    "        self.__height = height"
   ]
  },
  {
   "cell_type": "code",
   "execution_count": 337,
   "metadata": {},
   "outputs": [],
   "source": [
    "tom = Person('Tom', '25', '175')"
   ]
  },
  {
   "cell_type": "code",
   "execution_count": 343,
   "metadata": {},
   "outputs": [
    {
     "data": {
      "text/plain": [
       "('Tom', '25', '175')"
      ]
     },
     "execution_count": 343,
     "metadata": {},
     "output_type": "execute_result"
    }
   ],
   "source": [
    "tom.name, tom._age, tom._Person__height"
   ]
  },
  {
   "cell_type": "code",
   "execution_count": null,
   "metadata": {},
   "outputs": [],
   "source": []
  },
  {
   "cell_type": "code",
   "execution_count": null,
   "metadata": {},
   "outputs": [],
   "source": [
    "* 属性装饰器"
   ]
  },
  {
   "cell_type": "code",
   "execution_count": 353,
   "metadata": {},
   "outputs": [],
   "source": [
    "class Person:\n",
    "    def __init__(self, name):\n",
    "        self.__name = name\n",
    "        \n",
    "    def name(self):     # 读取属性 方法，getter\n",
    "        return self.__name\n",
    "    \n",
    "    def set_name(self, value):  # 设置属性 方法，setter\n",
    "        self.__name = value"
   ]
  },
  {
   "cell_type": "code",
   "execution_count": 352,
   "metadata": {},
   "outputs": [
    {
     "name": "stdout",
     "output_type": "stream",
     "text": [
      "Tom\n",
      "tommy\n"
     ]
    }
   ],
   "source": [
    "tom = Person('Tom')\n",
    "# print(tom._name)\n",
    "print(tom.name())    \n",
    "# 对于私有属性或者保护属性，使用方法来访问、修改\n",
    "# 更加优雅的方式，能否如同使用属性一样访问和修改？\n",
    "# tom.__name = 'tommy'    # 使用私有属性之后，不能再这样修改属性\n",
    "tom.set_name('tommy')\n",
    "print(tom.name())"
   ]
  },
  {
   "cell_type": "code",
   "execution_count": null,
   "metadata": {},
   "outputs": [],
   "source": []
  },
  {
   "cell_type": "code",
   "execution_count": 355,
   "metadata": {},
   "outputs": [],
   "source": [
    "class Person:\n",
    "    def __init__(self, name):\n",
    "        self.name = name  # 实例属性\n",
    "        \n",
    "    def name(self):     # 类属性\n",
    "        return self.name\n",
    "    \n",
    "    def set_name(self, value): \n",
    "        self.name = value\n",
    "        \n",
    "# public属性 不要这样做\n",
    "# 不要重名"
   ]
  },
  {
   "cell_type": "code",
   "execution_count": 357,
   "metadata": {},
   "outputs": [],
   "source": [
    "jerry = Person('Jerry')"
   ]
  },
  {
   "cell_type": "code",
   "execution_count": 358,
   "metadata": {},
   "outputs": [
    {
     "ename": "TypeError",
     "evalue": "'str' object is not callable",
     "output_type": "error",
     "traceback": [
      "\u001b[1;31m---------------------------------------------------------------------------\u001b[0m",
      "\u001b[1;31mTypeError\u001b[0m                                 Traceback (most recent call last)",
      "\u001b[1;32m<ipython-input-358-e47b6b734d3a>\u001b[0m in \u001b[0;36m<module>\u001b[1;34m\u001b[0m\n\u001b[1;32m----> 1\u001b[1;33m \u001b[0mprint\u001b[0m\u001b[1;33m(\u001b[0m\u001b[0mjerry\u001b[0m\u001b[1;33m.\u001b[0m\u001b[0mname\u001b[0m\u001b[1;33m(\u001b[0m\u001b[1;33m)\u001b[0m\u001b[1;33m)\u001b[0m\u001b[1;33m\u001b[0m\u001b[1;33m\u001b[0m\u001b[0m\n\u001b[0m",
      "\u001b[1;31mTypeError\u001b[0m: 'str' object is not callable"
     ]
    }
   ],
   "source": [
    "print(jerry.name())"
   ]
  },
  {
   "cell_type": "code",
   "execution_count": null,
   "metadata": {},
   "outputs": [],
   "source": []
  },
  {
   "cell_type": "code",
   "execution_count": 372,
   "metadata": {},
   "outputs": [],
   "source": [
    "class Person:\n",
    "    def __init__(self, name):\n",
    "        self._name = name\n",
    " \n",
    "    @property    # class 本质是个类 在这里当装饰器用\n",
    "    def name(self):     # name被装饰成属性 读取属性 方法，getter\n",
    "        return self._name\n",
    "    \n",
    "#     @\n",
    "#     def set_name(self, value):  # 设置属性 方法，setter\n",
    "#         self._name = value\n",
    "\n",
    "# 只提供getter 不提供setter 称为只读属性"
   ]
  },
  {
   "cell_type": "code",
   "execution_count": 373,
   "metadata": {},
   "outputs": [],
   "source": [
    "ben = Person('Ben')"
   ]
  },
  {
   "cell_type": "code",
   "execution_count": 374,
   "metadata": {},
   "outputs": [
    {
     "name": "stdout",
     "output_type": "stream",
     "text": [
      "Ben\n"
     ]
    }
   ],
   "source": [
    "print(ben.name)"
   ]
  },
  {
   "cell_type": "code",
   "execution_count": 375,
   "metadata": {},
   "outputs": [
    {
     "ename": "AttributeError",
     "evalue": "can't set attribute",
     "output_type": "error",
     "traceback": [
      "\u001b[1;31m---------------------------------------------------------------------------\u001b[0m",
      "\u001b[1;31mAttributeError\u001b[0m                            Traceback (most recent call last)",
      "\u001b[1;32m<ipython-input-375-b7e3aae1ec60>\u001b[0m in \u001b[0;36m<module>\u001b[1;34m\u001b[0m\n\u001b[1;32m----> 1\u001b[1;33m \u001b[0mben\u001b[0m\u001b[1;33m.\u001b[0m\u001b[0mname\u001b[0m \u001b[1;33m=\u001b[0m \u001b[1;34m'benny'\u001b[0m\u001b[1;33m\u001b[0m\u001b[1;33m\u001b[0m\u001b[0m\n\u001b[0m",
      "\u001b[1;31mAttributeError\u001b[0m: can't set attribute"
     ]
    }
   ],
   "source": [
    "ben.name = 'benny'"
   ]
  },
  {
   "cell_type": "code",
   "execution_count": 384,
   "metadata": {},
   "outputs": [],
   "source": [
    "class Person:\n",
    "    def __init__(self, name):\n",
    "        self._name = name\n",
    " \n",
    "    @property    # class 本质是个类 在这里当装饰器用\n",
    "    def name(self):     # name被装饰成属性 读取属性 方法，getter\n",
    "        return self._name\n",
    "    \n",
    "    @name.setter   # @后面的name 是getter上面 @property装饰的方法 标识符\n",
    "    def name(self, value):  # 设置属性 方法，setter\n",
    "        self._name = value\n",
    "        \n",
    "    @name.deleter    # 用得非常少\n",
    "    def name(self):\n",
    "        # del self.__name\n",
    "        print('del...')\n",
    "        \n",
    "# 可读 可写属性（可删除）"
   ]
  },
  {
   "cell_type": "code",
   "execution_count": 385,
   "metadata": {},
   "outputs": [],
   "source": [
    "sam = Person('Sam')"
   ]
  },
  {
   "cell_type": "code",
   "execution_count": 386,
   "metadata": {},
   "outputs": [
    {
     "data": {
      "text/plain": [
       "'Sam'"
      ]
     },
     "execution_count": 386,
     "metadata": {},
     "output_type": "execute_result"
    }
   ],
   "source": [
    "sam.name    # getter"
   ]
  },
  {
   "cell_type": "code",
   "execution_count": 387,
   "metadata": {},
   "outputs": [],
   "source": [
    "sam.name = 'sammy'    # setter 赋值语句 调 name.setter方法"
   ]
  },
  {
   "cell_type": "code",
   "execution_count": 388,
   "metadata": {},
   "outputs": [
    {
     "data": {
      "text/plain": [
       "'sammy'"
      ]
     },
     "execution_count": 388,
     "metadata": {},
     "output_type": "execute_result"
    }
   ],
   "source": [
    "sam.name"
   ]
  },
  {
   "cell_type": "code",
   "execution_count": 389,
   "metadata": {},
   "outputs": [
    {
     "name": "stdout",
     "output_type": "stream",
     "text": [
      "del...\n"
     ]
    }
   ],
   "source": [
    "del sam.name"
   ]
  },
  {
   "cell_type": "code",
   "execution_count": null,
   "metadata": {},
   "outputs": [],
   "source": []
  },
  {
   "cell_type": "code",
   "execution_count": null,
   "metadata": {},
   "outputs": [],
   "source": [
    "class Person:\n",
    "    def __init__(self, name):\n",
    "        self._name = name\n",
    " \n",
    "    # 通过函数暴露 _name\n",
    "    @property    # class 本质是个类 在这里当装饰器用\n",
    "    def name(self):     # name被装饰成属性 读取属性 方法，getter\n",
    "        return '+++' + self._name + '+++'    # 属性增强 \n",
    "    \n",
    "    @name.setter   # @后面的name 是getter上面 @property装饰的方法 标识符\n",
    "    def name(self, value):  # 设置属性 方法，setter\n",
    "        self._name = value"
   ]
  },
  {
   "cell_type": "code",
   "execution_count": null,
   "metadata": {},
   "outputs": [],
   "source": []
  },
  {
   "cell_type": "code",
   "execution_count": 407,
   "metadata": {},
   "outputs": [],
   "source": [
    "class Person:\n",
    "    def __init__(self, name):\n",
    "        self.__name = name\n",
    "        \n",
    "    def get_name(self):     # 读取属性 方法，getter\n",
    "        return self.__name\n",
    "    \n",
    "    def set_name(self, value):  # 设置属性 方法，setter\n",
    "        self.__name = value\n",
    "    \n",
    "    name = property(get_name, set_name)    # getter, setter, deleter\n",
    "    # 优点: 上面的方法可以单独使用（复用）"
   ]
  },
  {
   "cell_type": "code",
   "execution_count": 408,
   "metadata": {},
   "outputs": [],
   "source": [
    "tom = Person('tom')"
   ]
  },
  {
   "cell_type": "code",
   "execution_count": 409,
   "metadata": {},
   "outputs": [
    {
     "data": {
      "text/plain": [
       "'tom'"
      ]
     },
     "execution_count": 409,
     "metadata": {},
     "output_type": "execute_result"
    }
   ],
   "source": [
    "tom.name"
   ]
  },
  {
   "cell_type": "code",
   "execution_count": 412,
   "metadata": {},
   "outputs": [],
   "source": [
    "tom.name = 'tommy2'"
   ]
  },
  {
   "cell_type": "code",
   "execution_count": 414,
   "metadata": {},
   "outputs": [],
   "source": [
    "tom.set_name('tom1')"
   ]
  },
  {
   "cell_type": "code",
   "execution_count": 415,
   "metadata": {},
   "outputs": [
    {
     "data": {
      "text/plain": [
       "'tom1'"
      ]
     },
     "execution_count": 415,
     "metadata": {},
     "output_type": "execute_result"
    }
   ],
   "source": [
    "tom.name"
   ]
  },
  {
   "cell_type": "code",
   "execution_count": null,
   "metadata": {},
   "outputs": [],
   "source": []
  },
  {
   "cell_type": "code",
   "execution_count": 416,
   "metadata": {},
   "outputs": [],
   "source": [
    "class Person:\n",
    "    def __init__(self, name):\n",
    "        self.__name = name\n",
    "        \n",
    "#     def get_name(self):     # 读取属性 方法，getter\n",
    "#         return self.__name\n",
    "    \n",
    "    def set_name(self, value):  # 设置属性 方法，setter\n",
    "        self.__name = value\n",
    "    \n",
    "    name = property(lambda self: self._name, set_name)    # getter, setter, deleter\n",
    "    # 优点: 上面的方法可以单独使用（复用）"
   ]
  },
  {
   "cell_type": "code",
   "execution_count": null,
   "metadata": {},
   "outputs": [],
   "source": []
  },
  {
   "cell_type": "code",
   "execution_count": 3,
   "metadata": {},
   "outputs": [],
   "source": [
    "class Person:\n",
    "    def __init__(self, name):\n",
    "        self.__name = name\n",
    "    \n",
    "    @property\n",
    "    def name(self):     # 读取属性 方法，getter\n",
    "        return self.name   # 千万不能写错 会无限递归调用\n",
    "    \n",
    "    @name.setter\n",
    "    def name(self, value):  # 设置属性 方法，setter\n",
    "        self.__name = value\n",
    "    "
   ]
  },
  {
   "cell_type": "code",
   "execution_count": 5,
   "metadata": {},
   "outputs": [],
   "source": [
    "john = Person('john')"
   ]
  },
  {
   "cell_type": "code",
   "execution_count": null,
   "metadata": {},
   "outputs": [],
   "source": [
    "john.name"
   ]
  },
  {
   "cell_type": "code",
   "execution_count": null,
   "metadata": {},
   "outputs": [],
   "source": []
  },
  {
   "cell_type": "code",
   "execution_count": null,
   "metadata": {},
   "outputs": [],
   "source": [
    "* 属性装饰器 \n",
    "    - 保护成员、私有成员 为了让它们能够显现出来，定义一些方法来访问\n",
    "    - 使用属性装饰器 @property 装饰 比较优雅\n",
    "    - 属性装饰器 至少是 只读 的 还可以加上 .setter .deleter"
   ]
  },
  {
   "cell_type": "markdown",
   "metadata": {},
   "source": [
    "# 封装总结\n",
    "\n",
    "面向对象的三要素之一，封装Encapsulation\n",
    "\n",
    "- 封装\n",
    "  - 将数据和操作组织到类中，即属性和方法\n",
    "  - 将数据隐藏起来，给使用者提供操作（方法）。使用者通过操作就可以获取或者修改数据。getter 和 setter\n",
    "  - 通过访问控制，暴露适当的数据和操作给用户，该隐藏的隐藏起来，例如保护成员 和 私有成员"
   ]
  },
  {
   "cell_type": "code",
   "execution_count": null,
   "metadata": {},
   "outputs": [],
   "source": []
  },
  {
   "cell_type": "code",
   "execution_count": null,
   "metadata": {},
   "outputs": [],
   "source": [
    "* 继承\n",
    "  - 减少代码冗余 多复用"
   ]
  },
  {
   "cell_type": "code",
   "execution_count": 12,
   "metadata": {},
   "outputs": [],
   "source": [
    "class Animal:  \n",
    "    def shout(self):\n",
    "        print('Animal shouts')\n",
    "        \n",
    "class Cat:\n",
    "    def shout(self):\n",
    "        print('Cat shouts')"
   ]
  },
  {
   "cell_type": "code",
   "execution_count": 2,
   "metadata": {},
   "outputs": [
    {
     "name": "stdout",
     "output_type": "stream",
     "text": [
      "Animal shouts\n",
      "Cat shouts\n"
     ]
    }
   ],
   "source": [
    "a = Animal()\n",
    "a.shout()\n",
    "c = Cat()\n",
    "c.shout()"
   ]
  },
  {
   "cell_type": "code",
   "execution_count": 20,
   "metadata": {},
   "outputs": [],
   "source": [
    "class Animal:\n",
    "    def __init__(self, name):\n",
    "        self._name = name\n",
    "        \n",
    "    @property\n",
    "    def name(self):\n",
    "        return self._name\n",
    "    \n",
    "    def shout(self):\n",
    "        # print('Animal shouts')\n",
    "        print('{} shouts'.format(self.name))\n",
    "    \n",
    "class Cat(Animal):  # 括号里面写父类 可以写多个（多继承）\n",
    "    pass\n",
    "\n",
    "class Dog(Animal):\n",
    "    pass\n",
    "\n",
    "    \n",
    "# 一样的代码 可以复用，就没有必要重复写了\n",
    "# 通过继承，猫类、狗类不用写代码，直接继承了父类的属性和方法"
   ]
  },
  {
   "cell_type": "code",
   "execution_count": 18,
   "metadata": {},
   "outputs": [
    {
     "name": "stdout",
     "output_type": "stream",
     "text": [
      "Grafield shouts\n"
     ]
    }
   ],
   "source": [
    "c = Cat('Grafield')\n",
    "c.shout()"
   ]
  },
  {
   "cell_type": "code",
   "execution_count": 8,
   "metadata": {},
   "outputs": [
    {
     "name": "stdout",
     "output_type": "stream",
     "text": [
      "Cat shouts\n"
     ]
    }
   ],
   "source": [
    "c = Cat()\n",
    "c.shout()"
   ]
  },
  {
   "cell_type": "code",
   "execution_count": 9,
   "metadata": {},
   "outputs": [
    {
     "name": "stdout",
     "output_type": "stream",
     "text": [
      "Animal shouts\n"
     ]
    }
   ],
   "source": [
    "a = Animal()\n",
    "a.shout()"
   ]
  },
  {
   "cell_type": "code",
   "execution_count": 22,
   "metadata": {},
   "outputs": [
    {
     "name": "stdout",
     "output_type": "stream",
     "text": [
      "ahuang shouts\n"
     ]
    }
   ],
   "source": [
    "d = Dog('ahuang')\n",
    "d.shout()"
   ]
  },
  {
   "cell_type": "markdown",
   "metadata": {},
   "source": [
    "* 继承\n",
    "class Cat(Animal) 这种形式就是从父类继承，括号中写上继承的类的列表\n",
    "继承可以让子类从父类获取特征（属性和方法）\n",
    "\n",
    "* 父类\n",
    "Animal就是Cat的父类，也成为基类、超类\n",
    "\n",
    "* 子类\n",
    "Cat就是Animal的子类，也成为派生类\n",
    "\n",
    "\n",
    "```python\n",
    "class A:\n",
    "    pass\n",
    "\n",
    "# object类，所有继承关系中，所有类型的 根 基类\n",
    "# object类没有父类\n",
    "class A(object):    \n",
    "    pass\n",
    "\n",
    "\n",
    "# python3中 上面2中定义 是一致的，等价(同一回事)\n",
    "```\n",
    "\n",
    "* type是类型，是元类（构造类的类）， 它的父类是object\n",
    "* object也是类，他是type(object) 是 type，元类构造出类对象object\n",
    "\n",
    "\n",
    "```python\n",
    "class A:    # python 2中 这是旧式类定义(古典类)\n",
    "    pass\n",
    "\n",
    "class B(object):    # 显示类定义\n",
    "    pass\n",
    "\n",
    "```"
   ]
  },
  {
   "cell_type": "code",
   "execution_count": 24,
   "metadata": {},
   "outputs": [],
   "source": [
    "class A:\n",
    "    pass"
   ]
  },
  {
   "cell_type": "code",
   "execution_count": 25,
   "metadata": {},
   "outputs": [
    {
     "data": {
      "text/plain": [
       "mappingproxy({'__module__': '__main__',\n",
       "              '__dict__': <attribute '__dict__' of 'A' objects>,\n",
       "              '__weakref__': <attribute '__weakref__' of 'A' objects>,\n",
       "              '__doc__': None})"
      ]
     },
     "execution_count": 25,
     "metadata": {},
     "output_type": "execute_result"
    }
   ],
   "source": [
    "A.__dict__    # type构造出A类对象，属性和方法 继承的object"
   ]
  },
  {
   "cell_type": "code",
   "execution_count": 28,
   "metadata": {},
   "outputs": [
    {
     "data": {
      "text/plain": [
       "(type, type, True)"
      ]
     },
     "execution_count": 28,
     "metadata": {},
     "output_type": "execute_result"
    }
   ],
   "source": [
    "A.__class__, type(A), A.__class__ is type(A)"
   ]
  },
  {
   "cell_type": "code",
   "execution_count": 30,
   "metadata": {},
   "outputs": [
    {
     "name": "stdout",
     "output_type": "stream",
     "text": [
      "<class '__main__.A'> <class '__main__.A'> True\n"
     ]
    }
   ],
   "source": [
    "a = A()\n",
    "print(type(a), a.__class__, type(a) is a.__class__)"
   ]
  },
  {
   "cell_type": "code",
   "execution_count": 34,
   "metadata": {},
   "outputs": [
    {
     "data": {
      "text/plain": [
       "((object,), (object,), object)"
      ]
     },
     "execution_count": 34,
     "metadata": {},
     "output_type": "execute_result"
    }
   ],
   "source": [
    "a.__class__.__bases__, A.__bases__, A.__base__ # __bases__[0]"
   ]
  },
  {
   "cell_type": "code",
   "execution_count": 36,
   "metadata": {},
   "outputs": [
    {
     "data": {
      "text/plain": [
       "([__main__.A, object], (__main__.A, object))"
      ]
     },
     "execution_count": 36,
     "metadata": {},
     "output_type": "execute_result"
    }
   ],
   "source": [
    "A.mro(), A.__mro__    # 方法搜索顺序 python2旧氏类不支持mro"
   ]
  },
  {
   "cell_type": "code",
   "execution_count": 39,
   "metadata": {},
   "outputs": [
    {
     "data": {
      "text/plain": [
       "[__main__.Dog, __main__.Animal, object]"
      ]
     },
     "execution_count": 39,
     "metadata": {},
     "output_type": "execute_result"
    }
   ],
   "source": [
    "Dog.mro()    # 方法解析顺序 *** 了解继承体系\n",
    "# 不管是list 还是__mro__ 元组，都是顺序表 需要定义一个顺序"
   ]
  },
  {
   "cell_type": "markdown",
   "metadata": {},
   "source": [
    "** 特殊属性方法\n",
    "\n",
    "__bases__  类的基类元组\n",
    "__base__   类的基类元组的第一项\n",
    "__mro__    显示方法查找顺序，基类的元组\n",
    "mro()方法   同上，返回列表\n",
    "__subclasses__()    类的子类列表"
   ]
  },
  {
   "cell_type": "code",
   "execution_count": 41,
   "metadata": {},
   "outputs": [
    {
     "data": {
      "text/plain": [
       "[bool,\n",
       " <enum 'IntEnum'>,\n",
       " <enum 'IntFlag'>,\n",
       " sre_constants._NamedIntConstant,\n",
       " subprocess.Handle]"
      ]
     },
     "execution_count": 41,
     "metadata": {},
     "output_type": "execute_result"
    }
   ],
   "source": [
    "int.__subclasses__()"
   ]
  },
  {
   "cell_type": "code",
   "execution_count": 42,
   "metadata": {},
   "outputs": [
    {
     "data": {
      "text/plain": [
       "[bool, int, object]"
      ]
     },
     "execution_count": 42,
     "metadata": {},
     "output_type": "execute_result"
    }
   ],
   "source": [
    "bool.mro()"
   ]
  },
  {
   "cell_type": "code",
   "execution_count": null,
   "metadata": {},
   "outputs": [],
   "source": []
  },
  {
   "cell_type": "code",
   "execution_count": null,
   "metadata": {},
   "outputs": [],
   "source": [
    "** 继承中的访问控制"
   ]
  },
  {
   "cell_type": "code",
   "execution_count": 54,
   "metadata": {},
   "outputs": [],
   "source": [
    "# 类外不让你访问，子类也不让你访问（私有__name 非常强烈的所属性，私有成员 不继承）\n",
    "class Animal:   # 私有的这样写不好，为什么这样写不好？\n",
    "    __a = 10    # _Animal__a = 10\n",
    "    _b = 20\n",
    "    c = 30\n",
    "    \n",
    "    def __init__(self):\n",
    "        self.__d = 40\n",
    "        self._e = 50\n",
    "        self.f = 60\n",
    "        self.__a += 1    # self._Animal__a(实例属性) = self._Animal__a(类属性) + 1\n",
    "    # 私有属性命名规则 在哪个类中 就跟着哪个类的名字走\n",
    "    # __name => _Animal__name\n",
    "\n",
    "    def showa(self):\n",
    "        print(self.__a)  # self._Animal__a? 11  实例属性\n",
    "        print(self.__class__.__a)  # Cat.__a => Cat._Animal__a 10\n",
    "        \n",
    "    def __showb(self):\n",
    "        print(self._b)\n",
    "        print(self.__a)\n",
    "        print(self.__class__.__a)\n",
    "        \n",
    "class Cat(Animal):\n",
    "    __a = 100    # _Cat__a = 100\n",
    "    _b = 200"
   ]
  },
  {
   "cell_type": "code",
   "execution_count": 55,
   "metadata": {},
   "outputs": [
    {
     "name": "stdout",
     "output_type": "stream",
     "text": [
      "11\n",
      "10\n"
     ]
    }
   ],
   "source": [
    "c = Cat()\n",
    "c.showa()\n",
    "# 实例属性的走索；实例先问自己的字典，再访问自己类的字典中属性，会跑到父类中的 类字典中类属性"
   ]
  },
  {
   "cell_type": "code",
   "execution_count": 56,
   "metadata": {},
   "outputs": [
    {
     "name": "stdout",
     "output_type": "stream",
     "text": [
      "200\n",
      "11\n",
      "10\n"
     ]
    }
   ],
   "source": [
    "c._Animal__showb()   # 200, 11, 10  # 私有 这种访问方式 不好；不要这样访问"
   ]
  },
  {
   "cell_type": "code",
   "execution_count": 57,
   "metadata": {},
   "outputs": [
    {
     "name": "stdout",
     "output_type": "stream",
     "text": [
      "30\n"
     ]
    }
   ],
   "source": [
    "print(c.c)"
   ]
  },
  {
   "cell_type": "code",
   "execution_count": 58,
   "metadata": {},
   "outputs": [
    {
     "name": "stdout",
     "output_type": "stream",
     "text": [
      "40\n"
     ]
    }
   ],
   "source": [
    "print(c._Animal__d)"
   ]
  },
  {
   "cell_type": "code",
   "execution_count": 59,
   "metadata": {},
   "outputs": [
    {
     "name": "stdout",
     "output_type": "stream",
     "text": [
      "50 60 11\n"
     ]
    }
   ],
   "source": [
    "print(c._e, c.f, c._Animal__a)  # 50 60 11"
   ]
  },
  {
   "cell_type": "code",
   "execution_count": 51,
   "metadata": {},
   "outputs": [
    {
     "data": {
      "text/plain": [
       "({'_Animal__d': 40, '_e': 50, 'f': 60, '_Animal__a': 11},\n",
       " mappingproxy({'__module__': '__main__',\n",
       "               '_Cat__a': 100,\n",
       "               '_b': 200,\n",
       "               '__doc__': None}),\n",
       " mappingproxy({'__module__': '__main__',\n",
       "               '_Animal__a': 10,\n",
       "               '_b': 20,\n",
       "               'c': 30,\n",
       "               '__init__': <function __main__.Animal.__init__(self)>,\n",
       "               'showa': <function __main__.Animal.showa(self)>,\n",
       "               '_Animal__showb': <function __main__.Animal.__showb(self)>,\n",
       "               '__dict__': <attribute '__dict__' of 'Animal' objects>,\n",
       "               '__weakref__': <attribute '__weakref__' of 'Animal' objects>,\n",
       "               '__doc__': None}))"
      ]
     },
     "execution_count": 51,
     "metadata": {},
     "output_type": "execute_result"
    }
   ],
   "source": [
    "c.__dict__, Cat.__dict__, Animal.__dict__"
   ]
  },
  {
   "cell_type": "code",
   "execution_count": null,
   "metadata": {},
   "outputs": [],
   "source": []
  },
  {
   "cell_type": "code",
   "execution_count": 61,
   "metadata": {},
   "outputs": [
    {
     "ename": "AttributeError",
     "evalue": "'Cat' object has no attribute '_Cat__a'",
     "output_type": "error",
     "traceback": [
      "\u001b[1;31m---------------------------------------------------------------------------\u001b[0m",
      "\u001b[1;31mAttributeError\u001b[0m                            Traceback (most recent call last)",
      "\u001b[1;32m<ipython-input-61-19bceae767c9>\u001b[0m in \u001b[0;36m<module>\u001b[1;34m\u001b[0m\n\u001b[0;32m      8\u001b[0m \u001b[1;33m\u001b[0m\u001b[0m\n\u001b[0;32m      9\u001b[0m \u001b[0mc\u001b[0m \u001b[1;33m=\u001b[0m \u001b[0mCat\u001b[0m\u001b[1;33m(\u001b[0m\u001b[1;33m)\u001b[0m\u001b[1;33m\u001b[0m\u001b[1;33m\u001b[0m\u001b[0m\n\u001b[1;32m---> 10\u001b[1;33m \u001b[0mc\u001b[0m\u001b[1;33m.\u001b[0m\u001b[0mshow\u001b[0m\u001b[1;33m(\u001b[0m\u001b[1;33m)\u001b[0m\u001b[1;33m\u001b[0m\u001b[1;33m\u001b[0m\u001b[0m\n\u001b[0m",
      "\u001b[1;32m<ipython-input-61-19bceae767c9>\u001b[0m in \u001b[0;36mshow\u001b[1;34m(self)\u001b[0m\n\u001b[0;32m      5\u001b[0m \u001b[1;32mclass\u001b[0m \u001b[0mCat\u001b[0m\u001b[1;33m(\u001b[0m\u001b[0mAnimal\u001b[0m\u001b[1;33m)\u001b[0m\u001b[1;33m:\u001b[0m\u001b[1;33m\u001b[0m\u001b[1;33m\u001b[0m\u001b[0m\n\u001b[0;32m      6\u001b[0m     \u001b[1;32mdef\u001b[0m \u001b[0mshow\u001b[0m\u001b[1;33m(\u001b[0m\u001b[0mself\u001b[0m\u001b[1;33m)\u001b[0m\u001b[1;33m:\u001b[0m\u001b[1;33m\u001b[0m\u001b[1;33m\u001b[0m\u001b[0m\n\u001b[1;32m----> 7\u001b[1;33m         \u001b[1;32mreturn\u001b[0m \u001b[0mself\u001b[0m\u001b[1;33m.\u001b[0m\u001b[0m__a\u001b[0m\u001b[1;33m\u001b[0m\u001b[1;33m\u001b[0m\u001b[0m\n\u001b[0m\u001b[0;32m      8\u001b[0m \u001b[1;33m\u001b[0m\u001b[0m\n\u001b[0;32m      9\u001b[0m \u001b[0mc\u001b[0m \u001b[1;33m=\u001b[0m \u001b[0mCat\u001b[0m\u001b[1;33m(\u001b[0m\u001b[1;33m)\u001b[0m\u001b[1;33m\u001b[0m\u001b[1;33m\u001b[0m\u001b[0m\n",
      "\u001b[1;31mAttributeError\u001b[0m: 'Cat' object has no attribute '_Cat__a'"
     ]
    }
   ],
   "source": [
    "class Animal:\n",
    "    def __init__(self):\n",
    "        self.__a = 100\n",
    "    \n",
    "class Cat(Animal):\n",
    "    def show(self):\n",
    "        return self.__a\n",
    "    \n",
    "c = Cat()\n",
    "c.show()"
   ]
  },
  {
   "cell_type": "code",
   "execution_count": 62,
   "metadata": {},
   "outputs": [
    {
     "data": {
      "text/plain": [
       "{'_Animal__a': 100}"
      ]
     },
     "execution_count": 62,
     "metadata": {},
     "output_type": "execute_result"
    }
   ],
   "source": [
    "c.__dict__"
   ]
  },
  {
   "cell_type": "code",
   "execution_count": 64,
   "metadata": {},
   "outputs": [
    {
     "data": {
      "text/plain": [
       "100"
      ]
     },
     "execution_count": 64,
     "metadata": {},
     "output_type": "execute_result"
    }
   ],
   "source": [
    "class Animal:\n",
    "    def __init__(self):\n",
    "        self.__a = 100\n",
    "        \n",
    "    def show(self):\n",
    "        return self.__a\n",
    "    \n",
    "    @property\n",
    "    def a(self):\n",
    "        return self.__a\n",
    "    \n",
    "    \n",
    "class Cat(Animal): pass\n",
    "\n",
    "c = Cat()\n",
    "c.show()"
   ]
  },
  {
   "cell_type": "code",
   "execution_count": null,
   "metadata": {},
   "outputs": [],
   "source": [
    "# 实例属性的搜索：实例先问自己的字典，再访问自己类字典中的类属性，\n",
    "# 如果没有找到，会跑到父类中的 类字典 中找类属性\n",
    "\n",
    "# 私有的属性（私有成员）不想暴露出来，要访问，需要通过一些公开的\n",
    "# 方法(@property) 或者 属性 来访问\n",
    "\n",
    "# 实例属性查找顺序\n",
    "# 实例的__dict__ -> 类__dict__ -> 如果有继承 -> 父类 __dict__\n",
    "# 如果搜索这些地方后没有找到 就会抛异常，先找到就立即返回"
   ]
  },
  {
   "cell_type": "code",
   "execution_count": 65,
   "metadata": {},
   "outputs": [
    {
     "data": {
      "text/plain": [
       "100"
      ]
     },
     "execution_count": 65,
     "metadata": {},
     "output_type": "execute_result"
    }
   ],
   "source": [
    "c.a"
   ]
  },
  {
   "cell_type": "code",
   "execution_count": null,
   "metadata": {},
   "outputs": [],
   "source": []
  },
  {
   "cell_type": "code",
   "execution_count": null,
   "metadata": {},
   "outputs": [],
   "source": [
    "** 方法的重写、覆盖override"
   ]
  },
  {
   "cell_type": "code",
   "execution_count": 120,
   "metadata": {},
   "outputs": [],
   "source": [
    "class Animal:\n",
    "    def shout(self):    # 打好了基础\n",
    "        print('Animal shouts', self)\n",
    "        \n",
    "class Cat(Animal):\n",
    "#     def shout(self):    # override 重写、覆盖。表现不同(突变)\n",
    "#         print('Miao~')\n",
    "\n",
    "    # 我们如果不是完全取代它，在它的基础上作锦上添花，调用父类的方法\n",
    "    # 锦上添花：先调用父类中往往被我们覆盖的方法，再做增强\n",
    "    # 完全覆盖：不用调父类方法\n",
    "    def shout(self):\n",
    "        Animal.shout(self)\n",
    "        self.__class__.__base__.shout(self)    # 不推荐\n",
    "        super().shout()    # self可以不写 super(__class__, self)\n",
    "        super(Cat, self).shout()\n",
    "        super(__class__, self).shout()\n",
    "        print('Miao ~')\n"
   ]
  },
  {
   "cell_type": "code",
   "execution_count": 121,
   "metadata": {},
   "outputs": [
    {
     "name": "stdout",
     "output_type": "stream",
     "text": [
      "Animal shouts <__main__.Cat object at 0x000001D51E019188>\n",
      "Animal shouts <__main__.Cat object at 0x000001D51E019188>\n",
      "Animal shouts <__main__.Cat object at 0x000001D51E019188>\n",
      "Animal shouts <__main__.Cat object at 0x000001D51E019188>\n",
      "Animal shouts <__main__.Cat object at 0x000001D51E019188>\n",
      "Miao ~\n"
     ]
    }
   ],
   "source": [
    "c = Cat()\n",
    "c.shout()"
   ]
  },
  {
   "cell_type": "code",
   "execution_count": 77,
   "metadata": {},
   "outputs": [
    {
     "name": "stdout",
     "output_type": "stream",
     "text": [
      "Animal shouts\n"
     ]
    }
   ],
   "source": [
    "a = Animal()\n",
    "a.shout()"
   ]
  },
  {
   "cell_type": "code",
   "execution_count": 87,
   "metadata": {},
   "outputs": [
    {
     "data": {
      "text/plain": [
       "<function __main__.Animal.shout(self)>"
      ]
     },
     "execution_count": 87,
     "metadata": {},
     "output_type": "execute_result"
    }
   ],
   "source": [
    "type(c).__base__.shout"
   ]
  },
  {
   "cell_type": "code",
   "execution_count": null,
   "metadata": {},
   "outputs": [],
   "source": [
    "__class__   #  在类里面单独使用 表示当前类\n",
    "super().shout()   ==>  super(__class__, self)\n",
    "super()可以访问到父类的类属性\n",
    "\n",
    "静态方法(@staticmethod)和类方法(@classmethod)，是特殊的方法，也是类属性，所以访问方式一样"
   ]
  },
  {
   "cell_type": "code",
   "execution_count": null,
   "metadata": {},
   "outputs": [],
   "source": [
    "** 继承时 使用初始化"
   ]
  },
  {
   "cell_type": "code",
   "execution_count": 122,
   "metadata": {},
   "outputs": [
    {
     "name": "stdout",
     "output_type": "stream",
     "text": [
      "<__main__.A object at 0x000001D51DB7C588>\n"
     ]
    }
   ],
   "source": [
    "class A:    # 新式类 继承了object\n",
    "    pass\n",
    "\n",
    "t = A()    # object.__init__\n",
    "print(t)"
   ]
  },
  {
   "cell_type": "code",
   "execution_count": 128,
   "metadata": {},
   "outputs": [
    {
     "name": "stdout",
     "output_type": "stream",
     "text": [
      "<__main__.B object at 0x000001D51D8F4C08>\n",
      "{'a1': 'a1'}\n"
     ]
    }
   ],
   "source": [
    "class A:\n",
    "    def __init__(self):    # 完全覆盖object 父类的__init__方法\n",
    "        self.a1 = 'a1'\n",
    "\n",
    "class B(A):\n",
    "    pass\n",
    "\n",
    "t = B()    # object 根基类这里知道该如何实例化 object.__new__、如何初始化\n",
    "print(t)\n",
    "print(t.__dict__)"
   ]
  },
  {
   "cell_type": "code",
   "execution_count": 131,
   "metadata": {},
   "outputs": [
    {
     "name": "stdout",
     "output_type": "stream",
     "text": [
      "<__main__.B object at 0x000001D51DCC9808>\n"
     ]
    },
    {
     "ename": "AttributeError",
     "evalue": "'B' object has no attribute 'a1'",
     "output_type": "error",
     "traceback": [
      "\u001b[1;31m---------------------------------------------------------------------------\u001b[0m",
      "\u001b[1;31mAttributeError\u001b[0m                            Traceback (most recent call last)",
      "\u001b[1;32m<ipython-input-131-29c634455b3f>\u001b[0m in \u001b[0;36m<module>\u001b[1;34m\u001b[0m\n\u001b[0;32m     13\u001b[0m \u001b[0mt\u001b[0m \u001b[1;33m=\u001b[0m \u001b[0mB\u001b[0m\u001b[1;33m(\u001b[0m\u001b[1;33m)\u001b[0m    \u001b[1;31m# object 根基类这里知道该如何实例化 object.__new__、如何初始化\u001b[0m\u001b[1;33m\u001b[0m\u001b[1;33m\u001b[0m\u001b[0m\n\u001b[0;32m     14\u001b[0m \u001b[0mprint\u001b[0m\u001b[1;33m(\u001b[0m\u001b[0mt\u001b[0m\u001b[1;33m)\u001b[0m\u001b[1;33m\u001b[0m\u001b[1;33m\u001b[0m\u001b[0m\n\u001b[1;32m---> 15\u001b[1;33m \u001b[0mprint\u001b[0m\u001b[1;33m(\u001b[0m\u001b[0mt\u001b[0m\u001b[1;33m.\u001b[0m\u001b[0mprintv\u001b[0m\u001b[1;33m(\u001b[0m\u001b[1;33m)\u001b[0m\u001b[1;33m)\u001b[0m\u001b[1;33m\u001b[0m\u001b[1;33m\u001b[0m\u001b[0m\n\u001b[0m",
      "\u001b[1;32m<ipython-input-131-29c634455b3f>\u001b[0m in \u001b[0;36mprintv\u001b[1;34m(self)\u001b[0m\n\u001b[0;32m      5\u001b[0m \u001b[1;33m\u001b[0m\u001b[0m\n\u001b[0;32m      6\u001b[0m     \u001b[1;32mdef\u001b[0m \u001b[0mprintv\u001b[0m\u001b[1;33m(\u001b[0m\u001b[0mself\u001b[0m\u001b[1;33m)\u001b[0m\u001b[1;33m:\u001b[0m\u001b[1;33m\u001b[0m\u001b[1;33m\u001b[0m\u001b[0m\n\u001b[1;32m----> 7\u001b[1;33m         \u001b[0mprint\u001b[0m\u001b[1;33m(\u001b[0m\u001b[0mself\u001b[0m\u001b[1;33m.\u001b[0m\u001b[0ma1\u001b[0m\u001b[1;33m)\u001b[0m\u001b[1;33m\u001b[0m\u001b[1;33m\u001b[0m\u001b[0m\n\u001b[0m\u001b[0;32m      8\u001b[0m \u001b[1;33m\u001b[0m\u001b[0m\n\u001b[0;32m      9\u001b[0m \u001b[1;32mclass\u001b[0m \u001b[0mB\u001b[0m\u001b[1;33m(\u001b[0m\u001b[0mA\u001b[0m\u001b[1;33m)\u001b[0m\u001b[1;33m:\u001b[0m\u001b[1;33m\u001b[0m\u001b[1;33m\u001b[0m\u001b[0m\n",
      "\u001b[1;31mAttributeError\u001b[0m: 'B' object has no attribute 'a1'"
     ]
    }
   ],
   "source": [
    "class A:\n",
    "    def __init__(self):    # 完全覆盖object 父类的__init__方法\n",
    "        self.a1 = 'a1'\n",
    "        self.__a2 = 'a2'\n",
    "        \n",
    "    def printv(self):\n",
    "        print(self.a1)    # 不能这么写\n",
    "        print(self.__a2)\n",
    "        # print(self.b1)\n",
    "\n",
    "class B(A):\n",
    "    def __init__(self):  # 完全覆盖A类的__init__方法\n",
    "        self.b1 = 'b1'\n",
    "        \n",
    "#     def printv(self):  # 子类需要打印 自己重新写方法\n",
    "#         pass\n",
    "\n",
    "t = B()    # object 根基类这里知道该如何实例化 object.__new__、如何初始化\n",
    "print(t)\n",
    "print(t.printv())"
   ]
  },
  {
   "cell_type": "code",
   "execution_count": 140,
   "metadata": {},
   "outputs": [
    {
     "name": "stdout",
     "output_type": "stream",
     "text": [
      "{'b1': 'b1', 'a1': 'a1', '_A__a2': 'a2'}\n",
      "a1\n",
      "a2\n",
      "b1\n"
     ]
    }
   ],
   "source": [
    "class A:\n",
    "    def __init__(self):    # 完全覆盖object 父类的__init__方法\n",
    "        self.a1 = 'a1'\n",
    "        self.__a2 = 'a2'\n",
    "        \n",
    "    def printv(self):\n",
    "        print(self.a1)    # 不能这么写\n",
    "        print(self.__a2)\n",
    "        # print(self.b1)\n",
    "\n",
    "class B(A):\n",
    "    def __init__(self):  # 完全覆盖A类的__init__方法\n",
    "        # A.__init__(self)\n",
    "        # super(B, self).__init__()\n",
    "        super().__init__()   # 比较保险 先调用父类\n",
    "        self.b1 = 'b1'\n",
    "        \n",
    "    def printv(self):\n",
    "        super().printv()\n",
    "        # print(self.a1)\n",
    "        print(self.b1)\n",
    "        # print(self.__a2)\n",
    "        \n",
    "t = B()\n",
    "print(t.__dict__)\n",
    "t.printv()"
   ]
  },
  {
   "cell_type": "code",
   "execution_count": null,
   "metadata": {},
   "outputs": [],
   "source": [
    "# 初始化方法 __init__ 应该先调用父类初始化方法 \n",
    "# super().__init__() == super(__class__, self).__init__()\n",
    "# __init__方法 父类有，子类一般要先调用；父类没有，可以不调用\n",
    "\n",
    "# 普通方法 看需求请况： 是完全覆盖 还是 借助，并锦上添花"
   ]
  },
  {
   "cell_type": "code",
   "execution_count": null,
   "metadata": {},
   "outputs": [],
   "source": []
  },
  {
   "cell_type": "code",
   "execution_count": 160,
   "metadata": {},
   "outputs": [
    {
     "name": "stdout",
     "output_type": "stream",
     "text": [
      "{'a': 9, '_A__d': 10, 'b': 4, 'c': 5}\n",
      "9\n",
      "4 5\n"
     ]
    }
   ],
   "source": [
    "class A:    # 基类 往往会定义很多属性、方法\n",
    "    def __init__(self, a, d=10):\n",
    "        self.a = a\n",
    "        self.__d = d\n",
    "    \n",
    "    def printv(self):\n",
    "        print(self.a)\n",
    "        \n",
    "class B(A):\n",
    "    def __init__(self, b, c):\n",
    "        super().__init__(b + c)\n",
    "        self.b = b\n",
    "        self.c = c\n",
    "    \n",
    "    def printv(self):\n",
    "        super().printv()\n",
    "        print(self.b, self.c)\n",
    "        \n",
    "t = B(4, 5)\n",
    "print(t.__dict__)\n",
    "\n",
    "t.printv()\n",
    "# t.__class__.__base__.printv(t)    # 不推荐，super(B, t).printv()\n",
    "# super(B, t).printv()    # super()一般不在外面用\n",
    "        "
   ]
  },
  {
   "cell_type": "code",
   "execution_count": 164,
   "metadata": {},
   "outputs": [
    {
     "data": {
      "text/plain": [
       "[__main__.B, __main__.A, object]"
      ]
     },
     "execution_count": 164,
     "metadata": {},
     "output_type": "execute_result"
    }
   ],
   "source": [
    "B.mro()    # 单一继承 继承顺序非常明确"
   ]
  },
  {
   "cell_type": "markdown",
   "metadata": {},
   "source": [
    "* 继承 总结\n",
    "\n",
    "  - 如果在子类中覆盖了父类的__init__方法，那么在子类的__init__方法中，应该显示调用父类的__init__方法\n",
    "  \n",
    "  - Python中并不限制在子类的__init__方法中调用父类的__init__方法的位置，但一般都应该尽早的调用\n",
    "  \n",
    "  - 推荐使用super().__init__() 或 super(B, self).__init__() # super(__class__, self).__init__()\n",
    "  \n",
    "  \n",
    "__class__ 在类里面单独使用，表示当前类\n",
    "\n",
    "\n",
    "* 单继承\n",
    "\n",
    "上面的例子中，类的继承列表中只有一个类，这种继承称为单一继承\n",
    "\n",
    "OCP原则：**多用\"继承\"、少修改**。对扩展开放，对修改封闭（对父类的修改是封闭的，在子类里面去增强修改；在子类中修改，扩展开放）\n",
    "\n",
    "继承的用途：在子类上实现对基类的增强，实现多态\n",
    "继承：尽量的去复用父类的属性、方法"
   ]
  },
  {
   "cell_type": "code",
   "execution_count": null,
   "metadata": {},
   "outputs": [],
   "source": []
  },
  {
   "cell_type": "markdown",
   "metadata": {},
   "source": [
    "* 多态\n",
    "\n",
    "多态的前提：\n",
    "  1. (首先要有)继承\n",
    "  2. (子类中的)覆盖\n",
    "  \n",
    "同一套接口shout，在不同子类上表现不同，称为不同的态\n",
    "\n",
    "java、C++ 静态语言\n",
    "\n",
    "Animal x = new Cat('Garfield')    # isinstance\n",
    "x.shout()    # miao 动态绑定，后期绑定、运行时绑定（编译时、运行时）\n",
    "x = new Dog('ahuang')\n",
    "x.shout()    # wnagwang"
   ]
  },
  {
   "cell_type": "code",
   "execution_count": null,
   "metadata": {},
   "outputs": [],
   "source": [
    "封装： 不想暴露的属性 又想别人使用 --> 使用方法装饰器 @property"
   ]
  },
  {
   "cell_type": "code",
   "execution_count": null,
   "metadata": {},
   "outputs": [],
   "source": []
  },
  {
   "cell_type": "code",
   "execution_count": null,
   "metadata": {},
   "outputs": [],
   "source": [
    "** 多继承"
   ]
  },
  {
   "cell_type": "markdown",
   "metadata": {},
   "source": [
    "```python\n",
    "class A(B, C): pass\n",
    "class D(B, C): pass\n",
    "```\n",
    "\n",
    "A D用B的多点 还是用C的多点\n",
    "不能 不确定性，编程 必须明确    \n",
    "\n",
    "* 菱形继承\n",
    "广度优先 or 深度优先\n",
    "\n",
    "  - 深度优先：顺着一个分支一直走到底，然后再走另一个分支一直走到底\n",
    "  - 广度优先：分层方案，一层一层走\n",
    "\n",
    "* python使用MRO:（method resolution order, 方法解析顺序）解决基类搜索顺序问题\n",
    "  * 历史原因 MRO有三个搜索算法\n",
    "    - 经典算法：2.2版本之前 按照定义先左后右，深度优先策略(古典类 旧式类)\n",
    "    - 新式类算法：深度优先，重复的只保留最后一个 2.2版本；没有解决继承的单调性\n",
    "    - C3算法：在类被创建出来的时候，就计算出一个MRO有序列表。2.3之后支持，python3唯一支持的算法。也是深度优先，C3算法解决多继承的**二义性、单调性**\n",
    "    \n",
    "- 保证单调性原则：子类不改变父类的方法搜索顺序\n",
    "- 不管语言是否支持多继承，都应当避免多继承（能不用则不用 实在要用，应仔细考虑）"
   ]
  },
  {
   "cell_type": "code",
   "execution_count": null,
   "metadata": {},
   "outputs": [],
   "source": []
  },
  {
   "cell_type": "code",
   "execution_count": null,
   "metadata": {},
   "outputs": [],
   "source": [
    "** Mixin （混合）"
   ]
  },
  {
   "cell_type": "code",
   "execution_count": 187,
   "metadata": {},
   "outputs": [],
   "source": [
    "class Document:\n",
    "    def __init__(self, content):\n",
    "        self.content = content\n",
    "    \n",
    "    # 内容是一样的 但是各文档打印的方法无法重新定义   \n",
    "    # 要求所有的文档子类都应该知道如何排版打印，没法具体实现\n",
    "    def print_mtd(self):    # 未来子类要解决打印问题 你必须要覆盖此方法，基类没法实现  \n",
    "        raise NotImplementedError()  # 占坑，并不实际实现\n",
    "    # 抛出未实现异常的方法称为抽象方法。具有抽象方法的类一般作为基类，抽象基类\n",
    "    # 在其他面向对象语言中，抽象的方法的类叫做抽象类，抽象类不可实例化（python没有这个限制）\n",
    "    # 言下之意：告诉子孙类，你们要覆盖print_mtd方法\n",
    "        \n",
    "        \n",
    "class Word(Document):   # word打印和pdf打印一样么?\n",
    "    def print_mtd(self):    # 必须覆盖 父类抽象方法 \n",
    "        print('word format print: {}'.format(self.content))\n",
    "\n",
    "# 子类中一定要把这个抽象方法的坑填了（实现）\n",
    "class Pdf(Document):\n",
    "    def print_mtd(self):\n",
    "        print('pdf format print: {}'.format(self.content))"
   ]
  },
  {
   "cell_type": "code",
   "execution_count": 184,
   "metadata": {},
   "outputs": [
    {
     "ename": "NotImplementedError",
     "evalue": "",
     "output_type": "error",
     "traceback": [
      "\u001b[1;31m---------------------------------------------------------------------------\u001b[0m",
      "\u001b[1;31mNotImplementedError\u001b[0m                       Traceback (most recent call last)",
      "\u001b[1;32m<ipython-input-184-a782c8b5b6b0>\u001b[0m in \u001b[0;36m<module>\u001b[1;34m\u001b[0m\n\u001b[0;32m      1\u001b[0m \u001b[0mdoc\u001b[0m \u001b[1;33m=\u001b[0m \u001b[0mDocument\u001b[0m\u001b[1;33m(\u001b[0m\u001b[1;34m'doc'\u001b[0m\u001b[1;33m)\u001b[0m\u001b[1;33m\u001b[0m\u001b[1;33m\u001b[0m\u001b[0m\n\u001b[1;32m----> 2\u001b[1;33m \u001b[0mdoc\u001b[0m\u001b[1;33m.\u001b[0m\u001b[0mprint_mtd\u001b[0m\u001b[1;33m(\u001b[0m\u001b[1;33m)\u001b[0m\u001b[1;33m\u001b[0m\u001b[1;33m\u001b[0m\u001b[0m\n\u001b[0m",
      "\u001b[1;32m<ipython-input-181-fe008827b5f1>\u001b[0m in \u001b[0;36mprint_mtd\u001b[1;34m(self)\u001b[0m\n\u001b[0;32m      6\u001b[0m     \u001b[1;31m# 要求文档子类都应该知道如何排版\u001b[0m\u001b[1;33m\u001b[0m\u001b[1;33m\u001b[0m\u001b[1;33m\u001b[0m\u001b[0m\n\u001b[0;32m      7\u001b[0m     \u001b[1;32mdef\u001b[0m \u001b[0mprint_mtd\u001b[0m\u001b[1;33m(\u001b[0m\u001b[0mself\u001b[0m\u001b[1;33m)\u001b[0m\u001b[1;33m:\u001b[0m    \u001b[1;31m# 未来子类要解决打印问题 你必须要覆盖此方法，基类没法实现\u001b[0m\u001b[1;33m\u001b[0m\u001b[1;33m\u001b[0m\u001b[0m\n\u001b[1;32m----> 8\u001b[1;33m         \u001b[1;32mraise\u001b[0m \u001b[0mNotImplementedError\u001b[0m\u001b[1;33m(\u001b[0m\u001b[1;33m)\u001b[0m  \u001b[1;31m# 占坑，并不实际实现\u001b[0m\u001b[1;33m\u001b[0m\u001b[1;33m\u001b[0m\u001b[0m\n\u001b[0m\u001b[0;32m      9\u001b[0m     \u001b[1;31m# 抛出未实现异常的方法称为抽象方法。具有抽象方法的类一般作为基类，抽象基类\u001b[0m\u001b[1;33m\u001b[0m\u001b[1;33m\u001b[0m\u001b[1;33m\u001b[0m\u001b[0m\n\u001b[0;32m     10\u001b[0m     \u001b[1;31m# 在其他面向对象语言中，抽象的方法叫做抽象类，抽象类不可实例化（python没有这个限制）\u001b[0m\u001b[1;33m\u001b[0m\u001b[1;33m\u001b[0m\u001b[1;33m\u001b[0m\u001b[0m\n",
      "\u001b[1;31mNotImplementedError\u001b[0m: "
     ]
    }
   ],
   "source": [
    "doc = Document('doc')\n",
    "doc.print_mtd()"
   ]
  },
  {
   "cell_type": "code",
   "execution_count": 188,
   "metadata": {},
   "outputs": [
    {
     "name": "stdout",
     "output_type": "stream",
     "text": [
      "word format print: word test string\n"
     ]
    }
   ],
   "source": [
    "word = Word('word test string')\n",
    "word.print_mtd()"
   ]
  },
  {
   "cell_type": "code",
   "execution_count": null,
   "metadata": {},
   "outputs": [],
   "source": [
    "# 需求：其实也不是所有子类 都需要该方法？该怎么做"
   ]
  },
  {
   "cell_type": "code",
   "execution_count": null,
   "metadata": {},
   "outputs": [],
   "source": [
    "# 下面例子，开闭原则(不改变一个类源代码的前提下变更它的行为) 分开写\n",
    "# 开闭：对于扩展时开放的；对于修改时封闭的"
   ]
  },
  {
   "cell_type": "code",
   "execution_count": 197,
   "metadata": {},
   "outputs": [
    {
     "name": "stdout",
     "output_type": "stream",
     "text": [
      "{'__module__': '__main__', '__doc__': None}\n"
     ]
    }
   ],
   "source": [
    "class Document:\n",
    "    def __init__(self, content):\n",
    "        self.content = content\n",
    "    \n",
    "    def print_mtd(self):   \n",
    "        raise NotImplementedError()  # 占坑，并不实际实现    \n",
    "        \n",
    "class Word(Document):   \n",
    "    pass  # 省略一万行\n",
    "\n",
    "class Pdf(Document):\n",
    "    pass\n",
    "\n",
    "### 以上式别人写好的，不好直接修改，该怎么写。 OCP\n",
    "\n",
    "# class PrintableWorld(Word):\n",
    "#     def print_mtd(self):\n",
    "#         print('word format print: {}'.format(self.content))\n",
    "    \n",
    "# class PrintablePdf(Pdf):\n",
    "#     def print_mtd(self):\n",
    "#         print('pdf format print: {}'.format(self.content))\n",
    "        \n",
    "###############\n",
    "# Mixin一般只有功能函数，不要出初始化方法（不做构造）\n",
    "# Mixin本身是个类，还可以再继承 @装饰器一般是个函数\n",
    "class PrintableMixin:\n",
    "    def print_mtd(self):\n",
    "        print('mixin print: {}'.format(self.content))   \n",
    "\n",
    "# 插队，插在核心功能前面(多继承实现)\n",
    "class PrintableWord(PrintableMixin, Word):\n",
    "    pass\n",
    "\n",
    "print(PrintableWord.__dict__)"
   ]
  },
  {
   "cell_type": "code",
   "execution_count": 192,
   "metadata": {},
   "outputs": [
    {
     "name": "stdout",
     "output_type": "stream",
     "text": [
      "word format print: test string\n"
     ]
    }
   ],
   "source": [
    "word = PrintableWorld('test string')\n",
    "word.print_mtd()"
   ]
  },
  {
   "cell_type": "markdown",
   "metadata": {},
   "source": [
    "* print_mtd看作一种功能 如果某个类缺失了这种功能 你给他补上这种功能即可\n",
    "* 功能函数：A B C D E\n",
    "  - Word: A B C    \n",
    "  - Pdf: C D E   \n",
    "\n",
    "* 缺什么补什么 1.装饰器 2.Mixin\n",
    "缺什么补什么的场景：**多组合 少继承**\n",
    "\n",
    "* Mixin类使用原则\n",
    "  - Mixin类中不应该显示的出现__init__初始化方法(不做构造)\n",
    "  - Mixin类通道不能独立工作，因为他是准备混入别的类中的部分功能实现\n",
    "  - Mixin类也时类，也可以继承，其祖先类也是Mixin类\n",
    " \n",
    "使用时，**Mixin类通道再继承列表的第一个位置**\n",
    "例如：class PrintableWord(PrintableMixin, Word): pass\n",
    "\n",
    "* Mixin类和装饰器，都可以实现对类的增强，这两种方式都可以使用，看个人喜好\n",
    "* 如果还需要继承 就得使用Mixin类的方式"
   ]
  },
  {
   "cell_type": "code",
   "execution_count": 198,
   "metadata": {},
   "outputs": [],
   "source": [
    "class A:\n",
    "    def __init__(self, name):\n",
    "        self.mingzi = name"
   ]
  },
  {
   "cell_type": "code",
   "execution_count": 202,
   "metadata": {},
   "outputs": [
    {
     "data": {
      "text/plain": [
       "{'mingzi': 'Minho'}"
      ]
     },
     "execution_count": 202,
     "metadata": {},
     "output_type": "execute_result"
    }
   ],
   "source": [
    "a = A('Minho')\n",
    "a.__dict__"
   ]
  },
  {
   "cell_type": "code",
   "execution_count": 203,
   "metadata": {},
   "outputs": [
    {
     "data": {
      "text/plain": [
       "'Minho'"
      ]
     },
     "execution_count": 203,
     "metadata": {},
     "output_type": "execute_result"
    }
   ],
   "source": [
    "a.mingzi"
   ]
  },
  {
   "cell_type": "code",
   "execution_count": null,
   "metadata": {},
   "outputs": [],
   "source": []
  }
 ],
 "metadata": {
  "kernelspec": {
   "display_name": "Python 3",
   "language": "python",
   "name": "python3"
  },
  "language_info": {
   "codemirror_mode": {
    "name": "ipython",
    "version": 3
   },
   "file_extension": ".py",
   "mimetype": "text/x-python",
   "name": "python",
   "nbconvert_exporter": "python",
   "pygments_lexer": "ipython3",
   "version": "3.7.5"
  }
 },
 "nbformat": 4,
 "nbformat_minor": 4
}
