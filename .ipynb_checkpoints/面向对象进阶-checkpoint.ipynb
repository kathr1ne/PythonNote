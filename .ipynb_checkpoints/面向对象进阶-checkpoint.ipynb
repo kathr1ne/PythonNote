{
 "cells": [
  {
   "cell_type": "markdown",
   "metadata": {},
   "source": [
    "# 魔术方法\n",
    "\n"
   ]
  },
  {
   "cell_type": "code",
   "execution_count": 3,
   "metadata": {},
   "outputs": [
    {
     "name": "stdout",
     "output_type": "stream",
     "text": [
      "cls:  <class '__main__.A'>\n",
      "()\n",
      "{'x': 3, 'y': [4, 5]}\n",
      "------------------------------\n",
      "<class '__main__.A'> <__main__.A object at 0x0000019C4FE89A48>\n",
      "{'xx': 3, 'yy': [4, 5]}\n"
     ]
    }
   ],
   "source": [
    "# __new__ 用途：\n",
    "# __new__ 用在元编程当中，type构造类对象有关，metaclass\n",
    "# __new__ 类中实例化使用，构造实例有关\n",
    "\n",
    "class A:\n",
    "    # __new__永远是静态方法\n",
    "    def __new__(cls, *args, **kwargs):\n",
    "        print('cls: ', cls)    # 类A\n",
    "        print(args)\n",
    "        print(kwargs)\n",
    "        print('-' * 30)\n",
    "        # 产生递归调用异常\n",
    "        # 不能自己调自己 交给根基类object做\n",
    "        # return cls(*args, **kwargs)\n",
    "\n",
    "        # 为什么要传参cls: 根基类要对什么类型(cls)的类进行实例化\n",
    "        # return object.__new__(cls)\n",
    "        # return super(A, cls).__new__(cls)\n",
    "        # instance = super().__new__(cls)  # super(A, cls) => object\n",
    "        # instance.z = 200\n",
    "        # cls.Z = 300    # 建议不要这么做 反复构造实例 Z属性会被反复覆盖\n",
    "        # return instance\n",
    "        # super().__new__ 是静态方法，所有参数都你自己给，没有绑定(自动注入)效果\n",
    "        return super().__new__(cls)\n",
    "\n",
    "    def __init__(self, x, y):\n",
    "        self.xx = x\n",
    "        self.yy = y\n",
    "\n",
    "\n",
    "t = A(x=3, y=[4, 5])\n",
    "print(type(t), t)    # None\n",
    "# 1. 实例化  __new__(cls, *args, **kwargs) => 制造实例 (从无到有)\n",
    "# 2. 初始化  __init__(self)\n",
    "print(t.__dict__)\n",
    "# print(t.__class__.__dict__)\n",
    "\n",
    "# __init__()方法不能有返回值，也就是只能return None\n",
    "# A(x=3, y=[4, 5])\n",
    "# 1. obj = object.__new__(A) => obj = instance\n",
    "# 2. obj.__init__(3, [4, 5])\n",
    "# 3. return obj\n",
    "\n",
    "# 魔术方法，一般使用要小心，弄不好就会递归"
   ]
  },
  {
   "cell_type": "code",
   "execution_count": null,
   "metadata": {},
   "outputs": [],
   "source": [
    "* 可视化"
   ]
  },
  {
   "cell_type": "code",
   "execution_count": 10,
   "metadata": {},
   "outputs": [
    {
     "name": "stdout",
     "output_type": "stream",
     "text": [
      "\\etc\\sysconfig\\network\n",
      "[WindowsPath('/etc/sysconfig/network')]\n",
      "b'\\\\etc\\\\sysconfig\\\\network'\n"
     ]
    }
   ],
   "source": [
    "from pathlib import Path\n",
    "\n",
    "\n",
    "p1 = Path('/etc/sysconfig/network')    # p1是Path实例\n",
    "print(p1)      # 直接作用： Path.__str__\n",
    "print([p1])    # 间接作用： Path.__repr__\n",
    "# Path类的 __str__ 和 __repr__ 不一样\n",
    "print(bytes(p1))\n",
    "\n",
    "# 小心，可能报错 p1是Path类的实例\n",
    "# 这里不报错因为：Python内建函数很多都已经能够使用Path实例\n",
    "# with open(str(p1) as f: \n",
    "# with open(p1) as f: \n",
    "#     pass\n",
    "# 如果换第三方函数（文件对象 or 路径字符串）则会报错\n",
    "# 第三方函数(str(p1)) p1.__str__ 返回路径字符串\n",
    "# 第三方函数(str(p1)) p1.__repr__  => WindowsPath实例\n",
    "# 第三方函数(p1) p1.__repr__  => WindowsPath实例"
   ]
  },
  {
   "cell_type": "code",
   "execution_count": 8,
   "metadata": {},
   "outputs": [
    {
     "name": "stdout",
     "output_type": "stream",
     "text": [
      "WindowsPath('/etc/sysconfig/network')\n",
      "\\etc\\sysconfig\\network\n"
     ]
    },
    {
     "data": {
      "text/plain": [
       "(None, None)"
      ]
     },
     "execution_count": 8,
     "metadata": {},
     "output_type": "execute_result"
    }
   ],
   "source": [
    "print(p1.__repr__()), print(p1.__str__())"
   ]
  },
  {
   "cell_type": "code",
   "execution_count": null,
   "metadata": {},
   "outputs": [],
   "source": [
    "# __new__ 用途：\n",
    "# __new__ 用在元编程当中，type构造类对象有关，metaclass\n",
    "# __new__ 类中实例化使用，构造实例有关\n",
    "\n",
    "class A:  # mro object.__str__兜底(没有则继承object)\n",
    "    # 魔术方法，一般使用要小心，弄不好就会递归\n",
    "    def __init__(self, x, y):\n",
    "        self.x = x\n",
    "        self.y = y\n",
    "\n",
    "    def __str__(self):    # 字符串表达\n",
    "        return \"<{} {}, {}>, addr={}\".format(self.__class__.__name__, self.x, self.y, hex(id(self)))   # 只是一种表达\n",
    "\n",
    "    def __repr__(self):\n",
    "        return \"repr\"    # str\n",
    "\n",
    "    # __str__ = __repr__  # 如果两个函数一样 定义一个即可\n",
    "\n",
    "    def __bytes__(self):  # 解决bytes(t)\n",
    "        return str(self).encode()\n",
    "\n",
    "t = A(x=3, y=[4, 5])\n",
    "print(bytes(t))  # bytes没人兜底\n",
    "print(t)  # bytes没人兜底\n",
    "# print(type(t), t, '+++++')\n",
    "# print\\str\\format 三个函数直接作用对象上，那么就会调用 对象.__str__ 魔术方法\n",
    "# 如果不是 调用对象.__repr__ (间接作用调用)\n",
    "# repr(对象) => 直接调用 对象.__repr__  => object.__repr__\n",
    "# 如果 __str__ 魔术方法没有定义 尝试调用__repr__方法；如果没有__repr__，就找基类的__repr__\n",
    "# 根基类 只定义 object.__repr__就够了\n",
    "# print(str(t))\n",
    "# print(t)\n",
    "# print(\"{}\".format(t))\n",
    "# print('-' * 30)\n",
    "#\n",
    "# print((t,))\n",
    "# print([t])\n",
    "# print(str([t]))\n",
    "# print({t})\n",
    "\n",
    "\n",
    "# <__main__.A object at 0x000002107FF94948>  通用实例的表达\n",
    "# 没有写__str__魔术方法 则去继承根基类object的\n",
    "\n",
    "\n",
    "# class B(list):\n",
    "#     pass\n",
    "#\n",
    "#\n",
    "# # print(B())    # 相当于 list() 符号性的表达，给人看的\n",
    "# # print(list())\n",
    "# b1 = B()\n",
    "# b1.append(5)\n",
    "# b1.extend(range(5))\n",
    "# print(b1)"
   ]
  },
  {
   "cell_type": "markdown",
   "metadata": {},
   "source": [
    "* print()/str()/format() \n",
    "  - 这三个函数**直接作用**到对象上，那么就会调用 对像.__str__ 魔术方法\n",
    "  \n",
    "* print([obj])/print((obj,))...\n",
    "  - 如果不是这三个函数直接作用 而是**间接做用** 会调用 对象.__repr__ 魔术方法\n",
    "\n",
    "\n",
    "  * __str__： str()函数、format()函数、print()函数调用，需要返回对象的字符串表达。如果没有定义，就去调用__repr__方法返回字符串表达，如果__repr__没有定义，就直接返回对象的内存地址信息: hex(id(self))\n",
    "  \n",
    "  * __repr__: 内建函数repr()对一个对象获取**字符串**表达。调用__repr__方法返回字符串表达，如果__repr__也没有定义，就直接返回object的定义，就是显示内存地址信息\n",
    "  \n",
    "  * __bytes__: bytes()函数调用，返回一个对象的bytes表达，即返回bytes对象"
   ]
  },
  {
   "cell_type": "code",
   "execution_count": null,
   "metadata": {},
   "outputs": [],
   "source": []
  },
  {
   "cell_type": "code",
   "execution_count": 11,
   "metadata": {},
   "outputs": [],
   "source": [
    "class A:\n",
    "    def __init__(self, name, age=18):\n",
    "        self.name = name\n",
    "        self.age = age\n",
    "        \n",
    "    def __repr__(self):\n",
    "        return 'repr: {}, {}'.format(self.name, self.age)\n",
    "    \n",
    "    def __str__(self):\n",
    "        return 'str: {}, {}'.format(self.name, self.age)\n",
    "    \n",
    "    def __bytes__(self):\n",
    "        import json\n",
    "        return json.dumps(self.__dict__).encode()"
   ]
  },
  {
   "cell_type": "code",
   "execution_count": 14,
   "metadata": {},
   "outputs": [],
   "source": [
    "tom = A('TOM')"
   ]
  },
  {
   "cell_type": "code",
   "execution_count": 15,
   "metadata": {},
   "outputs": [
    {
     "name": "stdout",
     "output_type": "stream",
     "text": [
      "str: TOM, 18\n"
     ]
    }
   ],
   "source": [
    "print(tom)"
   ]
  },
  {
   "cell_type": "code",
   "execution_count": 17,
   "metadata": {},
   "outputs": [
    {
     "name": "stdout",
     "output_type": "stream",
     "text": [
      "str: TOM, 18\n"
     ]
    }
   ],
   "source": [
    "print('{}'.format(tom))"
   ]
  },
  {
   "cell_type": "code",
   "execution_count": 19,
   "metadata": {},
   "outputs": [
    {
     "name": "stdout",
     "output_type": "stream",
     "text": [
      "[repr: TOM, 18]\n"
     ]
    }
   ],
   "source": [
    "print([tom])"
   ]
  },
  {
   "cell_type": "code",
   "execution_count": 20,
   "metadata": {},
   "outputs": [
    {
     "name": "stdout",
     "output_type": "stream",
     "text": [
      "['str: TOM, 18']\n"
     ]
    }
   ],
   "source": [
    "print([str(tom)])"
   ]
  },
  {
   "cell_type": "code",
   "execution_count": 21,
   "metadata": {},
   "outputs": [
    {
     "name": "stdout",
     "output_type": "stream",
     "text": [
      "b'{\"name\": \"TOM\", \"age\": 18}'\n"
     ]
    }
   ],
   "source": [
    "print(bytes(tom))"
   ]
  },
  {
   "cell_type": "code",
   "execution_count": 22,
   "metadata": {},
   "outputs": [
    {
     "data": {
      "text/plain": [
       "False"
      ]
     },
     "execution_count": 22,
     "metadata": {},
     "output_type": "execute_result"
    }
   ],
   "source": [
    "bool(None)"
   ]
  },
  {
   "cell_type": "markdown",
   "metadata": {},
   "source": [
    "* bool\n",
    "\n",
    "* 等效False  仅仅是Python的规定 Python的空容器是等效Fasle，其他语言未必如此\n",
    "  - 空容器：[] () {} set()\n",
    "  - 0 '' b'' None\n",
    "  \n",
    "  __bool__: 对对象使用内建函数bool()，或者对象放在逻辑表达式的位置，调用这个函数返回布尔值。没有定义__bool__()，就找__len__() 返回长度，非0为真。如果__len__()也没有定义，那么所有实例都返回真"
   ]
  },
  {
   "cell_type": "code",
   "execution_count": null,
   "metadata": {},
   "outputs": [],
   "source": [
    "# class A:\n",
    "#     pass\n",
    "#\n",
    "#\n",
    "# if A:  # 类对象 默认为真\n",
    "#     print('real A')\n",
    "#\n",
    "# if A():  # 默认类的实例为真 == if bool(A())\n",
    "#     print('read A()')\n",
    "\n",
    "\n",
    "class B:\n",
    "    # def __bool__(self):\n",
    "    #     return True #  True or False or bool('abc')\n",
    "    #     # return bool(self)    # 产生递归错误\n",
    "\n",
    "    def __len__(self):\n",
    "        print('len +++')\n",
    "        return 0  # 0 False; >0 True 非空\n",
    "\n",
    "\n",
    "# print(bool(B))\n",
    "t = B()\n",
    "print(bool(t))  # B().__bool__()"
   ]
  },
  {
   "cell_type": "code",
   "execution_count": null,
   "metadata": {},
   "outputs": [],
   "source": []
  },
  {
   "cell_type": "code",
   "execution_count": null,
   "metadata": {},
   "outputs": [],
   "source": [
    "* 比较运算符重载"
   ]
  },
  {
   "cell_type": "markdown",
   "metadata": {},
   "source": [
    "== 是**同类型**比较内容\n",
    "**同类型**不知道怎么比较，转而比较内存地址是否相同（is）\n",
    "不同类型无法比较，直接返回False\n",
    "\n",
    "  * __eq__ 等于可以推断不等于\n",
    "  * __gt__ 大于可以推断小于\n",
    "  * __ge__ 大于等于可以推断小于等于\n",
    "也就是用3个方法，就可以把所有比较解决掉\n"
   ]
  },
  {
   "cell_type": "code",
   "execution_count": null,
   "metadata": {},
   "outputs": [],
   "source": [
    "# from pathlib import Path\n",
    "#\n",
    "#\n",
    "# p1 = Path('/etc/syscofig/network')\n",
    "# p2 = Path('a')\n",
    "# p1 / 'abc'\n",
    "# 'abc'/ p2\n",
    "\n",
    "# 运算符是一种语法糖，1 / 2  ==> instance.__xxx__(instance2)\n",
    "# / 除法函数重新定义 /  Path类型中做除法符号(/)运算符重载\n",
    "# + 'a' + 'b' => + 加号被运算符重载，用来描述拼接 concat('a', 'b')\n",
    "\n",
    "\n",
    "class A:\n",
    "    def __init__(self, x):\n",
    "        self.x = x\n",
    "\n",
    "    def __eq__(self, other):  # 同时解决 != __ne__\n",
    "        return self.x == other.x\n",
    "\n",
    "    def __gt__(self, other): # 同时解决 < __lt__\n",
    "        return self.x > other.x\n",
    "\n",
    "    def __ge__(self, other): # 同时解决 <= __le__\n",
    "        return self.x >= other.x\n",
    "\n",
    "    def __repr__(self):\n",
    "        return \"<A {}>\".format(self.x)\n",
    "\n",
    "\n",
    "# == 是比较容，同类型\n",
    "# 不知道该怎么比较，同类型，转而比较内存地址是否相同\n",
    "# 不通类型比较，返回False\n",
    "print(1, A(5) == A(3))  # A(5).__eq__(A(3))  is\n",
    "print(2, A(3) == A(3))\n",
    "# print(3, 100 == A(3))\n",
    "print(sorted([A(5), A(3), A(2)], reverse=True))\n",
    "print(A(5) < A(3))\n",
    "print(A(5) <= A(3))"
   ]
  },
  {
   "cell_type": "code",
   "execution_count": null,
   "metadata": {},
   "outputs": [],
   "source": []
  },
  {
   "cell_type": "code",
   "execution_count": null,
   "metadata": {},
   "outputs": [],
   "source": [
    "* 算术运算符重载"
   ]
  },
  {
   "cell_type": "code",
   "execution_count": null,
   "metadata": {},
   "outputs": [],
   "source": [
    "\n",
    "class Student:\n",
    "    def __init__(self, name, score):  # math\n",
    "        self.name = name\n",
    "        self.score = score\n",
    "\n",
    "    def __sub__(self, other):\n",
    "        return self.score - other.score\n",
    "        # return self - other  # RecursionError\n",
    "\n",
    "    def __isub__(self, other):  # i: inplace 就地修改\n",
    "        # return Student(self.name, self.score - other.score)  # 重新构建一个Student实例\n",
    "        # self.score -= other.score  # 在self对象上直接修改\n",
    "        # return self\n",
    "        return Student(self.name, self - other)\n",
    "\n",
    "    def __repr__(self):\n",
    "        return \"<Student {}: {}>\".format(self.name, self.score)\n",
    "\n",
    "\n",
    "tom = Student('Tom', 90)\n",
    "jerry = Student('Jerry', 85)\n",
    "print(tom)\n",
    "\n",
    "print(tom.score - jerry.score)\n",
    "print(tom - jerry)  # tom.__sub__(jerry)\n",
    "tom -= jerry  # tom = tom - jerry 如果有__isub__ 调用，如果没有转而调用tom.__sub__(jerry)\n",
    "# tom类型发生了改变 Student -> int\n",
    "print(tom)"
   ]
  },
  {
   "cell_type": "code",
   "execution_count": null,
   "metadata": {},
   "outputs": [],
   "source": []
  },
  {
   "cell_type": "code",
   "execution_count": 27,
   "metadata": {},
   "outputs": [
    {
     "name": "stdout",
     "output_type": "stream",
     "text": [
      "[1, 2]\n",
      "1770901604168 1770900065352\n",
      "[1, 2]|[2]\n",
      "1770901604168 1770900065352\n"
     ]
    }
   ],
   "source": [
    "a = [1]\n",
    "b = [2]\n",
    "print(a + b)  # 生成全新的对象\n",
    "print(id(a), id(b))\n",
    "a += b  # a = a + b  就地修改 地址不会改变 list += extend\n",
    "print(a, b, sep=\"|\")\n",
    "print(id(a), id(b))\n",
    "\n",
    "# list -> tuple 可以吗? 原理?"
   ]
  },
  {
   "cell_type": "code",
   "execution_count": 24,
   "metadata": {},
   "outputs": [
    {
     "name": "stdout",
     "output_type": "stream",
     "text": [
      "(1, 2)\n",
      "1770866890376 1770866968968\n",
      "(1, 2) (2,)\n",
      "1770912756168 1770866968968\n"
     ]
    }
   ],
   "source": [
    "a = (1,)\n",
    "b = (2,)\n",
    "print(a + b)\n",
    "print(id(a), id(b)) \n",
    "\n",
    "# 对元组来讲 tuplie += 不可以 元素不可变，元组为了实现这种+= \n",
    "# 转而调用 a+b 将结果赋值给a\n",
    "a += b\n",
    "print(a, b)\n",
    "print(id(a), id(b))"
   ]
  },
  {
   "cell_type": "code",
   "execution_count": 31,
   "metadata": {},
   "outputs": [
    {
     "name": "stdout",
     "output_type": "stream",
     "text": [
      "ab\n",
      "ab b\n"
     ]
    }
   ],
   "source": [
    "a = 'a'\n",
    "b = 'b'\n",
    "print(a + b)\n",
    "a += b\n",
    "print(a, b)"
   ]
  },
  {
   "cell_type": "code",
   "execution_count": 33,
   "metadata": {},
   "outputs": [
    {
     "name": "stdout",
     "output_type": "stream",
     "text": [
      "300\n",
      "300 200\n"
     ]
    }
   ],
   "source": [
    "a = 100\n",
    "b = 200\n",
    "print(a + b)\n",
    "a += b  # a = a + b 将 a+b的值 赋值给a\n",
    "print(a, b)"
   ]
  },
  {
   "cell_type": "code",
   "execution_count": null,
   "metadata": {},
   "outputs": [],
   "source": []
  },
  {
   "cell_type": "markdown",
   "metadata": {},
   "source": [
    "* 上下文管理\n",
    "\n",
    "- 上下文应用场景\n",
    "  1. 增强功能\n",
    "    - 在代码执行的前后增加代码，以增强其功能。类似装饰器的功能\n",
    "    \n",
    "  2. 资源管理\n",
    "    - 打开了资源需要关闭，例如文件对象、网络连接、数据库连接等\n",
    "  \n",
    "  3. 权限验证\n",
    "    - 在打开代码之前，做权限的验证，在\\__enter__中处理\n",
    "    "
   ]
  },
  {
   "cell_type": "code",
   "execution_count": null,
   "metadata": {},
   "outputs": [],
   "source": [
    "\n",
    "# with open('test.ini') as f:  # 当时：f = open('test')\n",
    "#     print(f)\n",
    "\n",
    "# with 作用文件对象，文件要求必须支持上下文技术\n",
    "\n",
    "\n",
    "# f = open('test.ini')\n",
    "# with f as f1:  # f1 = f.__enter__() ==> f1 = f\n",
    "#     print(1, f == f1)\n",
    "#     print(2, f is f1)  # 离开with语句块的时候，调用文件对象.close()\n",
    "# 文件对象.__exit__() 当作 会调用 文件对象.close()\n",
    "# 不管with语句块中是否有异常发生，文件对象.__exit__()都一定执行\n",
    "\n",
    "\n",
    "class A:\n",
    "    def __init__(self):\n",
    "        print('1 init +++++')\n",
    "\n",
    "    def __enter__(self):  # self跟实例有关\n",
    "        print('2 enter +++++')    # 打开资源\n",
    "        return self\n",
    "        # return 'abc'\n",
    "        # with作用其后对象，调用__enter__魔术方法\n",
    "        # 返回值可以作为as子句的标识符\n",
    "        # 不是所有__enter__方法 都会返回自身对象\n",
    "\n",
    "    def __exit__(self, exc_type, exc_val, exc_tb):\n",
    "        print('7 exit +++++')    # 释放资源\n",
    "        print(exc_type, exc_val)\n",
    "        # return [1]\n",
    "        # 不管with块中是否有异常，都会执行\n",
    "        # 如果返回值等价为True 压制异常\n",
    "        # 等价False，异常继续向外抛出\n",
    "        if isinstance(exc_val, ArithmeticError):\n",
    "            return True\n",
    "        # 可以压制所有异常，也可以压制指定异常\n",
    "\n",
    "\n",
    "# 对一个对象来讲 当你进去的时候要干什么 __enter__\n",
    "# 当你离开的时候 要干什么 __exit__\n",
    "a1 = A()  # 对象\n",
    "with a1 as a2:  # a2 = a1.__enter__()\n",
    "    # 如果__enter__ return self a2 = a1\n",
    "    print(a1, a2)\n",
    "    print('3 line 1 +++++')\n",
    "    print(4, a1 == a2)#, type(a1), type(a2))\n",
    "    # 1/0\n",
    "    raise Exception\n",
    "    print(5, a1 is a2)\n",
    "    print('6 line last +++++')\n",
    "# 离开with语句块 __exit__\n",
    "\n",
    "print('=' * 30)\n",
    "\n",
    "# 需求：一开始就要干什么， 最后我们还要干什么  => 适用上下文管理\n",
    "# e.g: 一开始打开资源，最后需要释放资源"
   ]
  },
  {
   "cell_type": "code",
   "execution_count": null,
   "metadata": {},
   "outputs": [],
   "source": []
  },
  {
   "cell_type": "code",
   "execution_count": 36,
   "metadata": {},
   "outputs": [
    {
     "name": "stdout",
     "output_type": "stream",
     "text": [
      "9\n",
      "took 2.000325s\n"
     ]
    }
   ],
   "source": [
    "import time\n",
    "from functools import wraps\n",
    "from _datetime import datetime\n",
    "\n",
    "\n",
    "class Timeit:\n",
    "    def __enter__(self):\n",
    "        self.start = datetime.now()\n",
    "\n",
    "    def __exit__(self, exc_type, exc_val, exc_tb):\n",
    "        end = datetime.now()\n",
    "        print(\"took {}s\".format((end - self.start).total_seconds()))\n",
    "\n",
    "\n",
    "def logger(wrapped):\n",
    "    @wraps(wrapped)\n",
    "    def wrapper(*args, **kwargs):\n",
    "        start = datetime.now()\n",
    "        ret = wrapped(*args, **kwargs)\n",
    "        delta = (datetime.now() - start).total_seconds()\n",
    "        print(\"Function {} took {}s.\".format(wrapped.__name__, delta))\n",
    "        return ret\n",
    "    return wrapper\n",
    "\n",
    "\n",
    "def add(x, y):\n",
    "    time.sleep(2)\n",
    "    return x + y\n",
    "\n",
    "\n",
    "with Timeit():\n",
    "    print(add(4, 5))"
   ]
  },
  {
   "cell_type": "code",
   "execution_count": null,
   "metadata": {},
   "outputs": [],
   "source": []
  },
  {
   "cell_type": "markdown",
   "metadata": {},
   "source": [
    "* 生成器函数 和 yield from\n",
    "  - 上下文另一种实现 生成器函数实现，源码中非常常见\n",
    "  - 生成器是一种特殊的迭代器，惰性求值\n",
    "  \n",
    "  * 1. generator expression\n",
    "    - (x for x in range(10))\n",
    "  \n",
    "  * 2. 生成器函数\n",
    "    - 生成器函数: 函数中只要有yield关键字就是\n",
    "    - yield作用：把值扔出去，但是函数卡在这一句上暂停了\n"
   ]
  },
  {
   "cell_type": "code",
   "execution_count": 41,
   "metadata": {},
   "outputs": [
    {
     "name": "stdout",
     "output_type": "stream",
     "text": [
      "<class 'generator'> <generator object a at 0x0000019C51ECF0C8>\n",
      "0\n",
      "1\n",
      "==============================\n",
      "2\n",
      "3\n",
      "4\n"
     ]
    }
   ],
   "source": [
    "def a():\n",
    "    for i in range(5):\n",
    "        yield i\n",
    "\n",
    "result = a()  # 生成器函数调用返回一个生成器对象，并没有真正的执行\n",
    "print(type(result), result)\n",
    "print(next(result))  # 100\n",
    "print(next(result))  \n",
    "print('=' * 30)\n",
    "for i in result:\n",
    "    print(i)\n",
    "# print(next(result)) \n",
    "# print(next(result)) \n",
    "# print(next(result))  # next 碰到yield就暂停 \n",
    "# print(next(result))  # return 抛出StopIteration"
   ]
  },
  {
   "cell_type": "code",
   "execution_count": null,
   "metadata": {},
   "outputs": [],
   "source": []
  },
  {
   "cell_type": "code",
   "execution_count": null,
   "metadata": {},
   "outputs": [],
   "source": [
    "import time\n",
    "from contextlib import contextmanager\n",
    "\n",
    "\n",
    "# 该装饰器作用的函数 必须是生成器函数\n",
    "# 且只能yield一下 ***\n",
    "@contextmanager\n",
    "def a():\n",
    "    print('之前增强 __enter__')\n",
    "    # for i in range(5):\n",
    "    #     yield i    # 用户态暂停，程序员写代码控制什么时候暂停\n",
    "    # yield from range(5)   # 5下\n",
    "    # 3.5之后 多使用yield from 语法糖\n",
    "    yield 100\n",
    "    print('之后增强 __exit__')\n",
    "\n",
    "\n",
    "with a() as f:  # yield 值给了as之后的标识符\n",
    "    print('object', f)    # 暂停在yeild 继续执行with语句块语句\n",
    "    time.sleep(5)\n",
    "    print('-' * 30)\n",
    "    # 当with语句块执行完，执行yeild之后的语句\n",
    "\n",
    "# result = a()\n",
    "# # r2 = (i for i in range(10))\n",
    "# print(type(result), result)\n",
    "# print(next(result))\n",
    "# print(next(result))\n",
    "# print('=' * 30)\n",
    "# for i in result:\n",
    "#     print(i)\n",
    "#\n",
    "# for i in result:\n",
    "#     print(i)"
   ]
  },
  {
   "cell_type": "code",
   "execution_count": null,
   "metadata": {},
   "outputs": [],
   "source": []
  },
  {
   "cell_type": "code",
   "execution_count": null,
   "metadata": {},
   "outputs": [],
   "source": [
    "** 生成器函数版本的上下文管理"
   ]
  },
  {
   "cell_type": "code",
   "execution_count": null,
   "metadata": {},
   "outputs": [],
   "source": [
    "import time\n",
    "from contextlib import contextmanager\n",
    "\n",
    "\n",
    "# 该装饰器作用的函数 必须是生成器函数\n",
    "# 且只能yield一下\n",
    "@contextmanager\n",
    "def a():\n",
    "    # for i in range(5):\n",
    "    #     yield i\n",
    "    # yield from range(5)   # 5下\n",
    "    # 3.5之后 多使用yield from 语法糖\n",
    "    print('之前增强 __enter__')\n",
    "    try:\n",
    "        yield 100\n",
    "    finally:\n",
    "        print('之后增强 __exit__')\n",
    "\n",
    "\n",
    "with a() as f:  # yield 值给了as之后的标识符\n",
    "    print('object', f)    # 暂停在yeild 继续执行with语句块语句\n",
    "    time.sleep(2)\n",
    "    1/0\n",
    "    print('-' * 30)\n",
    "    time.sleep(2)\n",
    "    # 当with语句块执行完，执行yeild之后的语句"
   ]
  },
  {
   "cell_type": "code",
   "execution_count": null,
   "metadata": {},
   "outputs": [],
   "source": []
  },
  {
   "cell_type": "code",
   "execution_count": null,
   "metadata": {},
   "outputs": [],
   "source": [
    "# 计算函数执行时间的装饰器的另一个写法\n",
    "# 利用yield生成器函数计算时间"
   ]
  },
  {
   "cell_type": "code",
   "execution_count": null,
   "metadata": {},
   "outputs": [],
   "source": [
    "import time\n",
    "from datetime import datetime\n",
    "from contextlib import contextmanager\n",
    "\n",
    "\n",
    "@contextmanager\n",
    "def a():\n",
    "    print('之前增强 __enter__')\n",
    "    start = datetime.now()\n",
    "    try:\n",
    "        yield 100\n",
    "    finally:\n",
    "        print('之后增强 __exit__')\n",
    "        delta = (datetime.now() - start).total_seconds()\n",
    "        print('took {}s'.format(delta))\n",
    "\n",
    "\n",
    "def add(x, y):\n",
    "    time.sleep(2)\n",
    "    return x + y\n",
    "\n",
    "\n",
    "with a() as f:\n",
    "    print(add(4, 5))"
   ]
  },
  {
   "cell_type": "markdown",
   "metadata": {},
   "source": [
    "* 计时器\n",
    "* 监控哪些接口，执行时长过大\n",
    "\n",
    "* 监控接口(函数)执行时间\n",
    "  * 装饰器\n",
    "  * 上下文管理\n",
    "      * 类实现(__enter__ __exit__)\n",
    "      * yield一下的生成器函数实现"
   ]
  },
  {
   "cell_type": "code",
   "execution_count": null,
   "metadata": {},
   "outputs": [],
   "source": [
    "import time\n",
    "from datetime import datetime\n",
    "from contextlib import contextmanager\n",
    "\n",
    "\n",
    "@contextmanager\n",
    "def a(fn):\n",
    "    print('之前增强 __enter__')\n",
    "    start = datetime.now()\n",
    "    try:\n",
    "        yield fn\n",
    "    finally:\n",
    "        print('之后增强 __exit__')\n",
    "        delta = (datetime.now() - start).total_seconds()\n",
    "        print('{} took {}s'.format(fn.__name__, delta))\n",
    "\n",
    "\n",
    "# py文件是一个模块 加载一次 sys.modules保证\n",
    "# 顶级代码中的Timeit类对象 产生一次，类属性也就是一个\n",
    "# 类对象存在，类属性也就构建好了\n",
    "class Timeit():\n",
    "    # start = datetime.now() 类属性，类定义时创建，N个实例化时固定\n",
    "    def __init__(self, fn):\n",
    "        self.__fn = fn\n",
    "\n",
    "    def __enter__(self):\n",
    "        self.start = datetime.now()\n",
    "        return self.__fn\n",
    "\n",
    "    @property\n",
    "    def fn(self):\n",
    "        return self.__fn\n",
    "\n",
    "    def __exit__(self, exc_type, exc_val, exc_tb):\n",
    "        delta = (datetime.now() - self.start).total_seconds()\n",
    "        print('Function {} took {}s'.format(self.__fn.__name__, delta))\n",
    "\n",
    "\n",
    "# add函数对象也就产生一次\n",
    "def add(x, y):\n",
    "    time.sleep(2)\n",
    "    return x + y\n",
    "\n",
    "# 上下文管理(class,yield) 和装饰器区别\n",
    "# 上下文管理：可以统计with语句块里面所有语句执行时间\n",
    "# 装饰器：仅装饰@下面的函数标识符\n",
    "with Timeit(add) as f:   \n",
    "    print(f(5, 5))\n",
    "    print(f(2, 5))\n",
    "    print(f(0, 5))\n",
    "\n",
    "\n",
    "# with a(add) as f:    # f = add\n",
    "#     print(f)\n",
    "#     print(f(5, 6))"
   ]
  },
  {
   "cell_type": "code",
   "execution_count": null,
   "metadata": {},
   "outputs": [],
   "source": []
  },
  {
   "cell_type": "code",
   "execution_count": null,
   "metadata": {},
   "outputs": [],
   "source": []
  },
  {
   "cell_type": "code",
   "execution_count": null,
   "metadata": {},
   "outputs": [],
   "source": [
    "** 模块化\n",
    "  * 项目根目录下"
   ]
  },
  {
   "cell_type": "markdown",
   "metadata": {},
   "source": [
    "* utils（目录） 包，本质依然是模块类型，文件夹(文件夹中有一个特殊文件__init__.py)或.py文件\n",
    "* test（目录）， 里面没有__init__.py，它本质上也是包，(没有__init__.py)在某些时候会报错\n",
    "\n",
    "* 包、目录、.py文件 本质上都是 模块 类型\n",
    "\n",
    "* __init__.py 由于包本质上是目录，但是包又是标识符，包的直接资源怎么描述 => 包的直接资源就不得已采用一种特殊的方式，为包提供一个特殊的__init__.py\n",
    "\n",
    "* 导入包，就是为当前编程环境提供一个标识符给程序员使用\n",
    "* 导入包，就是加载包到内存，该包的直接资源__init__.py源代码被执行\n",
    "\n",
    "* import后面 只能导入模块类型 **（包:文件夹 和 模块:.py文件）**\n",
    "\n",
    "\n",
    "- utils    # 包\n",
    "    - __init__.py\n",
    "    - net    # 子包\n",
    "        - __init__.py\n",
    "    - web.py    # 子模块 导入 utils不加载子包、子模块(最小化原则)\n",
    "- test   # 纯目录\n",
    "\n",
    "```python\n",
    "import test\n",
    "import utils      # 只导入utils包，能用的标识符是utils。最小原则\n",
    "import utils.net  # 导入utils和net包，但是能用的**标识符**是utils\n",
    "```\n",
    "\n",
    "\n",
    "* from utils import web   # import之后：模块类型(包 or 模块.py文件)、类、函数、变量，总结为标识符\n",
    "  - utils 先导入，然后web子模块，能用的标识符是import后的标识符\n",
    "  \n",
    "* from utils.web import WEB\n",
    "  - 导入utils模块，然后导入web模块，WEB就可以用了，标识符WEB\n",
    "  \n",
    "* from utils.net import socket\n",
    "  - 导入utils模块，然后导入web模块，import子模块socket\n",
    "\n",
    "* from 后必须是模块文件，因为模块是目录、py文件\n",
    "\n",
    "* from utils.net.socket import connect, C  # 按需导入，推荐\n",
    "* from utils.net.socket import *    # 容易造成变量污染， 不推荐。配合提供__all__ = {}\n",
    "  - * 对于模块的_ __ 下划线 双下划线开头的 没法导入\n",
    "  - 但是有了 __all__ = [], 如果使用了__all__ 对于*来说 就只能乖乖的遵照它了，解决from xxx import * 带来的大量变量污染\n",
    "  \n",
    "* from utils.net.socket import _E as E\n",
    "\n",
    "* from ..web import WEB\n",
    "  - 带点的表示模块的相对层级，这种相对导入只能用在包内\n",
    "  - 相对导入的层次 就是目录的层级计算\n",
    "  - 写了相对不能直接右键运行（不能作为主模块运行）\n",
    "  - 只有 from 方式导入 支持相对\n",
    "\n",
    "* 导入资源，资源指得是 模块、变量、类、函数等\n",
    "* 项目根目录下的包， 绝对导入\n",
    "* 相对导入，用在包内\n",
    "\n",
    "**包名和模块名 必须小写；函数名一个小写；类名大驼峰；多个单词，建议使用_连接**\n",
    "\n",
    "\n",
    "__all__ = []  # 阅读源码时，如果看到了它，就知道最重要的标识符时哪些\n"
   ]
  },
  {
   "cell_type": "code",
   "execution_count": 43,
   "metadata": {},
   "outputs": [
    {
     "name": "stdout",
     "output_type": "stream",
     "text": [
      "False\n",
      "True\n"
     ]
    }
   ],
   "source": [
    "import os  # 父包\n",
    "import os.path  # 建议这么写；\n",
    "# 模块只加载一次，不会重复导入 记录在 sys.modules字典中，cache去重\n",
    "\n",
    "print(os.path.exists(r'D:\\xxx'))\n",
    "print(os.path.exists(r'D:\\JX3'))\n",
    "\n",
    "# os.path 子包 子模块\n",
    "# 上面能用的原因：因为python解释器必须加载的包 sys\\os\\io\\built-in\\os.path等"
   ]
  },
  {
   "cell_type": "markdown",
   "metadata": {},
   "source": [
    "* Python中全局变量是什么？ 模块的的**顶级代码**中定义的标识符\n",
    "* Python中全局变量有边界，模块。受模块的制约，不可以跨模块（跨模块使用 需要导入）\n",
    "\n",
    "* 第一次加载 执行模块的顶级代码\n",
    "* 导致之后 相关变量属于导入后模块的名词空间 globals()可以看到\n",
    "\n",
    "* globals() 打印全局变量；权限变量受模块限制 不能跨模块\n",
    "* locals() 打印局部变量；跟所处位置(作用域)有关"
   ]
  },
  {
   "cell_type": "code",
   "execution_count": null,
   "metadata": {},
   "outputs": [],
   "source": []
  },
  {
   "cell_type": "markdown",
   "metadata": {},
   "source": [
    "# 反射\n",
    "\n",
    "* 运行时：runtime，区别于编译时，指得是程序被加载到内存中执行得时候\n",
    "* 反射：reflection，指得是运行时获取类型定义信息\n",
    "\n",
    "一个对象能够在运行时，像照镜子一样，反射出其类型信息。\n",
    "简单说，在Python中，能够通过一个对象，找出其type、class、attribute或method的能力，称为反射或者自省\n",
    "\n",
    "具有反射能力的函数有:\n",
    "  - type()\n",
    "  - isinstance()\n",
    "  - callable()\n",
    "  - dir()\n",
    "  - getattr()等\n",
    "  \n",
    "内建函数：\n",
    "- getarre(object, name[, default])  通过name返回object的属性值。当属性不存在，将使用default返回，如果没有default，则抛出AttributeError. name必须为**字符串**\n",
    "\n",
    "- setattr(object, name, value)  object的属性存在，则覆盖，不存在，新增\n",
    "\n",
    "- hasattr(object, name) 判断对象是否有这个名字的属性，name必须为**字符串**"
   ]
  },
  {
   "cell_type": "code",
   "execution_count": null,
   "metadata": {},
   "outputs": [],
   "source": [
    "from functools import update_wrapper\n",
    "\n",
    "class Point:\n",
    "    def __init__(self, x, y):\n",
    "        self.x = x\n",
    "        self.y = y\n",
    "\n",
    "\n",
    "p1 = Point(4, 5)\n",
    "print(p1.x, p1.y)\n",
    "print('-' * 30)\n",
    "\n",
    "# getaddr setattr hasattr\n",
    "print(1, getattr(p1, 'x'))  # name为 字符串\n",
    "print(2, getattr(p1, 'y'))  # 等价== p1.y，都会用到 属性的搜索方式\n",
    "print(3, p1.__dict__['y'])\n",
    "print(4, getattr(p1, 'z', '10234'))  # AttributeError 实在找不到属性\n",
    "# p1.z 无法使用缺省值\n",
    "print(p1)\n",
    "# setattr(p1, 'z', 100)\n",
    "setattr(Point, 'z', 200)    # Point.z = 200 动态为类添加属性\n",
    "print(p1.z)\n",
    "# setattr(Point, '__str__', lambda self: \"<Point {}: {} ++ >\".format(self.x, self.y))\n",
    "print(hasattr(Point, '__str__'))\n",
    "# print(Point.__str__, '########')\n",
    "# if not hasattr(Point, '__str__'):\n",
    "Point.__str__ = lambda self: \"<Point {}: {} &&>\".format(self.x, self.y)\n",
    "print(p1)    # print  p1.__str__  实例调用：绑定注入"
   ]
  },
  {
   "cell_type": "code",
   "execution_count": null,
   "metadata": {},
   "outputs": [],
   "source": [
    "__getattr__"
   ]
  },
  {
   "cell_type": "code",
   "execution_count": 44,
   "metadata": {},
   "outputs": [
    {
     "name": "stdout",
     "output_type": "stream",
     "text": [
      "10\n",
      "{'x': 10, 'y': 11}\n",
      "10\n",
      "1\n",
      "getaddr *** xyz <class 'str'>\n",
      "ttt\n"
     ]
    }
   ],
   "source": [
    "d = {'xyz': 'ttt', 'z': '12234'}\n",
    "\n",
    "\n",
    "class Point:\n",
    "    z = 1\n",
    "\n",
    "    def __init__(self, x, y):\n",
    "        self.x = x\n",
    "        self.y = y\n",
    "\n",
    "    def __getattr__(self, item):\n",
    "        print('getaddr ***', item, type(item))\n",
    "        # 找不到的属性本身就不是它的，它转而调用别人的\n",
    "        return d.get(item)\n",
    "\n",
    "\n",
    "# __getattr__ __setattr__ __delattr__ 魔术方法\n",
    "p1 = Point(10, 11)\n",
    "print(p1.x)    # no __getattr__\n",
    "print(p1.__dict__)\n",
    "print(getattr(p1, 'x'))\n",
    "print(p1.z)\n",
    "print(p1.xyz)\n",
    "# 如果 通过实例属性的搜索规则，找不到属性，按道理应该抛出AttributeError\n",
    "# 但是 有了__getattr__，则调用该魔术方法"
   ]
  },
  {
   "cell_type": "code",
   "execution_count": null,
   "metadata": {},
   "outputs": [],
   "source": [
    "__setattr__"
   ]
  },
  {
   "cell_type": "code",
   "execution_count": 45,
   "metadata": {},
   "outputs": [
    {
     "name": "stdout",
     "output_type": "stream",
     "text": [
      "setattr!!! x 10\n",
      "setattr!!! y 11\n",
      "10\n",
      "{'x': 10, 'y': 11}\n"
     ]
    }
   ],
   "source": [
    "\n",
    "# d = {}\n",
    "\n",
    "\n",
    "class Point:\n",
    "    z = 1\n",
    "\n",
    "    def __init__(self, x, y):\n",
    "        self.x = x\n",
    "        self.y = y\n",
    "\n",
    "    # def __getattr__(self, item):\n",
    "    #     print('getaddr ***', item)\n",
    "    #     return d.get(item)\n",
    "\n",
    "    # 实例属性赋值时调用__setattr__ key='x' value=10\n",
    "    def __setattr__(self, key, value):\n",
    "        print('setattr!!!', key, value)\n",
    "        # setattr(self, key, value)\n",
    "        # 递归错误 => self.key = value 又调用 __setattr__\n",
    "\n",
    "        # super(Point, self).__setattr__(key, value)\n",
    "        # setattr(d, key, value)  # d.x = 10\n",
    "        # d[key] = value\n",
    "        self.__dict__[key] = value\n",
    "\n",
    "\n",
    "# __getattr__ __setattr__ __delattr__ 魔术方法\n",
    "p1 = Point(10, 11)\n",
    "print(p1.x)\n",
    "print(p1.__dict__)"
   ]
  },
  {
   "cell_type": "code",
   "execution_count": null,
   "metadata": {},
   "outputs": [],
   "source": [
    "__delattr__"
   ]
  },
  {
   "cell_type": "code",
   "execution_count": null,
   "metadata": {},
   "outputs": [],
   "source": [
    "\n",
    "# d = {}\n",
    "\n",
    "\n",
    "class Point:\n",
    "    z = 1\n",
    "\n",
    "    def __init__(self, x, y):\n",
    "        self.x = x\n",
    "        self.y = y\n",
    "\n",
    "    # def __getattr__(self, item):\n",
    "    #     print('getaddr ***', item)\n",
    "    #     return d.get(item)\n",
    "\n",
    "    # 实例属性赋值时调用__setattr__ key='x' value=10\n",
    "    # def __setattr__(self, key, value):\n",
    "    #     print('setattr!!!', key, value)\n",
    "    #     # setattr(self, key, value)\n",
    "    #     # 递归错误 => self.key = value 又调用 __setattr__\n",
    "    #\n",
    "    #     # super(Point, self).__setattr__(key, value)\n",
    "    #     # setattr(d, key, value)  # d.x = 10\n",
    "    #     # d[key] = value\n",
    "    #     self.__dict__[key] = value\n",
    "\n",
    "    def __delattr__(self, item):  # 通过实例删除一个属性\n",
    "        print('del =', item)\n",
    "\n",
    "\n",
    "# __getattr__ __setattr__ __delattr__ 魔术方法\n",
    "p1 = Point(10, 11)\n",
    "print(p1.x)\n",
    "# print(p1.__dict__)\n",
    "del p1.x\n",
    "del p1.y\n",
    "del p1.z"
   ]
  },
  {
   "cell_type": "code",
   "execution_count": null,
   "metadata": {},
   "outputs": [],
   "source": []
  },
  {
   "cell_type": "markdown",
   "metadata": {},
   "source": [
    "* 总结\n",
    "\n",
    "  * __setattr__:  self.x = x（初始化赋值）或者 使用setattr()函数 该实例会触发该方法\n",
    "  \n",
    "  * __getattr__: 通过实例访问属性，如果找不到该属性(实例属性搜索规则)，会抛AttributeError的时候，会触发该方法，注意**返回值**(返回该值)\n",
    "  \n",
    "  * __delattr__: 删除属性时触发\n",
    "  "
   ]
  },
  {
   "cell_type": "code",
   "execution_count": null,
   "metadata": {},
   "outputs": [],
   "source": [
    "__getattribute__"
   ]
  },
  {
   "cell_type": "code",
   "execution_count": null,
   "metadata": {},
   "outputs": [],
   "source": [
    "# d = {}\n",
    "\n",
    "\n",
    "class Point:\n",
    "    z = 1\n",
    "\n",
    "    def __init__(self, x, y):\n",
    "        self.x = x  # __setattr__\n",
    "        self.y = y\n",
    "\n",
    "    # 通过该类的实例访问属性，第一站都会使用这个方法\n",
    "    def __getattribute__(self, item):\n",
    "        print('attribute ***')\n",
    "        # if item == '__dict__':\n",
    "        #     return super().__getattribute__(item)\n",
    "        # return object.__getattribute__(self, item)\n",
    "        raise AttributeError\n",
    "\n",
    "    def __getattr__(self, item):\n",
    "        print('getaddr ***', item)\n",
    "        return\n",
    "    #\n",
    "    # # 实例属性赋值时调用__setattr__ key='x' value=10\n",
    "    def __setattr__(self, key, value):\n",
    "        print('setattr!!!', key, value)\n",
    "        # setattr(self, key, value)\n",
    "        # 递归错误 => self.key = value 又调用 __setattr__\n",
    "\n",
    "        # super(Point, self).__setattr__(key, value)\n",
    "        super().__setattr__(key, value)\n",
    "        # setattr(d, key, value)  # d.x = 10\n",
    "        # d[key] = value\n",
    "        # self.__dict__[key] = value\n",
    "\n",
    "    # def __delattr__(self, item):  # 通过实例删除一个属性\n",
    "    #     print('del =', item)\n",
    "\n",
    "\n",
    "# __getattr__ __setattr__ __delattr__ 魔术方法\n",
    "# __getattribute__\n",
    "p1 = Point(10, 11)\n",
    "print(p1.x)\n",
    "print(p1.y)\n",
    "print(p1.__dict__)\n",
    "print(p1.z)\n",
    "# print(p1.__dict__)\n",
    "# del p1.x\n",
    "# del p1.y\n",
    "# del p1.z"
   ]
  },
  {
   "cell_type": "code",
   "execution_count": null,
   "metadata": {},
   "outputs": [],
   "source": []
  }
 ],
 "metadata": {
  "kernelspec": {
   "display_name": "Python 3",
   "language": "python",
   "name": "python3"
  },
  "language_info": {
   "codemirror_mode": {
    "name": "ipython",
    "version": 3
   },
   "file_extension": ".py",
   "mimetype": "text/x-python",
   "name": "python",
   "nbconvert_exporter": "python",
   "pygments_lexer": "ipython3",
   "version": "3.7.5"
  }
 },
 "nbformat": 4,
 "nbformat_minor": 4
}
