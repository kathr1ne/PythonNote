{
 "cells": [
  {
   "cell_type": "markdown",
   "metadata": {},
   "source": [
    "* 并发\n",
    "  - 并行：同时做某些事，可以互不干扰的同一时刻做几件事\n",
    "  - 并发：也是同时做某些事，但是强调，一个时间内有事情要处理"
   ]
  },
  {
   "cell_type": "code",
   "execution_count": null,
   "metadata": {},
   "outputs": [],
   "source": []
  },
  {
   "cell_type": "code",
   "execution_count": null,
   "metadata": {},
   "outputs": [],
   "source": [
    "* threading"
   ]
  },
  {
   "cell_type": "code",
   "execution_count": null,
   "metadata": {},
   "outputs": [],
   "source": [
    "import threading\n",
    "import time\n",
    "\n",
    "\n",
    "def worker():\n",
    "    for i in range(5):\n",
    "        time.sleep(1)\n",
    "        print(i, threading.current_thread().name, 'working',\n",
    "              threading.enumerate())\n",
    "\n",
    "\n",
    "t1 = threading.Thread(target=worker, name='w1')\n",
    "t2 = threading.Thread(target=worker, name='w2')\n",
    "t1.start()\n",
    "t2.start()\n",
    "\n",
    "print('=====end=====', threading.enumerate())"
   ]
  },
  {
   "cell_type": "code",
   "execution_count": null,
   "metadata": {},
   "outputs": [],
   "source": []
  },
  {
   "cell_type": "code",
   "execution_count": null,
   "metadata": {},
   "outputs": [],
   "source": [
    "* daemon线程"
   ]
  },
  {
   "cell_type": "code",
   "execution_count": null,
   "metadata": {},
   "outputs": [],
   "source": [
    "import threading\n",
    "import time\n",
    "import sys\n",
    "\n",
    "\n",
    "def worker():\n",
    "    c = threading.current_thread()\n",
    "    for i in range(5):\n",
    "        print(c.name, 'working', c.daemon)\n",
    "        time.sleep(1)\n",
    "        threading.Thread(target=lambda: print('+++'),\n",
    "                         name='lambda').start()\n",
    "\n",
    "\n",
    "for i in range(3):\n",
    "    threading.Thread(target=worker, name='w{}'.format(i),\n",
    "                     daemon=True).start()\n",
    "else:\n",
    "    # 还没start()时 当前线程时 主线程\n",
    "    # daemon None 取默认值 => 当前线程的daemon=False\n",
    "    threading.Thread(target=worker, name='x').start()\n",
    "\n",
    "# False None ：non-daemon线程\n",
    "# True : daemon线程\n",
    "# t.start()\n",
    "# time.sleep(2)\n",
    "# print('=====end=====')\n",
    "# 1/0  # 主线程异常没处理，导致后果会很严重\n",
    "while True:\n",
    "    time.sleep(1)\n",
    "    print(threading.active_count(), threading.enumerate(),\n",
    "          file=sys.stderr)\n",
    "    if threading.active_count() <= 1:\n",
    "        print('--------')\n",
    "        break\n",
    "\n",
    "# 主线程没事了，工作线程都是daemon线程，被迫全体结束\n",
    "# 主线程没事了，抬起头，一看还有non-daemon线程，就什么也不做\n",
    "# 当non-daemon结束了，主线程(进程)一看全是daemon线程\n",
    "# daemon线程被迫全部结束\n",
    "# ** 除主线程之外，non-daemon线程都结束了，如果主线程也没事干了，不管有没有daemon线程，进程结束；\n",
    "# ** 除主线程之外，non-daemon线程都结束了，如果主线程还有事，进程继续"
   ]
  },
  {
   "cell_type": "code",
   "execution_count": null,
   "metadata": {},
   "outputs": [],
   "source": [
    "* t.join()"
   ]
  },
  {
   "cell_type": "code",
   "execution_count": null,
   "metadata": {},
   "outputs": [],
   "source": [
    "import threading\n",
    "import time\n",
    "\n",
    "\n",
    "def worker():\n",
    "    c = threading.current_thread()\n",
    "    for i in range(5):\n",
    "        print(c.name, 'working', c.daemon)\n",
    "        time.sleep(1)\n",
    "\n",
    "\n",
    "t = threading.Thread(target=worker, name='w1',\n",
    "                     daemon=True)\n",
    "t.start()  # 创建线程就返回\n",
    "print('-' * 30)\n",
    "t.join()  # 当前线程(主线程)阻塞住了，直到t线程执行完毕\n",
    "# join 加入谁？t，等t执行，join不写超时就是永久等，如果写，等timeout秒\n",
    "# 谁调用，阻塞谁（阻塞当前线程得运行）\n",
    "\n",
    "print('=' * 30)"
   ]
  },
  {
   "cell_type": "code",
   "execution_count": null,
   "metadata": {},
   "outputs": [],
   "source": []
  },
  {
   "cell_type": "markdown",
   "metadata": {},
   "source": [
    "# 线程同步\n",
    "\n",
    "线程同步，线程间协同，通过某种技术，让一个线程访问某些数据时，其他线程不能访问这些数据，直到该线程完成对数据得操作\n",
    "\n",
    "## Event 事件\n",
    "\n",
    "Event事件， 是线程间通信机制中最简单的是实现，使用一个内部标记flag，通过flag的True或False的变化来进行操作\n",
    "\n",
    "- set()    标记设置为True\n",
    "- clear()  标记设置为False\n",
    "- is_set() 标记是否为True\n",
    "- wait(timeout=None)    设置等待标记为True的时长，None为无限等待。等到返回True，为等到超时了返回False\n",
    "\n",
    "总结：\n",
    "需要使用同一个Event对象的标记flag\n",
    "谁wait就是登倒flag变为True，或登倒超时返回False\n",
    "不限制等待者的个数，通知所有等待者\n",
    "- 生产消费模型\n",
    "- 订阅通知模式\n",
    "\n",
    "\n",
    "## Lock 锁"
   ]
  },
  {
   "cell_type": "code",
   "execution_count": null,
   "metadata": {},
   "outputs": [],
   "source": []
  },
  {
   "cell_type": "code",
   "execution_count": null,
   "metadata": {},
   "outputs": [],
   "source": [
    "import threading\n",
    "import time\n",
    "\n",
    "\n",
    "# flag = False    # 没干完活\n",
    "event = threading.Event()\n",
    "\n",
    "\n",
    "def worker(e, count=10):\n",
    "    cups = []\n",
    "    # global flag\n",
    "    # while not e.is_set():\n",
    "    while not e.wait(0.5):\n",
    "        print('I am working for U')\n",
    "        if len(cups) >= count:\n",
    "            # flag = True\n",
    "            e.set()\n",
    "            # break\n",
    "            continue\n",
    "        # time.sleep(0.5)  # 模拟生产1个杯子时间\n",
    "        cups.append(1)\n",
    "    print(\"Total cups done\", len(cups))\n",
    "    print('finished, cups={}'.format(len(cups)))\n",
    "\n",
    "\n",
    "def boss(e):\n",
    "    print('I am watching U')\n",
    "    # while True:    # 轮询\n",
    "    #     time.sleep(1)\n",
    "    #     if flag:\n",
    "    #         break\n",
    "    # e.wait()    # 阻塞到状态为True\n",
    "    while not e.wait(1):\n",
    "        pass\n",
    "    # 数据准备好了，下面可以做更多其他事情\n",
    "    print('good job')\n",
    "\n",
    "\n",
    "w = threading.Thread(target=worker, args=(event,), name='w')\n",
    "b1 = threading.Thread(target=boss, args=(event,), name='b1')\n",
    "b2 = threading.Thread(target=boss, args=(event,), name='b2')\n",
    "\n",
    "b1.start()\n",
    "b2.start()\n",
    "w.start()\n",
    "\n",
    "# n个观察者，变化后通知观察者\n",
    "# 生产消费模型，消费者消费\n",
    "# while True: pass 每隔多少时间问一次，如果没有完成，白问；浪费CPU时间片\n",
    "# 通知，发布订阅模式 e.wait() # 阻塞 等一个状态的变化"
   ]
  },
  {
   "cell_type": "code",
   "execution_count": null,
   "metadata": {},
   "outputs": [],
   "source": []
  },
  {
   "cell_type": "code",
   "execution_count": null,
   "metadata": {},
   "outputs": [],
   "source": [
    "* logging"
   ]
  },
  {
   "cell_type": "code",
   "execution_count": null,
   "metadata": {},
   "outputs": [],
   "source": [
    "RootLogger root"
   ]
  },
  {
   "cell_type": "code",
   "execution_count": null,
   "metadata": {},
   "outputs": [],
   "source": [
    "import logging\n",
    "\n",
    "\n",
    "# thread threadName process processName\n",
    "# 调整root记录器的配置函数\n",
    "# level级别，filename为root增加一个FileHandler\n",
    "# 如果没有Filename，就会为root增加一个StreamHandler（console）\n",
    "# basicConfig之后，root的handlers属性列表中只有一个handler\n",
    "FORMAT = \"[%(asctime)s] %(thread)s %(message)s\"\n",
    "logging.basicConfig(level=logging.INFO, format=FORMAT,\n",
    "                    datefmt=\"%Y-%m-%d %H:%M:%S\",\n",
    "                    filename='D:/test.log',# 有了这个参数，就不去控制台，默认a模式\n",
    "                    filemode='w'\n",
    "                    )\n",
    "\n",
    "\n",
    "# 日志记录，需要使用 日志记录器 对象，记录器可以控制输出到console或文件\n",
    "# logging当中已经默认定义了一个root：根logger对象\n",
    "\n",
    "# root = RootLogger(WARNING)\n",
    "# logging.root  # 使用日志消息限制级别为警告WARNING，消息默认写到console(控制台)\n",
    "# 日志级别：DEBUG INFO WARNING ERROR CRITICAL\n",
    "# 消息：生成一个日志消息，消息有严重程度，消息有级别\n",
    "# 日志记录器：也有级别 消息想通过改记录器记录下来，首先必须和记录器级别进行大小比较\n",
    "# 日志级别 record's level >= 记录器级别 logger.level\n",
    "# record's level >= logger的 **有效级别(logger)** 第一关\n",
    "\n",
    "# 输出到控制台或文件 是日志记录器做的么？\n",
    "# 不是记录器做的，是记录器中的处理器handler做的\n",
    "# handler 是真正干活的，记录日志。不同类别：控制台handler(stdout\\stderr)、文件handler\n",
    "# logger可以拥有多个handler，有个属性handlers\n",
    "# 每一个handler又有自己的level，只不过默认是0\n",
    "\n",
    "# 控制输出格式：Formatter 每一个handler是输出者，它的格式就必须使用Formatter对象定义的格式输出\n",
    "\n",
    "\n",
    "# logging.info('info message')  # 默认使用root_logger 记录器\n",
    "# logging.warning('warning string')\n",
    "# logging.error('error string')\n",
    "\n",
    "print(logging.root.handlers)  # FileHandler h1\n",
    "h2 = logging.StreamHandler()  # 没有设置format 走默认 %(message)s\n",
    "h2.setFormatter(logging.Formatter('*** %(message)s ***'))\n",
    "h2.setLevel(21)\n",
    "logging.root.addHandler(h2)\n",
    "print(logging.root.handlers)  # FileHandler h1\n",
    "\n",
    "logging.root.handlers = []\n",
    "logging.info('t100')  # root logger\n",
    "print(logging.root.handlers)\n",
    "print(logging.root)\n"
   ]
  },
  {
   "cell_type": "code",
   "execution_count": null,
   "metadata": {},
   "outputs": [],
   "source": []
  },
  {
   "cell_type": "code",
   "execution_count": null,
   "metadata": {},
   "outputs": [],
   "source": [
    "* 有效级别 effective level"
   ]
  },
  {
   "cell_type": "markdown",
   "metadata": {},
   "source": [
    "- root      30\n",
    "- a         级别0 有效级别30\n",
    "- a.a1      级别0 有效级别30\n",
    "- a.a1.a11  级别0 有效级别30\n",
    "\n",
    "- root\n",
    "- a1   # logger a1的父 不是a 而是root 注意\n",
    "- a1.a12\n",
    "\n",
    "logger = logging.getLogger('a.a1.a11')\n",
    "logger.info('info test string')  # 不能输出  20>0 但是 <30 有效级别\n",
    "\n",
    "有效级别定义：自己级别如果为0，取离自己最近不是0的祖先的级别为自己的有效级别\n",
    "\n",
    "日志是否能输出，要看 记录的级别 是否 >= logger的有效级别 # 第一关"
   ]
  },
  {
   "cell_type": "code",
   "execution_count": null,
   "metadata": {},
   "outputs": [],
   "source": [
    "import logging\n",
    "\n",
    "logger = logging.getLogger('cmdb')   # 传播True\n",
    "# logger.parent root\n",
    "# logging.root.handlers = []\n",
    "# logging.info('t100')  # root logger\n",
    "# print(logging.root.handlers)\n",
    "# print(logging.root)\n",
    "\n",
    "# 自定义logger\n",
    "# x = logging.getLogger()  # 无参数，默认获取是 root logger\n",
    "# 继承和传播，有效level\n",
    "# logger.Logger.manager 同一个字典中，sys.modules\n",
    "# 为了简化，logger可以没有handler，但是默认propagate(传播)是打开的，向父传播\n",
    "# 传播规则：root根，a b cmdb ... 的父 都是root\n",
    "# a.a1 的父是a, a.a2的父是a # a.a1.a11  a11->a1->a->root\n",
    "# 日志记录器初始化时 没有定义级别，默认时0 NOSET\n",
    "# 这时候，第一关比较改为record's level >= logger effective level 有效级别\n",
    "# 有效级别：离当前logger最近的哪个不是0的父logger(祖先logger)的级别\n",
    "logger = logging.getLogger('cmdb')  # 某些单独使用日志配置\n",
    "print(logger.handlers, logger.level, logger.getEffectiveLevel())\n",
    "logger.info('5678')"
   ]
  },
  {
   "cell_type": "code",
   "execution_count": null,
   "metadata": {},
   "outputs": [],
   "source": [
    "* 多线程中 输出最好用logging模块 方便 直观"
   ]
  },
  {
   "cell_type": "code",
   "execution_count": null,
   "metadata": {},
   "outputs": [],
   "source": [
    "import threading\n",
    "import logging\n",
    "\n",
    "\n",
    "# flag = False    # 没干完活\n",
    "event = threading.Event()\n",
    "FORMAT = '%(asctime)s %(threadName)s %(thread)d %(levelname)s: %(message)s'\n",
    "logging.basicConfig(level=logging.INFO, format=FORMAT, datefmt='%F %T')\n",
    "\n",
    "def worker(e, count=10):\n",
    "    cups = []\n",
    "    # global flag\n",
    "    # while not e.is_set():\n",
    "    while not e.wait(0.5):\n",
    "        logging.info('I am working for U')\n",
    "        if len(cups) >= count:\n",
    "            # flag = True\n",
    "            e.set()\n",
    "            # break\n",
    "            continue\n",
    "        # time.sleep(0.5)  # 模拟生产1个杯子时间\n",
    "        cups.append(1)\n",
    "    logging.info(\"Total cups done {}\".format(len(cups)))\n",
    "    logging.info('finished, cups={}'.format(len(cups)))\n",
    "\n",
    "\n",
    "def boss(e):\n",
    "    logging.info('I am watching U')\n",
    "    # while True:    # 轮询\n",
    "    #     time.sleep(1)\n",
    "    #     if flag:\n",
    "    #         break\n",
    "    e.wait()    # 阻塞到状态为True\n",
    "    # 数据准备好了，下面可以做更多其他事情\n",
    "    logging.info('good job')\n",
    "\n",
    "\n",
    "w = threading.Thread(target=worker, args=(event,), name='w')\n",
    "b1 = threading.Thread(target=boss, args=(event,), name='b1')\n",
    "b2 = threading.Thread(target=boss, args=(event,), name='b2')\n",
    "\n",
    "b1.start()\n",
    "b2.start()\n",
    "w.start()"
   ]
  },
  {
   "cell_type": "code",
   "execution_count": null,
   "metadata": {},
   "outputs": [],
   "source": []
  },
  {
   "cell_type": "markdown",
   "metadata": {},
   "source": [
    "# Lock \n",
    "  - Lock类是mutex互斥锁\n",
    "  - 一旦一个线程获得锁，其他**试图获取锁的线程**将被阻塞，只有拥有锁的线程释放锁\n",
    "  - 凡是存在共享资源争抢的抵挡都可以使用锁，从而保证只有一个使用者可以完全使用这个资源\n",
    "  \n",
    "  - acquire(bloaking=True, timeout=-1)    \n",
    "    - 默认阻塞，阻塞可以设置超时时间。非阻塞时，timeout禁止设置\n",
    "  - release()   \n",
    "    - 释放锁。可以从任何线程调用释放；\n",
    "    - 已上锁的锁，会被重置为unlocked\n",
    "    - 未上锁的上锁调用，抛RuntimeError异常"
   ]
  },
  {
   "cell_type": "code",
   "execution_count": null,
   "metadata": {},
   "outputs": [],
   "source": []
  },
  {
   "cell_type": "code",
   "execution_count": null,
   "metadata": {},
   "outputs": [],
   "source": []
  },
  {
   "cell_type": "code",
   "execution_count": null,
   "metadata": {},
   "outputs": [],
   "source": []
  },
  {
   "cell_type": "code",
   "execution_count": null,
   "metadata": {},
   "outputs": [],
   "source": []
  },
  {
   "cell_type": "code",
   "execution_count": null,
   "metadata": {},
   "outputs": [],
   "source": []
  },
  {
   "cell_type": "code",
   "execution_count": null,
   "metadata": {},
   "outputs": [],
   "source": []
  },
  {
   "cell_type": "code",
   "execution_count": null,
   "metadata": {},
   "outputs": [],
   "source": []
  },
  {
   "cell_type": "code",
   "execution_count": null,
   "metadata": {},
   "outputs": [],
   "source": []
  },
  {
   "cell_type": "code",
   "execution_count": null,
   "metadata": {},
   "outputs": [],
   "source": []
  },
  {
   "cell_type": "code",
   "execution_count": null,
   "metadata": {},
   "outputs": [],
   "source": []
  },
  {
   "cell_type": "code",
   "execution_count": null,
   "metadata": {},
   "outputs": [],
   "source": []
  },
  {
   "cell_type": "code",
   "execution_count": null,
   "metadata": {},
   "outputs": [],
   "source": []
  },
  {
   "cell_type": "code",
   "execution_count": null,
   "metadata": {},
   "outputs": [],
   "source": []
  },
  {
   "cell_type": "code",
   "execution_count": null,
   "metadata": {},
   "outputs": [],
   "source": []
  },
  {
   "cell_type": "code",
   "execution_count": null,
   "metadata": {},
   "outputs": [],
   "source": []
  },
  {
   "cell_type": "code",
   "execution_count": null,
   "metadata": {},
   "outputs": [],
   "source": []
  },
  {
   "cell_type": "code",
   "execution_count": null,
   "metadata": {},
   "outputs": [],
   "source": []
  },
  {
   "cell_type": "code",
   "execution_count": null,
   "metadata": {},
   "outputs": [],
   "source": []
  },
  {
   "cell_type": "code",
   "execution_count": null,
   "metadata": {},
   "outputs": [],
   "source": []
  },
  {
   "cell_type": "code",
   "execution_count": null,
   "metadata": {},
   "outputs": [],
   "source": []
  },
  {
   "cell_type": "code",
   "execution_count": null,
   "metadata": {},
   "outputs": [],
   "source": []
  },
  {
   "cell_type": "code",
   "execution_count": null,
   "metadata": {},
   "outputs": [],
   "source": []
  },
  {
   "cell_type": "code",
   "execution_count": null,
   "metadata": {},
   "outputs": [],
   "source": []
  },
  {
   "cell_type": "code",
   "execution_count": null,
   "metadata": {},
   "outputs": [],
   "source": []
  },
  {
   "cell_type": "code",
   "execution_count": null,
   "metadata": {},
   "outputs": [],
   "source": []
  },
  {
   "cell_type": "code",
   "execution_count": null,
   "metadata": {},
   "outputs": [],
   "source": []
  },
  {
   "cell_type": "code",
   "execution_count": null,
   "metadata": {},
   "outputs": [],
   "source": []
  },
  {
   "cell_type": "code",
   "execution_count": null,
   "metadata": {},
   "outputs": [],
   "source": []
  }
 ],
 "metadata": {
  "kernelspec": {
   "display_name": "Python 3",
   "language": "python",
   "name": "python3"
  },
  "language_info": {
   "codemirror_mode": {
    "name": "ipython",
    "version": 3
   },
   "file_extension": ".py",
   "mimetype": "text/x-python",
   "name": "python",
   "nbconvert_exporter": "python",
   "pygments_lexer": "ipython3",
   "version": "3.7.5"
  }
 },
 "nbformat": 4,
 "nbformat_minor": 4
}
