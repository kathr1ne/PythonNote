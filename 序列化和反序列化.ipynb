{
 "cells": [
  {
   "cell_type": "raw",
   "metadata": {},
   "source": [
    "* ini文件处理\n",
    "\n",
    "[DEFAULT]\n",
    "a = test\n",
    "\n",
    "[mysql]\n",
    "default-character-set=utf8\n",
    "\n",
    "[mysqld]\n",
    "datadir = /dbserver/data\n",
    "port = 3306\n",
    "character-set-server = utf8\n",
    "sq_mode = NO_ENGINE_SUBSTITUTION,STRICT_TRANS_TABLES\n"
   ]
  },
  {
   "cell_type": "code",
   "execution_count": null,
   "metadata": {},
   "outputs": [],
   "source": [
    "可以字典操作\n",
    "\n",
    "sections => key     option+values => value\n",
    "options  => key     values => value"
   ]
  },
  {
   "cell_type": "code",
   "execution_count": null,
   "metadata": {},
   "outputs": [],
   "source": [
    "from configparser import ConfigParser\n",
    "\n",
    "cfg = ConfigParser()\n",
    "cfg.read('mysql.ini')\n",
    "print(cfg.sections()) # sections 不包含 DEFAULT\n",
    "\n",
    "for i in cfg.sections():\n",
    "    print(i, type(i))\n",
    "\n",
    "print('=' * 30)\n",
    "\n",
    "for section, v in cfg.items():\n",
    "    print(type(section), section, type(v), v)\n",
    "    print(cfg.items(section))\n",
    "    print('=' * 30)\n",
    "\n",
    "for k, v in cfg.items('mysqld'):\n",
    "    print(type(k), type(v), k, v)\n",
    "print('=' * 30)\n",
    "\n",
    "\n",
    "x = cfg.get('mysqld', 'port')\n",
    "print(type(x), x, int(x))\n",
    "\n",
    "x = cfg.get('mysqld', 'a')\n",
    "print(type(x), x, False if x.lower() == 'false' else True)\n",
    "\n",
    "x = cfg.getint('mysqld', 'port')\n",
    "print(type(x), x)\n",
    "\n",
    "x = cfg.getboolean('mysqld', 'a')\n",
    "print(type(x), x)\n",
    "\n",
    "x = cfg.get('mysqld', 'b')\n",
    "# print(type(x), x, [int(i) for i in x.strip('[]').split(',')])\n",
    "print(type(x), x, map(int, x.strip('[]').split(',')))\n",
    "\n",
    "x = cfg.get('mysqld', 'c', fallback=[1,'2',3])\n",
    "print(type(x), x)\n",
    "print('=' * 30)\n",
    "\n",
    "cfg.set('mysqld', 'c', 'cccccc')\n",
    "x = cfg.get('mysqld', 'c', fallback=[1,2,3])\n",
    "print(type(x), x)\n",
    "\n",
    "print('=' * 30)\n",
    "cfg.add_section('t1')\n",
    "cfg['t1']['a'] = '100'\n",
    "cfg['t1'] = {'ttt': '300', 'a': '400'}\n",
    "\n",
    "x = cfg.get('t1', 'a')\n",
    "print(type(x), x)\n",
    "\n",
    "with open('test.ini', 'w') as f:\n",
    "    cfg.write(f)"
   ]
  },
  {
   "cell_type": "markdown",
   "metadata": {},
   "source": []
  },
  {
   "cell_type": "markdown",
   "metadata": {
    "scrolled": true
   },
   "source": [
    "* 定义\n",
    "    - serialization 序列化\n",
    "    将内存中对象存储下来，把它变成一个个字节。 -> 二进制\n",
    "    \n",
    "    - deserialization 反序列化\n",
    "    将文件的一个个字节恢复成内存中对象。 <- 二进制\n",
    "    \n",
    "    序列化保存到文件就是持久化"
   ]
  },
  {
   "cell_type": "markdown",
   "metadata": {},
   "source": [
    "* pickle\n",
    "    - python中的序列化、反序列化模块\n",
    "        - dumps 对象序列化为bytes对象\n",
    "        - dump  对象序列化到文件对象，就是存入文件\n",
    "        - loads 从bytes对象反序列化\n",
    "        - load  对象反序列化，从文件读取数据\n",
    "\n",
    "\n",
    "* 内存中的数据都是0和1，展示给我们是16进制，本无差别，除非你赋予了它们类型\n",
    "* 边界，数据和数据必须有边界\n",
    "\n",
    "- pickle python支持，并且python所有内建类型它都支持序列化\n",
    "- 但是 pickle不能跨语言（局限于python），不能跨平台\n",
    "\n",
    "- 解决：需要公共协议\n",
    "  - 文本\n",
    "    - XML\n",
    "    - Json\n",
    "  - 二进制\n",
    "    - Protocol Buffer  (学习难度大)\n",
    "    - msgpack  （python当中 使用非常广泛;序列二进制首选）"
   ]
  },
  {
   "cell_type": "code",
   "execution_count": 1,
   "metadata": {},
   "outputs": [],
   "source": [
    "import pickle"
   ]
  },
  {
   "cell_type": "code",
   "execution_count": 2,
   "metadata": {},
   "outputs": [],
   "source": [
    "99  --> 63\n",
    "'c' --> 63"
   ]
  },
  {
   "cell_type": "code",
   "execution_count": 3,
   "metadata": {},
   "outputs": [
    {
     "data": {
      "text/plain": [
       "['1', '2', '3']"
      ]
     },
     "execution_count": 3,
     "metadata": {},
     "output_type": "execute_result"
    }
   ],
   "source": [
    "list('123')"
   ]
  },
  {
   "cell_type": "markdown",
   "metadata": {},
   "source": [
    "* 序列化\n",
    "    - 文本序列化(json常用)\n",
    "      - dumps   # json编码\n",
    "      - dump    # json编码并存入文件\n",
    "      - loads   # json解码\n",
    "      - load    # json解码，从文件读取数据\n",
    "      主要做网络传输，传输的时候，考虑压缩它；json数据很少落地\n",
    "    \n",
    "    \n",
    "    - 二进制序列化\n",
    "    \n",
    " "
   ]
  },
  {
   "cell_type": "code",
   "execution_count": 4,
   "metadata": {},
   "outputs": [],
   "source": [
    "d = {'name': 'Tom', 'age': 200, 'interest': ('movie', 'music'), 'class': ['python']}"
   ]
  },
  {
   "cell_type": "code",
   "execution_count": 6,
   "metadata": {},
   "outputs": [
    {
     "name": "stdout",
     "output_type": "stream",
     "text": [
      "{'name': 'Tom', 'age': 200, 'interest': ('movie', 'music'), 'class': ['python']} <class 'dict'>\n"
     ]
    }
   ],
   "source": [
    "print(d, type(d))"
   ]
  },
  {
   "cell_type": "code",
   "execution_count": 7,
   "metadata": {},
   "outputs": [],
   "source": [
    "import json"
   ]
  },
  {
   "cell_type": "code",
   "execution_count": 11,
   "metadata": {},
   "outputs": [
    {
     "name": "stdout",
     "output_type": "stream",
     "text": [
      "<class 'str'>\n",
      "{\"name\": \"Tom\", \"age\": 200, \"interest\": [\"movie\", \"music\"], \"class\": [\"python\"]}\n"
     ]
    }
   ],
   "source": [
    "x = json.dumps(d)  # tuple转换成了数组（列表）\n",
    "print(type(x))\n",
    "print(x)"
   ]
  },
  {
   "cell_type": "code",
   "execution_count": 14,
   "metadata": {},
   "outputs": [
    {
     "data": {
      "application/javascript": [
       "var t = {\"name\": \"Tom\", \"age\": 200, \"interest\": [\"movie\", \"music\"], \"class\": [\"python\"]}\n",
       "console.log(typeof t, t)\n",
       "console.log(t.name, t.age)\n"
      ],
      "text/plain": [
       "<IPython.core.display.Javascript object>"
      ]
     },
     "metadata": {},
     "output_type": "display_data"
    }
   ],
   "source": [
    "%%js\n",
    "var t = {\"name\": \"Tom\", \"age\": 200, \"interest\": [\"movie\", \"music\"], \"class\": [\"python\"]}\n",
    "console.log(typeof t, t)\n",
    "console.log(t.name, t.age)"
   ]
  },
  {
   "cell_type": "code",
   "execution_count": 16,
   "metadata": {},
   "outputs": [
    {
     "name": "stdout",
     "output_type": "stream",
     "text": [
      "{'name': 'Tom', 'age': 200, 'interest': ['movie', 'music'], 'class': ['python']} <class 'dict'>\n"
     ]
    }
   ],
   "source": [
    "d1 = json.loads(x)\n",
    "print(d1, type(d1))  # tuple回不去了 "
   ]
  },
  {
   "cell_type": "code",
   "execution_count": 17,
   "metadata": {},
   "outputs": [
    {
     "data": {
      "text/plain": [
       "({'name': 'Tom',\n",
       "  'age': 200,\n",
       "  'interest': ('movie', 'music'),\n",
       "  'class': ['python']},\n",
       " {'name': 'Tom',\n",
       "  'age': 200,\n",
       "  'interest': ['movie', 'music'],\n",
       "  'class': ['python']})"
      ]
     },
     "execution_count": 17,
     "metadata": {},
     "output_type": "execute_result"
    }
   ],
   "source": [
    "d, d1"
   ]
  },
  {
   "cell_type": "code",
   "execution_count": null,
   "metadata": {},
   "outputs": [],
   "source": []
  }
 ],
 "metadata": {
  "kernelspec": {
   "display_name": "Python 3",
   "language": "python",
   "name": "python3"
  },
  "language_info": {
   "codemirror_mode": {
    "name": "ipython",
    "version": 3
   },
   "file_extension": ".py",
   "mimetype": "text/x-python",
   "name": "python",
   "nbconvert_exporter": "python",
   "pygments_lexer": "ipython3",
   "version": "3.7.5"
  }
 },
 "nbformat": 4,
 "nbformat_minor": 4
}
