{
 "cells": [
  {
   "cell_type": "code",
   "execution_count": 55,
   "metadata": {},
   "outputs": [],
   "source": [
    "def counter():\n",
    "    global c\n",
    "    c = 0\n",
    "    def inc():\n",
    "        global c\n",
    "        c += 1\n",
    "        return c\n",
    "    return inc"
   ]
  },
  {
   "cell_type": "code",
   "execution_count": 56,
   "metadata": {},
   "outputs": [],
   "source": [
    "f = counter()"
   ]
  },
  {
   "cell_type": "code",
   "execution_count": 65,
   "metadata": {},
   "outputs": [
    {
     "data": {
      "text/plain": [
       "(8, 9, 9)"
      ]
     },
     "execution_count": 65,
     "metadata": {},
     "output_type": "execute_result"
    }
   ],
   "source": [
    "c, f(), c"
   ]
  },
  {
   "cell_type": "code",
   "execution_count": 4,
   "metadata": {},
   "outputs": [
    {
     "data": {
      "text/plain": [
       "(<function __main__.counter.<locals>.inc()>, function)"
      ]
     },
     "execution_count": 4,
     "metadata": {},
     "output_type": "execute_result"
    }
   ],
   "source": [
    "f, type(f)"
   ]
  },
  {
   "cell_type": "code",
   "execution_count": 91,
   "metadata": {},
   "outputs": [
    {
     "name": "stdout",
     "output_type": "stream",
     "text": [
      "0\n",
      "2\n",
      "4\n",
      "6\n",
      "8\n"
     ]
    }
   ],
   "source": [
    "for i in range(10):\n",
    "    if i & 1:  # 与运算 判断奇偶\n",
    "        continue\n",
    "    print(i)"
   ]
  },
  {
   "cell_type": "code",
   "execution_count": 6,
   "metadata": {},
   "outputs": [
    {
     "name": "stdout",
     "output_type": "stream",
     "text": [
      "1\n",
      "3\n",
      "5\n",
      "7\n",
      "9\n"
     ]
    }
   ],
   "source": [
    "for i in range(1, 10, 2):\n",
    "    print(i)"
   ]
  },
  {
   "cell_type": "code",
   "execution_count": 7,
   "metadata": {},
   "outputs": [
    {
     "name": "stdout",
     "output_type": "stream",
     "text": [
      "end for +++\n"
     ]
    }
   ],
   "source": [
    "for i in []:\n",
    "    print('+++++')\n",
    "else:\n",
    "    print('end for +++')"
   ]
  },
  {
   "cell_type": "code",
   "execution_count": 8,
   "metadata": {},
   "outputs": [
    {
     "name": "stdout",
     "output_type": "stream",
     "text": [
      "0\n",
      "2\n",
      "4\n",
      "6\n",
      "8\n",
      "end ~~~~\n"
     ]
    }
   ],
   "source": [
    "for i in range(10):\n",
    "    if i % 2: continue\n",
    "    print(i)\n",
    "else:\n",
    "    print('end ~~~~')"
   ]
  },
  {
   "cell_type": "code",
   "execution_count": 9,
   "metadata": {},
   "outputs": [
    {
     "data": {
      "text/plain": [
       "(0, 1)"
      ]
     },
     "execution_count": 9,
     "metadata": {},
     "output_type": "execute_result"
    }
   ],
   "source": [
    "2 % 2, 3 % 2"
   ]
  },
  {
   "cell_type": "code",
   "execution_count": 10,
   "metadata": {},
   "outputs": [
    {
     "name": "stdout",
     "output_type": "stream",
     "text": [
      "++++\n",
      "++++\n",
      "++++\n",
      "++++\n",
      "++++\n",
      "++++\n"
     ]
    }
   ],
   "source": [
    "for i in range(10):\n",
    "    # print('+++++')\n",
    "    if i > 5: break\n",
    "    print('++++')\n",
    "else:\n",
    "    print('end ~~~')"
   ]
  },
  {
   "cell_type": "code",
   "execution_count": 11,
   "metadata": {},
   "outputs": [
    {
     "name": "stdout",
     "output_type": "stream",
     "text": [
      ">>pyt\n",
      "pyt\n"
     ]
    }
   ],
   "source": [
    "value = input('>>')\n",
    "if value:\n",
    "    print(value)\n",
    "else:\n",
    "    print('emptyu')"
   ]
  },
  {
   "cell_type": "code",
   "execution_count": 12,
   "metadata": {},
   "outputs": [
    {
     "name": "stdout",
     "output_type": "stream",
     "text": [
      ">>mm\n",
      "mm\n"
     ]
    }
   ],
   "source": [
    "value = input('>>')\n",
    "print(value if value else print('empty'))"
   ]
  },
  {
   "cell_type": "code",
   "execution_count": 28,
   "metadata": {},
   "outputs": [
    {
     "name": "stdout",
     "output_type": "stream",
     "text": [
      "1 * 1 = 1\t\n",
      "2 * 1 = 2\t2 * 2 = 4\t\n",
      "3 * 1 = 3\t3 * 2 = 6\t3 * 3 = 9\t\n",
      "4 * 1 = 4\t4 * 2 = 8\t4 * 3 = 12\t4 * 4 = 16\t\n",
      "5 * 1 = 5\t5 * 2 = 10\t5 * 3 = 15\t5 * 4 = 20\t5 * 5 = 25\t\n",
      "6 * 1 = 6\t6 * 2 = 12\t6 * 3 = 18\t6 * 4 = 24\t6 * 5 = 30\t6 * 6 = 36\t\n",
      "7 * 1 = 7\t7 * 2 = 14\t7 * 3 = 21\t7 * 4 = 28\t7 * 5 = 35\t7 * 6 = 42\t7 * 7 = 49\t\n",
      "8 * 1 = 8\t8 * 2 = 16\t8 * 3 = 24\t8 * 4 = 32\t8 * 5 = 40\t8 * 6 = 48\t8 * 7 = 56\t8 * 8 = 64\t\n",
      "9 * 1 = 9\t9 * 2 = 18\t9 * 3 = 27\t9 * 4 = 36\t9 * 5 = 45\t9 * 6 = 54\t9 * 7 = 63\t9 * 8 = 72\t9 * 9 = 81\t\n"
     ]
    }
   ],
   "source": [
    "# 99乘法表\n",
    "for x in range(1, 10):\n",
    "    for y in range(1, x + 1):\n",
    "        print(f'{x} * {y} = {x*y}\\t', end='')\n",
    "    print()"
   ]
  },
  {
   "cell_type": "code",
   "execution_count": 29,
   "metadata": {},
   "outputs": [
    {
     "name": "stdout",
     "output_type": "stream",
     "text": [
      "1\n"
     ]
    }
   ],
   "source": [
    "for i in range(1, 2):\n",
    "    print(i)"
   ]
  },
  {
   "cell_type": "code",
   "execution_count": 88,
   "metadata": {},
   "outputs": [
    {
     "name": "stdout",
     "output_type": "stream",
     "text": [
      "1\n",
      "2\n",
      "3\n"
     ]
    }
   ],
   "source": [
    "# 闭包\n",
    "\n",
    "c= 111  # 和全局变量没有关系 不建议使用全局变量 为了封装 非要使用 - 传参\n",
    "def counter():\n",
    "    c = 0\n",
    "    def inc():\n",
    "        nonlocal c    # 将c声明为非本地定义 但一定不是全局变量\n",
    "        c += 1\n",
    "        return c\n",
    "        # print(c)\n",
    "    return inc\n",
    "\n",
    "foo = counter()\n",
    "print(foo())\n",
    "print(foo())\n",
    "print(foo())"
   ]
  },
  {
   "cell_type": "code",
   "execution_count": 73,
   "metadata": {},
   "outputs": [
    {
     "data": {
      "text/plain": [
       "6"
      ]
     },
     "execution_count": 73,
     "metadata": {},
     "output_type": "execute_result"
    }
   ],
   "source": [
    "foo()"
   ]
  },
  {
   "cell_type": "code",
   "execution_count": 77,
   "metadata": {},
   "outputs": [
    {
     "ename": "NameError",
     "evalue": "name 'c' is not defined",
     "output_type": "error",
     "traceback": [
      "\u001b[1;31m---------------------------------------------------------------------------\u001b[0m",
      "\u001b[1;31mNameError\u001b[0m                                 Traceback (most recent call last)",
      "\u001b[1;32m<ipython-input-77-2b66fd261ee5>\u001b[0m in \u001b[0;36m<module>\u001b[1;34m\u001b[0m\n\u001b[1;32m----> 1\u001b[1;33m \u001b[0mc\u001b[0m\u001b[1;33m\u001b[0m\u001b[1;33m\u001b[0m\u001b[0m\n\u001b[0m",
      "\u001b[1;31mNameError\u001b[0m: name 'c' is not defined"
     ]
    }
   ],
   "source": [
    "c"
   ]
  },
  {
   "cell_type": "code",
   "execution_count": 80,
   "metadata": {
    "scrolled": true
   },
   "outputs": [
    {
     "ename": "SyntaxError",
     "evalue": "no binding for nonlocal 'n' found (<ipython-input-80-75ff280a42eb>, line 3)",
     "output_type": "error",
     "traceback": [
      "\u001b[1;36m  File \u001b[1;32m\"<ipython-input-80-75ff280a42eb>\"\u001b[1;36m, line \u001b[1;32m3\u001b[0m\n\u001b[1;33m    nonlocal n\u001b[0m\n\u001b[1;37m    ^\u001b[0m\n\u001b[1;31mSyntaxError\u001b[0m\u001b[1;31m:\u001b[0m no binding for nonlocal 'n' found\n"
     ]
    }
   ],
   "source": [
    "n = 100\n",
    "def a():\n",
    "    nonlocal n   # nonlocal 不能使用全局变量 非本地 向外层函数找非全局变量的局部变量\n",
    "    print(n)"
   ]
  },
  {
   "cell_type": "code",
   "execution_count": 92,
   "metadata": {},
   "outputs": [],
   "source": [
    "# 变量作用域：LEGB    \n",
    "# Local: 本地局部作用域的local命名空间 函数调用时创建、调用结束消亡\n",
    "# Enclosing: 嵌套函数中的外层函数\n",
    "# Global: 全局\n",
    "# BiuldIn: 内建\n",
    "\n",
    "# 使用的优先顺序 优先用自己的\n",
    "# 局部变量 对外是不可见的 向内穿透 就近原则寻找"
   ]
  },
  {
   "cell_type": "markdown",
   "metadata": {},
   "source": [
    "- 可迭代对象： 能够迭代的对象 一般指容器 包括立即得到的和惰性的（range 生成器对象） 都可以使用for循环 可以重复迭代\n",
    "- 迭代器：一定是可迭代对象 迭代器都是惰性的 都可以使用next函数拨一下 迭代器只能迭代一次 不能回头\n",
    "- 生成器：迭代器中有一类特殊得到的对象 称为生成器 生成器表达式|生成器函数\n",
    "\n",
    "|---------------------------------------------------|\n",
    "|可迭代对象 for                         |\n",
    "|列表、元组、set、dict、range                |\n",
    "|                                  \n",
    "|   |------------------------------- |         |\n",
    "|   |     迭代器 都是惰性       |         |\n",
    "|   |                      |         |\n",
    "|   |   |----------------------|   |         |\n",
    "|   |   |    生成器表达式    |   |         |\n",
    "|   |   |    生成器函数     |   |         |\n",
    "|   |   |               |   |         |\n",
    "|   |   |----------------------|   |         |\n",
    "|   |                      |         |\n",
    "|   |--------------------------------|         |\n",
    "|                                  \n",
    "|---------------------------------------------------|\n",
    "\n",
    "\n"
   ]
  },
  {
   "cell_type": "code",
   "execution_count": 156,
   "metadata": {},
   "outputs": [],
   "source": [
    "a = [2, 4, 6]\n",
    "it = iter(a)    # it是包装了a生成的心的迭代器对象"
   ]
  },
  {
   "cell_type": "code",
   "execution_count": 155,
   "metadata": {},
   "outputs": [
    {
     "name": "stdout",
     "output_type": "stream",
     "text": [
      "2\n",
      "4\n",
      "6\n"
     ]
    },
    {
     "ename": "StopIteration",
     "evalue": "",
     "output_type": "error",
     "traceback": [
      "\u001b[1;31m---------------------------------------------------------------------------\u001b[0m",
      "\u001b[1;31mStopIteration\u001b[0m                             Traceback (most recent call last)",
      "\u001b[1;32m<ipython-input-155-7bfaceeb03bf>\u001b[0m in \u001b[0;36m<module>\u001b[1;34m\u001b[0m\n\u001b[0;32m      5\u001b[0m     \u001b[0mprint\u001b[0m\u001b[1;33m(\u001b[0m\u001b[0mi\u001b[0m\u001b[1;33m)\u001b[0m\u001b[1;33m\u001b[0m\u001b[1;33m\u001b[0m\u001b[0m\n\u001b[0;32m      6\u001b[0m \u001b[1;33m\u001b[0m\u001b[0m\n\u001b[1;32m----> 7\u001b[1;33m \u001b[0mnext\u001b[0m\u001b[1;33m(\u001b[0m\u001b[0mit\u001b[0m\u001b[1;33m)\u001b[0m\u001b[1;33m\u001b[0m\u001b[1;33m\u001b[0m\u001b[0m\n\u001b[0m",
      "\u001b[1;31mStopIteration\u001b[0m: "
     ]
    }
   ],
   "source": [
    "it    # 只能从头迭代一次\n",
    "for i in it:\n",
    "    print(i)\n",
    "for i in it:\n",
    "    print(i)\n",
    "    \n",
    "next(it)"
   ]
  },
  {
   "cell_type": "code",
   "execution_count": 120,
   "metadata": {},
   "outputs": [
    {
     "name": "stdout",
     "output_type": "stream",
     "text": [
      "2\n",
      "4\n",
      "6\n",
      "Nothing\n"
     ]
    }
   ],
   "source": [
    "it = iter(a)\n",
    "print(next(it))\n",
    "print(next(it))\n",
    "print(next(it))\n",
    "print(next(it, \"Nothing\"))"
   ]
  },
  {
   "cell_type": "code",
   "execution_count": 121,
   "metadata": {},
   "outputs": [
    {
     "data": {
      "text/plain": [
       "<list_iterator at 0x20bb8d0b3d0>"
      ]
     },
     "execution_count": 121,
     "metadata": {},
     "output_type": "execute_result"
    }
   ],
   "source": [
    "it"
   ]
  },
  {
   "cell_type": "code",
   "execution_count": 136,
   "metadata": {},
   "outputs": [
    {
     "name": "stdout",
     "output_type": "stream",
     "text": [
      "<class 'tuple'> (0, 2)\n",
      "<class 'tuple'> (1, 4)\n",
      "<class 'tuple'> (2, 6)\n"
     ]
    }
   ],
   "source": [
    "for x in enumerate(a):\n",
    "    print(type(x), x)"
   ]
  },
  {
   "cell_type": "code",
   "execution_count": 140,
   "metadata": {},
   "outputs": [
    {
     "data": {
      "text/plain": [
       "<generator object <genexpr> at 0x0000020BB8DF4C80>"
      ]
     },
     "execution_count": 140,
     "metadata": {},
     "output_type": "execute_result"
    }
   ],
   "source": [
    "g = (x for x in range(5)) # 生成器对象\n",
    "g"
   ]
  },
  {
   "cell_type": "code",
   "execution_count": 159,
   "metadata": {},
   "outputs": [
    {
     "name": "stdout",
     "output_type": "stream",
     "text": [
      "(2, 1)\n",
      "(3, 3)\n",
      "(4, 5)\n",
      "(5, 7)\n",
      "(6, 9)\n"
     ]
    }
   ],
   "source": [
    "l = [1, 3, 5, 7, 9]\n",
    "for i in enumerate(l, 2):\n",
    "    print(i)"
   ]
  },
  {
   "cell_type": "code",
   "execution_count": 142,
   "metadata": {},
   "outputs": [
    {
     "name": "stdout",
     "output_type": "stream",
     "text": [
      "0 b\n",
      "1 c\n",
      "2 a\n"
     ]
    }
   ],
   "source": [
    "for k, v in enumerate({'a', 'b', 'c'}):\n",
    "    print(k, v)"
   ]
  },
  {
   "cell_type": "code",
   "execution_count": null,
   "metadata": {},
   "outputs": [],
   "source": [
    "# reversed(a)   # 一定不会反转 而且不会在内存给你生成副本\n",
    "[1, 2, 3]    # ::-1   有拷贝 复制 需要占内存空间 增加空间复杂度 消耗内存 不好"
   ]
  },
  {
   "cell_type": "code",
   "execution_count": 146,
   "metadata": {},
   "outputs": [
    {
     "data": {
      "text/plain": [
       "([2, 4, 6], 6, 4, 2)"
      ]
     },
     "execution_count": 146,
     "metadata": {},
     "output_type": "execute_result"
    }
   ],
   "source": [
    "a, a[-1], a[-2], a[-3]"
   ]
  },
  {
   "cell_type": "code",
   "execution_count": 148,
   "metadata": {},
   "outputs": [
    {
     "data": {
      "text/plain": [
       "<list_reverseiterator at 0x20bb8d04c40>"
      ]
     },
     "execution_count": 148,
     "metadata": {},
     "output_type": "execute_result"
    }
   ],
   "source": [
    "reversed(a)"
   ]
  },
  {
   "cell_type": "code",
   "execution_count": 152,
   "metadata": {},
   "outputs": [
    {
     "name": "stdout",
     "output_type": "stream",
     "text": [
      "(-3, 6)\n",
      "(-2, 4)\n",
      "(-1, 2)\n"
     ]
    }
   ],
   "source": [
    "for x in enumerate(reversed(a), -3):\n",
    "    print(x)"
   ]
  },
  {
   "cell_type": "code",
   "execution_count": 153,
   "metadata": {},
   "outputs": [
    {
     "ename": "TypeError",
     "evalue": "'set' object is not reversible",
     "output_type": "error",
     "traceback": [
      "\u001b[1;31m---------------------------------------------------------------------------\u001b[0m",
      "\u001b[1;31mTypeError\u001b[0m                                 Traceback (most recent call last)",
      "\u001b[1;32m<ipython-input-153-653f7074c4cb>\u001b[0m in \u001b[0;36m<module>\u001b[1;34m\u001b[0m\n\u001b[1;32m----> 1\u001b[1;33m \u001b[0mreversed\u001b[0m\u001b[1;33m(\u001b[0m\u001b[1;33m{\u001b[0m\u001b[1;36m1\u001b[0m\u001b[1;33m,\u001b[0m\u001b[1;36m2\u001b[0m\u001b[1;33m,\u001b[0m\u001b[1;36m3\u001b[0m\u001b[1;33m}\u001b[0m\u001b[1;33m)\u001b[0m\u001b[1;33m\u001b[0m\u001b[1;33m\u001b[0m\u001b[0m\n\u001b[0m",
      "\u001b[1;31mTypeError\u001b[0m: 'set' object is not reversible"
     ]
    }
   ],
   "source": [
    "reversed({1,2,3})   # 无序结构 不能反向 seq 能上索引 才能使用"
   ]
  },
  {
   "cell_type": "code",
   "execution_count": 173,
   "metadata": {},
   "outputs": [
    {
     "name": "stdout",
     "output_type": "stream",
     "text": [
      "l: [1, 3, 5, 7, 9]\n",
      "9\n",
      "7\n",
      "5\n",
      "3\n",
      "1\n"
     ]
    },
    {
     "data": {
      "text/plain": [
       "<list_reverseiterator at 0x20bb8d0be50>"
      ]
     },
     "execution_count": 173,
     "metadata": {},
     "output_type": "execute_result"
    }
   ],
   "source": [
    "print(f'l: {l}')\n",
    "for i in reversed(l):\n",
    "    print(i)\n",
    "reversed(l)"
   ]
  },
  {
   "cell_type": "code",
   "execution_count": 179,
   "metadata": {},
   "outputs": [
    {
     "data": {
      "text/plain": [
       "1"
      ]
     },
     "execution_count": 179,
     "metadata": {},
     "output_type": "execute_result"
    }
   ],
   "source": [
    "def couter(base):    # 形参就是当前函数的局部变量\n",
    "    def inc(step=1):\n",
    "        nonlocal base\n",
    "        base += step\n",
    "        return base\n",
    "    print(id(inc), inc)\n",
    "    return inc\n",
    "\n",
    "bar = couter(0)\n",
    "bar()"
   ]
  },
  {
   "cell_type": "code",
   "execution_count": 201,
   "metadata": {},
   "outputs": [
    {
     "data": {
      "text/plain": [
       "(2249369374784, 2249369376368)"
      ]
     },
     "execution_count": 201,
     "metadata": {},
     "output_type": "execute_result"
    }
   ],
   "source": [
    "f1 = couter(100)\n",
    "f2 = couter(100)\n",
    "\n",
    "f1 is f2    # is 比较 - id取对象内存地址\n",
    "id(f1), id(f2)\n",
    "# 每一次函数调用 都是不同的 都是独立的"
   ]
  },
  {
   "cell_type": "code",
   "execution_count": 202,
   "metadata": {},
   "outputs": [
    {
     "name": "stdout",
     "output_type": "stream",
     "text": [
      "9\n"
     ]
    }
   ],
   "source": [
    "def add(x, y):\n",
    "    return x + y\n",
    "\n",
    "print(add(4, 5))"
   ]
  },
  {
   "cell_type": "code",
   "execution_count": null,
   "metadata": {},
   "outputs": [],
   "source": [
    "add(4) => new function(5) => return 9   |   add(4)(5)"
   ]
  },
  {
   "cell_type": "code",
   "execution_count": 214,
   "metadata": {},
   "outputs": [
    {
     "data": {
      "text/plain": [
       "14"
      ]
     },
     "execution_count": 214,
     "metadata": {},
     "output_type": "execute_result"
    }
   ],
   "source": [
    "# 克里化\n",
    "\n",
    "def add(x):\n",
    "    def new_func(y, z):\n",
    "        return x + y + z\n",
    "    return new_func\n",
    "\n",
    "add(4)(5, 5)"
   ]
  },
  {
   "cell_type": "code",
   "execution_count": 215,
   "metadata": {},
   "outputs": [
    {
     "data": {
      "text/plain": [
       "14"
      ]
     },
     "execution_count": 215,
     "metadata": {},
     "output_type": "execute_result"
    }
   ],
   "source": [
    "def add(x, y):\n",
    "    def new_func(z):\n",
    "        return x + y +z\n",
    "    return new_func\n",
    "\n",
    "add(4, 5)(5)"
   ]
  },
  {
   "cell_type": "code",
   "execution_count": 228,
   "metadata": {},
   "outputs": [
    {
     "data": {
      "text/plain": [
       "15"
      ]
     },
     "execution_count": 228,
     "metadata": {},
     "output_type": "execute_result"
    }
   ],
   "source": [
    "def add(x):\n",
    "    def _add(y):\n",
    "        def _add2(z):\n",
    "            return x + y +z\n",
    "        return _add2\n",
    "    return _add\n",
    "\n",
    "add(4)(5)(6)"
   ]
  },
  {
   "cell_type": "code",
   "execution_count": 230,
   "metadata": {},
   "outputs": [
    {
     "data": {
      "text/plain": [
       "datetime.datetime(2020, 11, 14, 18, 18, 7, 386968)"
      ]
     },
     "execution_count": 230,
     "metadata": {},
     "output_type": "execute_result"
    }
   ],
   "source": [
    "import datetime\n",
    "# class datetime  timedelta  timezone\n",
    "dir(datetime)\n",
    "\n",
    "datetime.datetime.now()  # naive time 没有时区信息的时间\n",
    "# aware 包含时区的时间 不能混合计算"
   ]
  },
  {
   "cell_type": "code",
   "execution_count": 231,
   "metadata": {},
   "outputs": [
    {
     "data": {
      "text/plain": [
       "datetime.datetime(2020, 11, 14, 10, 20, 9, 740393)"
      ]
     },
     "execution_count": 231,
     "metadata": {},
     "output_type": "execute_result"
    }
   ],
   "source": [
    "datetime.datetime.utcnow()  # GMT  0时区 无时区"
   ]
  },
  {
   "cell_type": "code",
   "execution_count": 233,
   "metadata": {},
   "outputs": [
    {
     "data": {
      "text/plain": [
       "datetime.datetime(2020, 11, 14, 18, 23, 24, 524277, tzinfo=datetime.timezone(datetime.timedelta(seconds=28800)))"
      ]
     },
     "execution_count": 233,
     "metadata": {},
     "output_type": "execute_result"
    }
   ],
   "source": [
    "datetime.datetime.now(datetime.timezone(datetime.timedelta(hours=8)))"
   ]
  },
  {
   "cell_type": "code",
   "execution_count": 235,
   "metadata": {},
   "outputs": [],
   "source": [
    "datetime.timedelta??"
   ]
  },
  {
   "cell_type": "code",
   "execution_count": null,
   "metadata": {},
   "outputs": [],
   "source": [
    "datetime.datetime.fromtimestamp()"
   ]
  },
  {
   "cell_type": "code",
   "execution_count": 237,
   "metadata": {},
   "outputs": [],
   "source": [
    "datetime.datetime.strptime?"
   ]
  },
  {
   "cell_type": "code",
   "execution_count": 239,
   "metadata": {},
   "outputs": [],
   "source": [
    "d = datetime.datetime.now()"
   ]
  },
  {
   "cell_type": "code",
   "execution_count": 241,
   "metadata": {},
   "outputs": [
    {
     "data": {
      "text/plain": [
       "'2020 11 14 18:35:24'"
      ]
     },
     "execution_count": 241,
     "metadata": {},
     "output_type": "execute_result"
    }
   ],
   "source": [
    "d.strftime(\"%Y %m %d %H:%M:%S\")"
   ]
  },
  {
   "cell_type": "code",
   "execution_count": 256,
   "metadata": {},
   "outputs": [
    {
     "data": {
      "text/plain": [
       "'2020 11 14 18:35:24'"
      ]
     },
     "execution_count": 256,
     "metadata": {},
     "output_type": "execute_result"
    }
   ],
   "source": [
    "\"{:%Y %m %d %H:%M:%S}\".format(d)  # ?"
   ]
  },
  {
   "cell_type": "code",
   "execution_count": 246,
   "metadata": {},
   "outputs": [
    {
     "data": {
      "text/plain": [
       "datetime.datetime(2020, 11, 14, 18, 35, 24, 26887)"
      ]
     },
     "execution_count": 246,
     "metadata": {},
     "output_type": "execute_result"
    }
   ],
   "source": [
    "d"
   ]
  },
  {
   "cell_type": "code",
   "execution_count": 247,
   "metadata": {},
   "outputs": [],
   "source": [
    "d1 = datetime.datetime.now()"
   ]
  },
  {
   "cell_type": "code",
   "execution_count": 257,
   "metadata": {},
   "outputs": [],
   "source": [
    "datetime.timedelta?"
   ]
  },
  {
   "cell_type": "code",
   "execution_count": 259,
   "metadata": {},
   "outputs": [],
   "source": [
    "import time\n",
    "time.sleep(5)  # 当前线程阻塞5s"
   ]
  },
  {
   "cell_type": "code",
   "execution_count": null,
   "metadata": {},
   "outputs": [],
   "source": []
  },
  {
   "cell_type": "code",
   "execution_count": 2,
   "metadata": {},
   "outputs": [],
   "source": [
    "def add(x, y):\n",
    "    print('add called, x = {}, y = {}'.format(x, y))     # 侵入式代码 耦合太高\n",
    "    return x + y "
   ]
  },
  {
   "cell_type": "code",
   "execution_count": 3,
   "metadata": {},
   "outputs": [
    {
     "name": "stdout",
     "output_type": "stream",
     "text": [
      "add called, x = 4, y = 5\n"
     ]
    },
    {
     "data": {
      "text/plain": [
       "9"
      ]
     },
     "execution_count": 3,
     "metadata": {},
     "output_type": "execute_result"
    }
   ],
   "source": [
    "add(4, 5)"
   ]
  },
  {
   "cell_type": "code",
   "execution_count": 1,
   "metadata": {},
   "outputs": [
    {
     "name": "stdout",
     "output_type": "stream",
     "text": [
      "调用前执行\n",
      "调用后执行\n",
      "9\n"
     ]
    }
   ],
   "source": [
    "# 记录函数执行的过程或参数的功能 我想变成通用的\n",
    "\n",
    "def logger(fn):    # fn 就是 add. logger等效为唯一形参  fn = wrapped 被包装函数\n",
    "    def wrapper(*args, **kwargs):    # wrapper() 包装函数\n",
    "        print(\"调用前执行, 增强\")\n",
    "        ret = fn(*args, **kwargs)  # fn 闭包 . 闭包会记录原来的add old_add\n",
    "        print(\"调用后执行， 增强\")\n",
    "        return ret\n",
    "    return wrapper\n",
    "\n",
    "# logger是装饰器语法 装饰下面的标识符 add = logger(add)\n",
    "# 它把下面的函数标识符 或者类标识符提上来做为logger的唯一实参\n",
    "@logger            # 等价于 add = wrapper <=> add = logger(add)\n",
    "def add(x, y):    #  add = wrapper\n",
    "    return x + y\n",
    "\n",
    "# logger(add)(4, 5)\n",
    "# add = logger(add)   # add = wrapper\n",
    "result = add(4, 5)   # wrapper(4, 5)\n",
    "print(result)\n",
    "# AOP编程模式\n",
    "# 在 ret = fn(*args, **kwargs) 函数调用前和后做增强功能"
   ]
  },
  {
   "cell_type": "code",
   "execution_count": null,
   "metadata": {},
   "outputs": [],
   "source": [
    "## 无参装饰器\n",
    "- 上例的装饰器语法 称为无参装饰器\n",
    "- @符号后面 是一个函数\n",
    "- 虽然是 无参装饰器 但是@后的函数本质上是单参函数\n",
    "- 上例的logger函数 是一个高阶函数\n"
   ]
  },
  {
   "cell_type": "code",
   "execution_count": 3,
   "metadata": {},
   "outputs": [
    {
     "name": "stdout",
     "output_type": "stream",
     "text": [
      "Function [add] took 2.000432s.\n",
      "9\n"
     ]
    }
   ],
   "source": [
    "import datetime\n",
    "import time\n",
    "\n",
    "def logger(wrapped):    # fn 就是 add. logger等效为唯一形参  fn = wrapped 被包装函数\n",
    "    def wrapper(*args, **kwargs):    # wrapper() 包装函数\n",
    "        start = datetime.datetime.now()\n",
    "        ret = wrapped(*args, **kwargs)  # fn 闭包 . 闭包会记录原来的add old_add\n",
    "        delta = (datetime.datetime.now() - start).total_seconds()\n",
    "        print('Function [{}] took {}s.'.format(wrapped.__name__, delta))\n",
    "        return ret\n",
    "    return wrapper\n",
    "\n",
    "# logger是装饰器语法 装饰下面的标识符 add = logger(add)\n",
    "# 它把下面的函数标识符 或者类标识符提上来做为logger的唯一实参\n",
    "@logger            # 等价于 add = wrapper <=> add = logger(add)\n",
    "def add(x, y):    #  add = wrapper\n",
    "    time.sleep(2)\n",
    "    return x + y\n",
    "\n",
    "# logger(add)(4, 5)\n",
    "# add = logger(add)   # add = wrapper\n",
    "result = add(4, 5)   # wrapper(4, 5)\n",
    "print(result)\n",
    "\n",
    "# wrapped.__name__\n",
    "# 函数也是对象 函数被Python加了很多的属性 __xxx__ 特殊属性\n",
    "\n",
    "# 在原函数上面 没有加入人很非业务代码"
   ]
  },
  {
   "cell_type": "code",
   "execution_count": null,
   "metadata": {},
   "outputs": [],
   "source": []
  },
  {
   "cell_type": "code",
   "execution_count": null,
   "metadata": {},
   "outputs": [],
   "source": []
  },
  {
   "cell_type": "code",
   "execution_count": null,
   "metadata": {},
   "outputs": [],
   "source": []
  },
  {
   "cell_type": "code",
   "execution_count": null,
   "metadata": {},
   "outputs": [],
   "source": []
  }
 ],
 "metadata": {
  "kernelspec": {
   "display_name": "Python 3",
   "language": "python",
   "name": "python3"
  },
  "language_info": {
   "codemirror_mode": {
    "name": "ipython",
    "version": 3
   },
   "file_extension": ".py",
   "mimetype": "text/x-python",
   "name": "python",
   "nbconvert_exporter": "python",
   "pygments_lexer": "ipython3",
   "version": "3.8.6"
  }
 },
 "nbformat": 4,
 "nbformat_minor": 4
}
